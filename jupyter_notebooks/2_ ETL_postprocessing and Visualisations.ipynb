{
 "cells": [
  {
   "cell_type": "markdown",
   "id": "5b55097c",
   "metadata": {},
   "source": [
    "# Section 2: Post-Processing"
   ]
  },
  {
   "cell_type": "markdown",
   "id": "d56e62e5",
   "metadata": {},
   "source": [
    "## Objectives"
   ]
  },
  {
   "cell_type": "markdown",
   "id": "6f60a4c8",
   "metadata": {},
   "source": [
    "We need to combine the two tables using a left join in order to create training data for the machine learning model. This is needed in the tournament in order to find out who is the winner."
   ]
  },
  {
   "cell_type": "markdown",
   "id": "cb9633b0",
   "metadata": {},
   "source": [
    "## Input Data"
   ]
  },
  {
   "cell_type": "markdown",
   "id": "a8294846",
   "metadata": {},
   "source": [
    "The input data would be the combats_cleaned.csv and the pokemon_cleaned.csv file stored under \"Dataset/cleaned\""
   ]
  },
  {
   "cell_type": "markdown",
   "id": "ba059d27",
   "metadata": {},
   "source": [
    "___"
   ]
  },
  {
   "cell_type": "markdown",
   "id": "15a7209c",
   "metadata": {},
   "source": [
    "# Change working directory"
   ]
  },
  {
   "cell_type": "markdown",
   "id": "f78950bf",
   "metadata": {},
   "source": [
    "* We are assuming you will store the notebooks in a subfolder, therefore when running the notebook in the editor, you will need to change the working directory"
   ]
  },
  {
   "cell_type": "markdown",
   "id": "e3c5e6f8",
   "metadata": {},
   "source": [
    "We need to change the working directory from its current folder to its parent folder\n",
    "* We access the current directory with os.getcwd()"
   ]
  },
  {
   "cell_type": "code",
   "execution_count": 1,
   "id": "30c95d70",
   "metadata": {},
   "outputs": [
    {
     "name": "stdout",
     "output_type": "stream",
     "text": [
      "Current working directory: /Users/danielledelouw/Documents/code_institute/Pokemon_catch_them_all/Pokemon_Catch_Them_All/jupyter_notebooks\n"
     ]
    }
   ],
   "source": [
    "import os\n",
    "current_dir = os.getcwd()\n",
    "print(\"Current working directory:\", current_dir)"
   ]
  },
  {
   "cell_type": "markdown",
   "id": "299f8211",
   "metadata": {},
   "source": [
    "We want to make the parent of the current directory the new current directory\n",
    "* os.path.dirname() gets the parent directory\n",
    "* os.chir() defines the new current directory"
   ]
  },
  {
   "cell_type": "code",
   "execution_count": 2,
   "id": "167d69d2",
   "metadata": {},
   "outputs": [
    {
     "name": "stdout",
     "output_type": "stream",
     "text": [
      "You set a new current directory\n"
     ]
    }
   ],
   "source": [
    "os.chdir(os.path.dirname(current_dir))\n",
    "print(\"You set a new current directory\")"
   ]
  },
  {
   "cell_type": "markdown",
   "id": "18c738de",
   "metadata": {},
   "source": [
    "Confirm the new current directory"
   ]
  },
  {
   "cell_type": "code",
   "execution_count": 3,
   "id": "1d962057",
   "metadata": {},
   "outputs": [
    {
     "data": {
      "text/plain": [
       "'/Users/danielledelouw/Documents/code_institute/Pokemon_catch_them_all/Pokemon_Catch_Them_All'"
      ]
     },
     "execution_count": 3,
     "metadata": {},
     "output_type": "execute_result"
    }
   ],
   "source": [
    "current_dir = os.getcwd()\n",
    "current_dir"
   ]
  },
  {
   "cell_type": "markdown",
   "id": "ca326fad",
   "metadata": {},
   "source": [
    "## Load Python Libraries"
   ]
  },
  {
   "cell_type": "code",
   "execution_count": 4,
   "id": "87252904",
   "metadata": {},
   "outputs": [],
   "source": [
    "#Load python libraries\n",
    "import pandas as pd\n",
    "import seaborn as sns \n",
    "import matplotlib.pyplot as plt\n",
    "import numpy as np\n",
    "import plotly.express as px\n",
    "import plotly.graph_objects as go\n",
    "from plotly.subplots import make_subplots\n"
   ]
  },
  {
   "cell_type": "code",
   "execution_count": 5,
   "id": "eac043d5",
   "metadata": {},
   "outputs": [
    {
     "name": "stdout",
     "output_type": "stream",
     "text": [
      "Loading Pokemon cleaned dataset\n"
     ]
    },
    {
     "data": {
      "text/html": [
       "<div>\n",
       "<style scoped>\n",
       "    .dataframe tbody tr th:only-of-type {\n",
       "        vertical-align: middle;\n",
       "    }\n",
       "\n",
       "    .dataframe tbody tr th {\n",
       "        vertical-align: top;\n",
       "    }\n",
       "\n",
       "    .dataframe thead th {\n",
       "        text-align: right;\n",
       "    }\n",
       "</style>\n",
       "<table border=\"1\" class=\"dataframe\">\n",
       "  <thead>\n",
       "    <tr style=\"text-align: right;\">\n",
       "      <th></th>\n",
       "      <th>Name</th>\n",
       "      <th>Type_1</th>\n",
       "      <th>Type_2</th>\n",
       "      <th>Total</th>\n",
       "      <th>Hit_points</th>\n",
       "      <th>Attack</th>\n",
       "      <th>Defense</th>\n",
       "      <th>Special_attack</th>\n",
       "      <th>Special_defense</th>\n",
       "      <th>Speed</th>\n",
       "      <th>Has_type_2</th>\n",
       "    </tr>\n",
       "  </thead>\n",
       "  <tbody>\n",
       "    <tr>\n",
       "      <th>0</th>\n",
       "      <td>Bulbasaur</td>\n",
       "      <td>Grass</td>\n",
       "      <td>Poison</td>\n",
       "      <td>318</td>\n",
       "      <td>45</td>\n",
       "      <td>49</td>\n",
       "      <td>49</td>\n",
       "      <td>65</td>\n",
       "      <td>65</td>\n",
       "      <td>45</td>\n",
       "      <td>True</td>\n",
       "    </tr>\n",
       "    <tr>\n",
       "      <th>1</th>\n",
       "      <td>Ivysaur</td>\n",
       "      <td>Grass</td>\n",
       "      <td>Poison</td>\n",
       "      <td>405</td>\n",
       "      <td>60</td>\n",
       "      <td>62</td>\n",
       "      <td>63</td>\n",
       "      <td>80</td>\n",
       "      <td>80</td>\n",
       "      <td>60</td>\n",
       "      <td>True</td>\n",
       "    </tr>\n",
       "    <tr>\n",
       "      <th>2</th>\n",
       "      <td>Venusaur</td>\n",
       "      <td>Grass</td>\n",
       "      <td>Poison</td>\n",
       "      <td>525</td>\n",
       "      <td>80</td>\n",
       "      <td>82</td>\n",
       "      <td>83</td>\n",
       "      <td>100</td>\n",
       "      <td>100</td>\n",
       "      <td>80</td>\n",
       "      <td>True</td>\n",
       "    </tr>\n",
       "    <tr>\n",
       "      <th>3</th>\n",
       "      <td>VenusaurMega Venusaur</td>\n",
       "      <td>Grass</td>\n",
       "      <td>Poison</td>\n",
       "      <td>625</td>\n",
       "      <td>80</td>\n",
       "      <td>100</td>\n",
       "      <td>123</td>\n",
       "      <td>122</td>\n",
       "      <td>120</td>\n",
       "      <td>80</td>\n",
       "      <td>True</td>\n",
       "    </tr>\n",
       "    <tr>\n",
       "      <th>4</th>\n",
       "      <td>Charmander</td>\n",
       "      <td>Fire</td>\n",
       "      <td>NaN</td>\n",
       "      <td>309</td>\n",
       "      <td>39</td>\n",
       "      <td>52</td>\n",
       "      <td>43</td>\n",
       "      <td>60</td>\n",
       "      <td>50</td>\n",
       "      <td>65</td>\n",
       "      <td>False</td>\n",
       "    </tr>\n",
       "    <tr>\n",
       "      <th>...</th>\n",
       "      <td>...</td>\n",
       "      <td>...</td>\n",
       "      <td>...</td>\n",
       "      <td>...</td>\n",
       "      <td>...</td>\n",
       "      <td>...</td>\n",
       "      <td>...</td>\n",
       "      <td>...</td>\n",
       "      <td>...</td>\n",
       "      <td>...</td>\n",
       "      <td>...</td>\n",
       "    </tr>\n",
       "    <tr>\n",
       "      <th>795</th>\n",
       "      <td>Diancie</td>\n",
       "      <td>Rock</td>\n",
       "      <td>Fairy</td>\n",
       "      <td>600</td>\n",
       "      <td>50</td>\n",
       "      <td>100</td>\n",
       "      <td>150</td>\n",
       "      <td>100</td>\n",
       "      <td>150</td>\n",
       "      <td>50</td>\n",
       "      <td>True</td>\n",
       "    </tr>\n",
       "    <tr>\n",
       "      <th>796</th>\n",
       "      <td>DiancieMega Diancie</td>\n",
       "      <td>Rock</td>\n",
       "      <td>Fairy</td>\n",
       "      <td>700</td>\n",
       "      <td>50</td>\n",
       "      <td>160</td>\n",
       "      <td>110</td>\n",
       "      <td>160</td>\n",
       "      <td>110</td>\n",
       "      <td>110</td>\n",
       "      <td>True</td>\n",
       "    </tr>\n",
       "    <tr>\n",
       "      <th>797</th>\n",
       "      <td>HoopaHoopa Confined</td>\n",
       "      <td>Psychic</td>\n",
       "      <td>Ghost</td>\n",
       "      <td>600</td>\n",
       "      <td>80</td>\n",
       "      <td>110</td>\n",
       "      <td>60</td>\n",
       "      <td>150</td>\n",
       "      <td>130</td>\n",
       "      <td>70</td>\n",
       "      <td>True</td>\n",
       "    </tr>\n",
       "    <tr>\n",
       "      <th>798</th>\n",
       "      <td>HoopaHoopa Unbound</td>\n",
       "      <td>Psychic</td>\n",
       "      <td>Dark</td>\n",
       "      <td>680</td>\n",
       "      <td>80</td>\n",
       "      <td>160</td>\n",
       "      <td>60</td>\n",
       "      <td>170</td>\n",
       "      <td>130</td>\n",
       "      <td>80</td>\n",
       "      <td>True</td>\n",
       "    </tr>\n",
       "    <tr>\n",
       "      <th>799</th>\n",
       "      <td>Volcanion</td>\n",
       "      <td>Fire</td>\n",
       "      <td>Water</td>\n",
       "      <td>600</td>\n",
       "      <td>80</td>\n",
       "      <td>110</td>\n",
       "      <td>120</td>\n",
       "      <td>130</td>\n",
       "      <td>90</td>\n",
       "      <td>70</td>\n",
       "      <td>True</td>\n",
       "    </tr>\n",
       "  </tbody>\n",
       "</table>\n",
       "<p>800 rows × 11 columns</p>\n",
       "</div>"
      ],
      "text/plain": [
       "                      Name   Type_1  Type_2  Total  Hit_points  Attack  \\\n",
       "0                Bulbasaur    Grass  Poison    318          45      49   \n",
       "1                  Ivysaur    Grass  Poison    405          60      62   \n",
       "2                 Venusaur    Grass  Poison    525          80      82   \n",
       "3    VenusaurMega Venusaur    Grass  Poison    625          80     100   \n",
       "4               Charmander     Fire     NaN    309          39      52   \n",
       "..                     ...      ...     ...    ...         ...     ...   \n",
       "795                Diancie     Rock   Fairy    600          50     100   \n",
       "796    DiancieMega Diancie     Rock   Fairy    700          50     160   \n",
       "797    HoopaHoopa Confined  Psychic   Ghost    600          80     110   \n",
       "798     HoopaHoopa Unbound  Psychic    Dark    680          80     160   \n",
       "799              Volcanion     Fire   Water    600          80     110   \n",
       "\n",
       "     Defense  Special_attack  Special_defense  Speed  Has_type_2  \n",
       "0         49              65               65     45        True  \n",
       "1         63              80               80     60        True  \n",
       "2         83             100              100     80        True  \n",
       "3        123             122              120     80        True  \n",
       "4         43              60               50     65       False  \n",
       "..       ...             ...              ...    ...         ...  \n",
       "795      150             100              150     50        True  \n",
       "796      110             160              110    110        True  \n",
       "797       60             150              130     70        True  \n",
       "798       60             170              130     80        True  \n",
       "799      120             130               90     70        True  \n",
       "\n",
       "[800 rows x 11 columns]"
      ]
     },
     "execution_count": 5,
     "metadata": {},
     "output_type": "execute_result"
    }
   ],
   "source": [
    "# Load the Pokemon dataset cleaned\n",
    "print(\"Loading Pokemon cleaned dataset\")\n",
    "df_pok = pd.read_csv('Dataset/cleaned/pokemon_cleaned.csv')\n",
    "df_pok"
   ]
  },
  {
   "cell_type": "code",
   "execution_count": 9,
   "id": "4a481e82",
   "metadata": {},
   "outputs": [
    {
     "name": "stdout",
     "output_type": "stream",
     "text": [
      "Loading Combats cleaned dataset\n"
     ]
    },
    {
     "data": {
      "text/html": [
       "<div>\n",
       "<style scoped>\n",
       "    .dataframe tbody tr th:only-of-type {\n",
       "        vertical-align: middle;\n",
       "    }\n",
       "\n",
       "    .dataframe tbody tr th {\n",
       "        vertical-align: top;\n",
       "    }\n",
       "\n",
       "    .dataframe thead th {\n",
       "        text-align: right;\n",
       "    }\n",
       "</style>\n",
       "<table border=\"1\" class=\"dataframe\">\n",
       "  <thead>\n",
       "    <tr style=\"text-align: right;\">\n",
       "      <th></th>\n",
       "      <th>First_pokemon</th>\n",
       "      <th>Second_pokemon</th>\n",
       "      <th>Winner</th>\n",
       "    </tr>\n",
       "  </thead>\n",
       "  <tbody>\n",
       "    <tr>\n",
       "      <th>0</th>\n",
       "      <td>266</td>\n",
       "      <td>298</td>\n",
       "      <td>298</td>\n",
       "    </tr>\n",
       "    <tr>\n",
       "      <th>1</th>\n",
       "      <td>702</td>\n",
       "      <td>701</td>\n",
       "      <td>701</td>\n",
       "    </tr>\n",
       "    <tr>\n",
       "      <th>2</th>\n",
       "      <td>191</td>\n",
       "      <td>668</td>\n",
       "      <td>668</td>\n",
       "    </tr>\n",
       "    <tr>\n",
       "      <th>3</th>\n",
       "      <td>237</td>\n",
       "      <td>683</td>\n",
       "      <td>683</td>\n",
       "    </tr>\n",
       "    <tr>\n",
       "      <th>4</th>\n",
       "      <td>151</td>\n",
       "      <td>231</td>\n",
       "      <td>151</td>\n",
       "    </tr>\n",
       "    <tr>\n",
       "      <th>...</th>\n",
       "      <td>...</td>\n",
       "      <td>...</td>\n",
       "      <td>...</td>\n",
       "    </tr>\n",
       "    <tr>\n",
       "      <th>48043</th>\n",
       "      <td>657</td>\n",
       "      <td>681</td>\n",
       "      <td>681</td>\n",
       "    </tr>\n",
       "    <tr>\n",
       "      <th>48044</th>\n",
       "      <td>707</td>\n",
       "      <td>126</td>\n",
       "      <td>707</td>\n",
       "    </tr>\n",
       "    <tr>\n",
       "      <th>48045</th>\n",
       "      <td>589</td>\n",
       "      <td>664</td>\n",
       "      <td>589</td>\n",
       "    </tr>\n",
       "    <tr>\n",
       "      <th>48046</th>\n",
       "      <td>109</td>\n",
       "      <td>89</td>\n",
       "      <td>109</td>\n",
       "    </tr>\n",
       "    <tr>\n",
       "      <th>48047</th>\n",
       "      <td>9</td>\n",
       "      <td>73</td>\n",
       "      <td>9</td>\n",
       "    </tr>\n",
       "  </tbody>\n",
       "</table>\n",
       "<p>48048 rows × 3 columns</p>\n",
       "</div>"
      ],
      "text/plain": [
       "       First_pokemon  Second_pokemon  Winner\n",
       "0                266             298     298\n",
       "1                702             701     701\n",
       "2                191             668     668\n",
       "3                237             683     683\n",
       "4                151             231     151\n",
       "...              ...             ...     ...\n",
       "48043            657             681     681\n",
       "48044            707             126     707\n",
       "48045            589             664     589\n",
       "48046            109              89     109\n",
       "48047              9              73       9\n",
       "\n",
       "[48048 rows x 3 columns]"
      ]
     },
     "execution_count": 9,
     "metadata": {},
     "output_type": "execute_result"
    }
   ],
   "source": [
    "# Load the Combats dataset cleaned\n",
    "print(\"Loading Combats cleaned dataset\")\n",
    "df_com = pd.read_csv('Dataset/cleaned/combats_cleaned.csv')\n",
    "df_com"
   ]
  },
  {
   "cell_type": "code",
   "execution_count": 6,
   "id": "fb25a9e5",
   "metadata": {},
   "outputs": [
    {
     "data": {
      "image/png": "[encoded data removed]",
      "text/plain": [
       "<Figure size 640x480 with 2 Axes>"
      ]
     },
     "metadata": {},
     "output_type": "display_data"
    }
   ],
   "source": [
    "# Select only numeric columns from the Pokemon dataframe\n",
    "numeric_df = df_pok.select_dtypes(include='number')\n",
    "\n",
    "# Compute the correlation matrix for the numeric columns\n",
    "df_pok_corr = numeric_df.corr()\n",
    "\n",
    "# Plot the correlation matrix as a heatmap\n",
    "sns.heatmap(\n",
    "    data=df_pok_corr, \n",
    "    annot=True, \n",
    "    linewidths=0.5, \n",
    "    annot_kws={\"size\": 8},\n",
    "    cmap='Greens'\n",
    ")\n",
    "plt.title('Correlation Matrix for Pokemon Dataset')\n",
    "plt.show()\n",
    "# The correlation matrix shows how strongly each pair of numeric attributes in the Pokemon dataset are related.\n",
    "# For example, 'Total' has a strong positive correlation with all other stats, especially 'Special_attack' (0.75) and 'Attack' (0.74), \n",
    "# which makes sense since 'Total' is the sum of all base stats.\n",
    "# 'Attack' and 'Defense' are moderately correlated (0.44), while 'Defense' and 'Speed' have almost no correlation (0.02).\n",
    "# The relatively low correlations between some stats (e.g., 'Hit_points' and 'Speed' at 0.18) suggest that these attributes vary independently.\n",
    "# Overall, the matrix helps identify which features might provide redundant information and which are more independent, \n",
    "# which is useful for feature selection in machine learning models."
   ]
  },
  {
   "cell_type": "code",
   "execution_count": 7,
   "id": "0441c612",
   "metadata": {},
   "outputs": [
    {
     "name": "stdout",
     "output_type": "stream",
     "text": [
      "               Total  Hit_points      Attack     Defense  Special_attack  \\\n",
      "Type_1                                                                     \n",
      "Dragon    550.531250   83.312500  112.125000   86.375000       96.843750   \n",
      "Steel     487.703704   65.222222   92.703704  126.370370       67.518519   \n",
      "Flying    485.000000   70.750000   78.750000   66.250000       94.250000   \n",
      "Psychic   475.947368   70.631579   71.456140   67.684211       98.403509   \n",
      "Fire      458.076923   69.903846   84.769231   67.769231       88.980769   \n",
      "Rock      453.750000   65.363636   92.863636  100.795455       63.340909   \n",
      "Dark      445.741935   66.806452   88.387097   70.225806       74.645161   \n",
      "Electric  443.409091   59.795455   69.090909   66.295455       90.022727   \n",
      "Ghost     439.562500   64.437500   73.781250   81.187500       79.343750   \n",
      "Ground    437.500000   73.781250   95.750000   84.843750       56.468750   \n",
      "Ice       433.458333   72.000000   72.750000   71.416667       77.541667   \n",
      "Water     430.455357   72.062500   74.151786   72.946429       74.812500   \n",
      "Grass     421.142857   67.271429   73.214286   70.800000       77.500000   \n",
      "Fighting  416.444444   69.851852   96.777778   65.925926       53.111111   \n",
      "Fairy     413.176471   74.117647   61.529412   65.705882       78.529412   \n",
      "Normal    401.683673   77.275510   73.469388   59.846939       55.816327   \n",
      "Poison    399.142857   67.250000   74.678571   68.821429       60.428571   \n",
      "Bug       378.927536   56.884058   70.971014   70.724638       53.869565   \n",
      "\n",
      "          Special_defense       Speed  Has_type_2  \n",
      "Type_1                                             \n",
      "Dragon          88.843750   83.031250    0.656250  \n",
      "Steel           80.629630   55.259259    0.814815  \n",
      "Flying          72.500000  102.500000    0.500000  \n",
      "Psychic         86.280702   81.491228    0.333333  \n",
      "Fire            72.211538   74.442308    0.461538  \n",
      "Rock            75.477273   55.909091    0.795455  \n",
      "Dark            69.516129   76.161290    0.677419  \n",
      "Electric        73.704545   84.500000    0.386364  \n",
      "Ghost           76.468750   64.343750    0.687500  \n",
      "Ground          62.750000   63.906250    0.593750  \n",
      "Ice             76.291667   63.458333    0.458333  \n",
      "Water           70.517857   65.964286    0.473214  \n",
      "Grass           70.428571   61.928571    0.528571  \n",
      "Fighting        64.703704   66.074074    0.259259  \n",
      "Fairy           84.705882   48.588235    0.117647  \n",
      "Normal          63.724490   71.551020    0.377551  \n",
      "Poison          64.392857   63.571429    0.464286  \n",
      "Bug             64.797101   61.681159    0.753623  \n"
     ]
    }
   ],
   "source": [
    "# Group by 'Type_1', calculate mean of numeric columns, and sort descending by one of the columns (e.g., 'Total')\n",
    "grouped_pok = df_pok.groupby('Type_1').mean(numeric_only=True).sort_values(by='Total', ascending=False)\n",
    "print(grouped_pok)"
   ]
  },
  {
   "cell_type": "code",
   "execution_count": 8,
   "id": "6a23756e",
   "metadata": {},
   "outputs": [
    {
     "data": {
      "application/vnd.plotly.v1+json": {
       "config": {
        "plotlyServerURL": "https://plot.ly"
       },
       "data": [
        {
         "marker": {
          "color": [
           "gray",
           "green",
           "gray",
           "green",
           "gray",
           "green",
           "gray",
           "green",
           "gray",
           "green",
           "gray",
           "green",
           "gray",
           "green",
           "gray",
           "green",
           "gray",
           "green"
          ]
         },
         "type": "bar",
         "x": [
          "Dragon",
          "Steel",
          "Flying",
          "Psychic",
          "Fire",
          "Rock",
          "Dark",
          "Electric",
          "Ghost",
          "Ground",
          "Ice",
          "Water",
          "Grass",
          "Fighting",
          "Fairy",
          "Normal",
          "Poison",
          "Bug"
         ],
         "y": {
          "bdata": "AAAAAEA0gUC0l9BeQnt+QAAAAAAAUH5A8xrKayi/fUAUO7ETO6F8QAAAAAAAXHxAfO+9997be0Avuuiii7Z7QAAAAAAAeXtAAAAAAABYe0BVVVVVVRd7QCVJkiRJ53pAJUmSJElSekByHMdxHAd6QNPS0tLS0nlAnYKXU/AaeUAlSZIkSfJ4QMFcOzDXrndA",
          "dtype": "f8"
         }
        }
       ],
       "layout": {
        "template": {
         "data": {
          "bar": [
           {
            "error_x": {
             "color": "#2a3f5f"
            },
            "error_y": {
             "color": "#2a3f5f"
            },
            "marker": {
             "line": {
              "color": "#E5ECF6",
              "width": 0.5
             },
             "pattern": {
              "fillmode": "overlay",
              "size": 10,
              "solidity": 0.2
             }
            },
            "type": "bar"
           }
          ],
          "barpolar": [
           {
            "marker": {
             "line": {
              "color": "#E5ECF6",
              "width": 0.5
             },
             "pattern": {
              "fillmode": "overlay",
              "size": 10,
              "solidity": 0.2
             }
            },
            "type": "barpolar"
           }
          ],
          "carpet": [
           {
            "aaxis": {
             "endlinecolor": "#2a3f5f",
             "gridcolor": "white",
             "linecolor": "white",
             "minorgridcolor": "white",
             "startlinecolor": "#2a3f5f"
            },
            "baxis": {
             "endlinecolor": "#2a3f5f",
             "gridcolor": "white",
             "linecolor": "white",
             "minorgridcolor": "white",
             "startlinecolor": "#2a3f5f"
            },
            "type": "carpet"
           }
          ],
          "choropleth": [
           {
            "colorbar": {
             "outlinewidth": 0,
             "ticks": ""
            },
            "type": "choropleth"
           }
          ],
          "contour": [
           {
            "colorbar": {
             "outlinewidth": 0,
             "ticks": ""
            },
            "colorscale": [
             [
              0,
              "#0d0887"
             ],
             [
              0.1111111111111111,
              "#46039f"
             ],
             [
              0.2222222222222222,
              "#7201a8"
             ],
             [
              0.3333333333333333,
              "#9c179e"
             ],
             [
              0.4444444444444444,
              "#bd3786"
             ],
             [
              0.5555555555555556,
              "#d8576b"
             ],
             [
              0.6666666666666666,
              "#ed7953"
             ],
             [
              0.7777777777777778,
              "#fb9f3a"
             ],
             [
              0.8888888888888888,
              "#fdca26"
             ],
             [
              1,
              "#f0f921"
             ]
            ],
            "type": "contour"
           }
          ],
          "contourcarpet": [
           {
            "colorbar": {
             "outlinewidth": 0,
             "ticks": ""
            },
            "type": "contourcarpet"
           }
          ],
          "heatmap": [
           {
            "colorbar": {
             "outlinewidth": 0,
             "ticks": ""
            },
            "colorscale": [
             [
              0,
              "#0d0887"
             ],
             [
              0.1111111111111111,
              "#46039f"
             ],
             [
              0.2222222222222222,
              "#7201a8"
             ],
             [
              0.3333333333333333,
              "#9c179e"
             ],
             [
              0.4444444444444444,
              "#bd3786"
             ],
             [
              0.5555555555555556,
              "#d8576b"
             ],
             [
              0.6666666666666666,
              "#ed7953"
             ],
             [
              0.7777777777777778,
              "#fb9f3a"
             ],
             [
              0.8888888888888888,
              "#fdca26"
             ],
             [
              1,
              "#f0f921"
             ]
            ],
            "type": "heatmap"
           }
          ],
          "histogram": [
           {
            "marker": {
             "pattern": {
              "fillmode": "overlay",
              "size": 10,
              "solidity": 0.2
             }
            },
            "type": "histogram"
           }
          ],
          "histogram2d": [
           {
            "colorbar": {
             "outlinewidth": 0,
             "ticks": ""
            },
            "colorscale": [
             [
              0,
              "#0d0887"
             ],
             [
              0.1111111111111111,
              "#46039f"
             ],
             [
              0.2222222222222222,
              "#7201a8"
             ],
             [
              0.3333333333333333,
              "#9c179e"
             ],
             [
              0.4444444444444444,
              "#bd3786"
             ],
             [
              0.5555555555555556,
              "#d8576b"
             ],
             [
              0.6666666666666666,
              "#ed7953"
             ],
             [
              0.7777777777777778,
              "#fb9f3a"
             ],
             [
              0.8888888888888888,
              "#fdca26"
             ],
             [
              1,
              "#f0f921"
             ]
            ],
            "type": "histogram2d"
           }
          ],
          "histogram2dcontour": [
           {
            "colorbar": {
             "outlinewidth": 0,
             "ticks": ""
            },
            "colorscale": [
             [
              0,
              "#0d0887"
             ],
             [
              0.1111111111111111,
              "#46039f"
             ],
             [
              0.2222222222222222,
              "#7201a8"
             ],
             [
              0.3333333333333333,
              "#9c179e"
             ],
             [
              0.4444444444444444,
              "#bd3786"
             ],
             [
              0.5555555555555556,
              "#d8576b"
             ],
             [
              0.6666666666666666,
              "#ed7953"
             ],
             [
              0.7777777777777778,
              "#fb9f3a"
             ],
             [
              0.8888888888888888,
              "#fdca26"
             ],
             [
              1,
              "#f0f921"
             ]
            ],
            "type": "histogram2dcontour"
           }
          ],
          "mesh3d": [
           {
            "colorbar": {
             "outlinewidth": 0,
             "ticks": ""
            },
            "type": "mesh3d"
           }
          ],
          "parcoords": [
           {
            "line": {
             "colorbar": {
              "outlinewidth": 0,
              "ticks": ""
             }
            },
            "type": "parcoords"
           }
          ],
          "pie": [
           {
            "automargin": true,
            "type": "pie"
           }
          ],
          "scatter": [
           {
            "fillpattern": {
             "fillmode": "overlay",
             "size": 10,
             "solidity": 0.2
            },
            "type": "scatter"
           }
          ],
          "scatter3d": [
           {
            "line": {
             "colorbar": {
              "outlinewidth": 0,
              "ticks": ""
             }
            },
            "marker": {
             "colorbar": {
              "outlinewidth": 0,
              "ticks": ""
             }
            },
            "type": "scatter3d"
           }
          ],
          "scattercarpet": [
           {
            "marker": {
             "colorbar": {
              "outlinewidth": 0,
              "ticks": ""
             }
            },
            "type": "scattercarpet"
           }
          ],
          "scattergeo": [
           {
            "marker": {
             "colorbar": {
              "outlinewidth": 0,
              "ticks": ""
             }
            },
            "type": "scattergeo"
           }
          ],
          "scattergl": [
           {
            "marker": {
             "colorbar": {
              "outlinewidth": 0,
              "ticks": ""
             }
            },
            "type": "scattergl"
           }
          ],
          "scattermap": [
           {
            "marker": {
             "colorbar": {
              "outlinewidth": 0,
              "ticks": ""
             }
            },
            "type": "scattermap"
           }
          ],
          "scattermapbox": [
           {
            "marker": {
             "colorbar": {
              "outlinewidth": 0,
              "ticks": ""
             }
            },
            "type": "scattermapbox"
           }
          ],
          "scatterpolar": [
           {
            "marker": {
             "colorbar": {
              "outlinewidth": 0,
              "ticks": ""
             }
            },
            "type": "scatterpolar"
           }
          ],
          "scatterpolargl": [
           {
            "marker": {
             "colorbar": {
              "outlinewidth": 0,
              "ticks": ""
             }
            },
            "type": "scatterpolargl"
           }
          ],
          "scatterternary": [
           {
            "marker": {
             "colorbar": {
              "outlinewidth": 0,
              "ticks": ""
             }
            },
            "type": "scatterternary"
           }
          ],
          "surface": [
           {
            "colorbar": {
             "outlinewidth": 0,
             "ticks": ""
            },
            "colorscale": [
             [
              0,
              "#0d0887"
             ],
             [
              0.1111111111111111,
              "#46039f"
             ],
             [
              0.2222222222222222,
              "#7201a8"
             ],
             [
              0.3333333333333333,
              "#9c179e"
             ],
             [
              0.4444444444444444,
              "#bd3786"
             ],
             [
              0.5555555555555556,
              "#d8576b"
             ],
             [
              0.6666666666666666,
              "#ed7953"
             ],
             [
              0.7777777777777778,
              "#fb9f3a"
             ],
             [
              0.8888888888888888,
              "#fdca26"
             ],
             [
              1,
              "#f0f921"
             ]
            ],
            "type": "surface"
           }
          ],
          "table": [
           {
            "cells": {
             "fill": {
              "color": "#EBF0F8"
             },
             "line": {
              "color": "white"
             }
            },
            "header": {
             "fill": {
              "color": "#C8D4E3"
             },
             "line": {
              "color": "white"
             }
            },
            "type": "table"
           }
          ]
         },
         "layout": {
          "annotationdefaults": {
           "arrowcolor": "#2a3f5f",
           "arrowhead": 0,
           "arrowwidth": 1
          },
          "autotypenumbers": "strict",
          "coloraxis": {
           "colorbar": {
            "outlinewidth": 0,
            "ticks": ""
           }
          },
          "colorscale": {
           "diverging": [
            [
             0,
             "#8e0152"
            ],
            [
             0.1,
             "#c51b7d"
            ],
            [
             0.2,
             "#de77ae"
            ],
            [
             0.3,
             "#f1b6da"
            ],
            [
             0.4,
             "#fde0ef"
            ],
            [
             0.5,
             "#f7f7f7"
            ],
            [
             0.6,
             "#e6f5d0"
            ],
            [
             0.7,
             "#b8e186"
            ],
            [
             0.8,
             "#7fbc41"
            ],
            [
             0.9,
             "#4d9221"
            ],
            [
             1,
             "#276419"
            ]
           ],
           "sequential": [
            [
             0,
             "#0d0887"
            ],
            [
             0.1111111111111111,
             "#46039f"
            ],
            [
             0.2222222222222222,
             "#7201a8"
            ],
            [
             0.3333333333333333,
             "#9c179e"
            ],
            [
             0.4444444444444444,
             "#bd3786"
            ],
            [
             0.5555555555555556,
             "#d8576b"
            ],
            [
             0.6666666666666666,
             "#ed7953"
            ],
            [
             0.7777777777777778,
             "#fb9f3a"
            ],
            [
             0.8888888888888888,
             "#fdca26"
            ],
            [
             1,
             "#f0f921"
            ]
           ],
           "sequentialminus": [
            [
             0,
             "#0d0887"
            ],
            [
             0.1111111111111111,
             "#46039f"
            ],
            [
             0.2222222222222222,
             "#7201a8"
            ],
            [
             0.3333333333333333,
             "#9c179e"
            ],
            [
             0.4444444444444444,
             "#bd3786"
            ],
            [
             0.5555555555555556,
             "#d8576b"
            ],
            [
             0.6666666666666666,
             "#ed7953"
            ],
            [
             0.7777777777777778,
             "#fb9f3a"
            ],
            [
             0.8888888888888888,
             "#fdca26"
            ],
            [
             1,
             "#f0f921"
            ]
           ]
          },
          "colorway": [
           "#636efa",
           "#EF553B",
           "#00cc96",
           "#ab63fa",
           "#FFA15A",
           "#19d3f3",
           "#FF6692",
           "#B6E880",
           "#FF97FF",
           "#FECB52"
          ],
          "font": {
           "color": "#2a3f5f"
          },
          "geo": {
           "bgcolor": "white",
           "lakecolor": "white",
           "landcolor": "#E5ECF6",
           "showlakes": true,
           "showland": true,
           "subunitcolor": "white"
          },
          "hoverlabel": {
           "align": "left"
          },
          "hovermode": "closest",
          "mapbox": {
           "style": "light"
          },
          "paper_bgcolor": "white",
          "plot_bgcolor": "#E5ECF6",
          "polar": {
           "angularaxis": {
            "gridcolor": "white",
            "linecolor": "white",
            "ticks": ""
           },
           "bgcolor": "#E5ECF6",
           "radialaxis": {
            "gridcolor": "white",
            "linecolor": "white",
            "ticks": ""
           }
          },
          "scene": {
           "xaxis": {
            "backgroundcolor": "#E5ECF6",
            "gridcolor": "white",
            "gridwidth": 2,
            "linecolor": "white",
            "showbackground": true,
            "ticks": "",
            "zerolinecolor": "white"
           },
           "yaxis": {
            "backgroundcolor": "#E5ECF6",
            "gridcolor": "white",
            "gridwidth": 2,
            "linecolor": "white",
            "showbackground": true,
            "ticks": "",
            "zerolinecolor": "white"
           },
           "zaxis": {
            "backgroundcolor": "#E5ECF6",
            "gridcolor": "white",
            "gridwidth": 2,
            "linecolor": "white",
            "showbackground": true,
            "ticks": "",
            "zerolinecolor": "white"
           }
          },
          "shapedefaults": {
           "line": {
            "color": "#2a3f5f"
           }
          },
          "ternary": {
           "aaxis": {
            "gridcolor": "white",
            "linecolor": "white",
            "ticks": ""
           },
           "baxis": {
            "gridcolor": "white",
            "linecolor": "white",
            "ticks": ""
           },
           "bgcolor": "#E5ECF6",
           "caxis": {
            "gridcolor": "white",
            "linecolor": "white",
            "ticks": ""
           }
          },
          "title": {
           "x": 0.05
          },
          "xaxis": {
           "automargin": true,
           "gridcolor": "white",
           "linecolor": "white",
           "ticks": "",
           "title": {
            "standoff": 15
           },
           "zerolinecolor": "white",
           "zerolinewidth": 2
          },
          "yaxis": {
           "automargin": true,
           "gridcolor": "white",
           "linecolor": "white",
           "ticks": "",
           "title": {
            "standoff": 15
           },
           "zerolinecolor": "white",
           "zerolinewidth": 2
          }
         }
        },
        "title": {
         "text": "Mean Total Power by Collective Type 1 Pokemons"
        },
        "xaxis": {
         "tickangle": 45,
         "title": {
          "text": "Collective Pokemon Type 1"
         }
        },
        "yaxis": {
         "title": {
          "text": "Mean Total Power"
         }
        }
       }
      }
     },
     "metadata": {},
     "output_type": "display_data"
    }
   ],
   "source": [
    "# Create alternating green and gray colors for the bars to improve visual distinction\n",
    "bar_colors = ['gray' if i % 2 == 0 else 'green' for i in range(len(grouped_pok))]\n",
    "\n",
    "# Create a bar plot using Plotly to show mean 'Total' power by Type_1\n",
    "fig = go.Figure(\n",
    "    data=[\n",
    "        go.Bar(\n",
    "            x=grouped_pok.index,      # X-axis: Pokemon Type_1 categories\n",
    "            y=grouped_pok['Total'],   # Y-axis: Mean 'Total' stat for each type\n",
    "            marker_color=bar_colors   # Bar colors: alternating green and gray\n",
    "        )\n",
    "    ]\n",
    ")\n",
    "\n",
    "# Update the layout for better readability and presentation\n",
    "fig.update_layout(\n",
    "    title='Mean Total Power by Collective Type 1 Pokemons',\n",
    "    xaxis_title='Collective Pokemon Type 1',\n",
    "    yaxis_title='Mean Total Power',\n",
    "    xaxis_tickangle=45  # Rotate x-axis labels for clarity\n",
    ")\n",
    "\n",
    "# Display the plot\n",
    "fig.show()\n",
    "\n",
    "# We can see that the highest mean total power is for the 'Dragon' type, followed by 'Psychic' and 'Flying'.\n",
    "# If you want to win a tournament, you should choose a Dragon type Pokemon. \n",
    "# Bug, Rock, and Ice types have the lowest mean total power, indicating they might be less effective in battles."
   ]
  },
  {
   "cell_type": "code",
   "execution_count": null,
   "id": "2f206381",
   "metadata": {},
   "outputs": [
    {
     "data": {
      "application/vnd.plotly.v1+json": {
       "config": {
        "plotlyServerURL": "https://plot.ly"
       },
       "data": [
        {
         "domain": {
          "x": [
           0,
           1
          ],
          "y": [
           0,
           1
          ]
         },
         "hovertemplate": "label=%{label}<br>value=%{value}<extra></extra>",
         "labels": [
          "Water",
          "Normal",
          "Grass",
          "Bug",
          "Psychic",
          "Fire",
          "Rock",
          "Electric",
          "Ground",
          "Ghost",
          "Dragon",
          "Dark",
          "Poison",
          "Fighting",
          "Steel",
          "Ice",
          "Fairy",
          "Flying"
         ],
         "legendgroup": "",
         "name": "",
         "showlegend": true,
         "type": "pie",
         "values": {
          "bdata": "cGJGRTk0LCwgICAfHBsbGBEE",
          "dtype": "i1"
         }
        }
       ],
       "layout": {
        "legend": {
         "tracegroupgap": 0
        },
        "template": {
         "data": {
          "bar": [
           {
            "error_x": {
             "color": "#2a3f5f"
            },
            "error_y": {
             "color": "#2a3f5f"
            },
            "marker": {
             "line": {
              "color": "#E5ECF6",
              "width": 0.5
             },
             "pattern": {
              "fillmode": "overlay",
              "size": 10,
              "solidity": 0.2
             }
            },
            "type": "bar"
           }
          ],
          "barpolar": [
           {
            "marker": {
             "line": {
              "color": "#E5ECF6",
              "width": 0.5
             },
             "pattern": {
              "fillmode": "overlay",
              "size": 10,
              "solidity": 0.2
             }
            },
            "type": "barpolar"
           }
          ],
          "carpet": [
           {
            "aaxis": {
             "endlinecolor": "#2a3f5f",
             "gridcolor": "white",
             "linecolor": "white",
             "minorgridcolor": "white",
             "startlinecolor": "#2a3f5f"
            },
            "baxis": {
             "endlinecolor": "#2a3f5f",
             "gridcolor": "white",
             "linecolor": "white",
             "minorgridcolor": "white",
             "startlinecolor": "#2a3f5f"
            },
            "type": "carpet"
           }
          ],
          "choropleth": [
           {
            "colorbar": {
             "outlinewidth": 0,
             "ticks": ""
            },
            "type": "choropleth"
           }
          ],
          "contour": [
           {
            "colorbar": {
             "outlinewidth": 0,
             "ticks": ""
            },
            "colorscale": [
             [
              0,
              "#0d0887"
             ],
             [
              0.1111111111111111,
              "#46039f"
             ],
             [
              0.2222222222222222,
              "#7201a8"
             ],
             [
              0.3333333333333333,
              "#9c179e"
             ],
             [
              0.4444444444444444,
              "#bd3786"
             ],
             [
              0.5555555555555556,
              "#d8576b"
             ],
             [
              0.6666666666666666,
              "#ed7953"
             ],
             [
              0.7777777777777778,
              "#fb9f3a"
             ],
             [
              0.8888888888888888,
              "#fdca26"
             ],
             [
              1,
              "#f0f921"
             ]
            ],
            "type": "contour"
           }
          ],
          "contourcarpet": [
           {
            "colorbar": {
             "outlinewidth": 0,
             "ticks": ""
            },
            "type": "contourcarpet"
           }
          ],
          "heatmap": [
           {
            "colorbar": {
             "outlinewidth": 0,
             "ticks": ""
            },
            "colorscale": [
             [
              0,
              "#0d0887"
             ],
             [
              0.1111111111111111,
              "#46039f"
             ],
             [
              0.2222222222222222,
              "#7201a8"
             ],
             [
              0.3333333333333333,
              "#9c179e"
             ],
             [
              0.4444444444444444,
              "#bd3786"
             ],
             [
              0.5555555555555556,
              "#d8576b"
             ],
             [
              0.6666666666666666,
              "#ed7953"
             ],
             [
              0.7777777777777778,
              "#fb9f3a"
             ],
             [
              0.8888888888888888,
              "#fdca26"
             ],
             [
              1,
              "#f0f921"
             ]
            ],
            "type": "heatmap"
           }
          ],
          "histogram": [
           {
            "marker": {
             "pattern": {
              "fillmode": "overlay",
              "size": 10,
              "solidity": 0.2
             }
            },
            "type": "histogram"
           }
          ],
          "histogram2d": [
           {
            "colorbar": {
             "outlinewidth": 0,
             "ticks": ""
            },
            "colorscale": [
             [
              0,
              "#0d0887"
             ],
             [
              0.1111111111111111,
              "#46039f"
             ],
             [
              0.2222222222222222,
              "#7201a8"
             ],
             [
              0.3333333333333333,
              "#9c179e"
             ],
             [
              0.4444444444444444,
              "#bd3786"
             ],
             [
              0.5555555555555556,
              "#d8576b"
             ],
             [
              0.6666666666666666,
              "#ed7953"
             ],
             [
              0.7777777777777778,
              "#fb9f3a"
             ],
             [
              0.8888888888888888,
              "#fdca26"
             ],
             [
              1,
              "#f0f921"
             ]
            ],
            "type": "histogram2d"
           }
          ],
          "histogram2dcontour": [
           {
            "colorbar": {
             "outlinewidth": 0,
             "ticks": ""
            },
            "colorscale": [
             [
              0,
              "#0d0887"
             ],
             [
              0.1111111111111111,
              "#46039f"
             ],
             [
              0.2222222222222222,
              "#7201a8"
             ],
             [
              0.3333333333333333,
              "#9c179e"
             ],
             [
              0.4444444444444444,
              "#bd3786"
             ],
             [
              0.5555555555555556,
              "#d8576b"
             ],
             [
              0.6666666666666666,
              "#ed7953"
             ],
             [
              0.7777777777777778,
              "#fb9f3a"
             ],
             [
              0.8888888888888888,
              "#fdca26"
             ],
             [
              1,
              "#f0f921"
             ]
            ],
            "type": "histogram2dcontour"
           }
          ],
          "mesh3d": [
           {
            "colorbar": {
             "outlinewidth": 0,
             "ticks": ""
            },
            "type": "mesh3d"
           }
          ],
          "parcoords": [
           {
            "line": {
             "colorbar": {
              "outlinewidth": 0,
              "ticks": ""
             }
            },
            "type": "parcoords"
           }
          ],
          "pie": [
           {
            "automargin": true,
            "type": "pie"
           }
          ],
          "scatter": [
           {
            "fillpattern": {
             "fillmode": "overlay",
             "size": 10,
             "solidity": 0.2
            },
            "type": "scatter"
           }
          ],
          "scatter3d": [
           {
            "line": {
             "colorbar": {
              "outlinewidth": 0,
              "ticks": ""
             }
            },
            "marker": {
             "colorbar": {
              "outlinewidth": 0,
              "ticks": ""
             }
            },
            "type": "scatter3d"
           }
          ],
          "scattercarpet": [
           {
            "marker": {
             "colorbar": {
              "outlinewidth": 0,
              "ticks": ""
             }
            },
            "type": "scattercarpet"
           }
          ],
          "scattergeo": [
           {
            "marker": {
             "colorbar": {
              "outlinewidth": 0,
              "ticks": ""
             }
            },
            "type": "scattergeo"
           }
          ],
          "scattergl": [
           {
            "marker": {
             "colorbar": {
              "outlinewidth": 0,
              "ticks": ""
             }
            },
            "type": "scattergl"
           }
          ],
          "scattermap": [
           {
            "marker": {
             "colorbar": {
              "outlinewidth": 0,
              "ticks": ""
             }
            },
            "type": "scattermap"
           }
          ],
          "scattermapbox": [
           {
            "marker": {
             "colorbar": {
              "outlinewidth": 0,
              "ticks": ""
             }
            },
            "type": "scattermapbox"
           }
          ],
          "scatterpolar": [
           {
            "marker": {
             "colorbar": {
              "outlinewidth": 0,
              "ticks": ""
             }
            },
            "type": "scatterpolar"
           }
          ],
          "scatterpolargl": [
           {
            "marker": {
             "colorbar": {
              "outlinewidth": 0,
              "ticks": ""
             }
            },
            "type": "scatterpolargl"
           }
          ],
          "scatterternary": [
           {
            "marker": {
             "colorbar": {
              "outlinewidth": 0,
              "ticks": ""
             }
            },
            "type": "scatterternary"
           }
          ],
          "surface": [
           {
            "colorbar": {
             "outlinewidth": 0,
             "ticks": ""
            },
            "colorscale": [
             [
              0,
              "#0d0887"
             ],
             [
              0.1111111111111111,
              "#46039f"
             ],
             [
              0.2222222222222222,
              "#7201a8"
             ],
             [
              0.3333333333333333,
              "#9c179e"
             ],
             [
              0.4444444444444444,
              "#bd3786"
             ],
             [
              0.5555555555555556,
              "#d8576b"
             ],
             [
              0.6666666666666666,
              "#ed7953"
             ],
             [
              0.7777777777777778,
              "#fb9f3a"
             ],
             [
              0.8888888888888888,
              "#fdca26"
             ],
             [
              1,
              "#f0f921"
             ]
            ],
            "type": "surface"
           }
          ],
          "table": [
           {
            "cells": {
             "fill": {
              "color": "#EBF0F8"
             },
             "line": {
              "color": "white"
             }
            },
            "header": {
             "fill": {
              "color": "#C8D4E3"
             },
             "line": {
              "color": "white"
             }
            },
            "type": "table"
           }
          ]
         },
         "layout": {
          "annotationdefaults": {
           "arrowcolor": "#2a3f5f",
           "arrowhead": 0,
           "arrowwidth": 1
          },
          "autotypenumbers": "strict",
          "coloraxis": {
           "colorbar": {
            "outlinewidth": 0,
            "ticks": ""
           }
          },
          "colorscale": {
           "diverging": [
            [
             0,
             "#8e0152"
            ],
            [
             0.1,
             "#c51b7d"
            ],
            [
             0.2,
             "#de77ae"
            ],
            [
             0.3,
             "#f1b6da"
            ],
            [
             0.4,
             "#fde0ef"
            ],
            [
             0.5,
             "#f7f7f7"
            ],
            [
             0.6,
             "#e6f5d0"
            ],
            [
             0.7,
             "#b8e186"
            ],
            [
             0.8,
             "#7fbc41"
            ],
            [
             0.9,
             "#4d9221"
            ],
            [
             1,
             "#276419"
            ]
           ],
           "sequential": [
            [
             0,
             "#0d0887"
            ],
            [
             0.1111111111111111,
             "#46039f"
            ],
            [
             0.2222222222222222,
             "#7201a8"
            ],
            [
             0.3333333333333333,
             "#9c179e"
            ],
            [
             0.4444444444444444,
             "#bd3786"
            ],
            [
             0.5555555555555556,
             "#d8576b"
            ],
            [
             0.6666666666666666,
             "#ed7953"
            ],
            [
             0.7777777777777778,
             "#fb9f3a"
            ],
            [
             0.8888888888888888,
             "#fdca26"
            ],
            [
             1,
             "#f0f921"
            ]
           ],
           "sequentialminus": [
            [
             0,
             "#0d0887"
            ],
            [
             0.1111111111111111,
             "#46039f"
            ],
            [
             0.2222222222222222,
             "#7201a8"
            ],
            [
             0.3333333333333333,
             "#9c179e"
            ],
            [
             0.4444444444444444,
             "#bd3786"
            ],
            [
             0.5555555555555556,
             "#d8576b"
            ],
            [
             0.6666666666666666,
             "#ed7953"
            ],
            [
             0.7777777777777778,
             "#fb9f3a"
            ],
            [
             0.8888888888888888,
             "#fdca26"
            ],
            [
             1,
             "#f0f921"
            ]
           ]
          },
          "colorway": [
           "#636efa",
           "#EF553B",
           "#00cc96",
           "#ab63fa",
           "#FFA15A",
           "#19d3f3",
           "#FF6692",
           "#B6E880",
           "#FF97FF",
           "#FECB52"
          ],
          "font": {
           "color": "#2a3f5f"
          },
          "geo": {
           "bgcolor": "white",
           "lakecolor": "white",
           "landcolor": "#E5ECF6",
           "showlakes": true,
           "showland": true,
           "subunitcolor": "white"
          },
          "hoverlabel": {
           "align": "left"
          },
          "hovermode": "closest",
          "mapbox": {
           "style": "light"
          },
          "paper_bgcolor": "white",
          "plot_bgcolor": "#E5ECF6",
          "polar": {
           "angularaxis": {
            "gridcolor": "white",
            "linecolor": "white",
            "ticks": ""
           },
           "bgcolor": "#E5ECF6",
           "radialaxis": {
            "gridcolor": "white",
            "linecolor": "white",
            "ticks": ""
           }
          },
          "scene": {
           "xaxis": {
            "backgroundcolor": "#E5ECF6",
            "gridcolor": "white",
            "gridwidth": 2,
            "linecolor": "white",
            "showbackground": true,
            "ticks": "",
            "zerolinecolor": "white"
           },
           "yaxis": {
            "backgroundcolor": "#E5ECF6",
            "gridcolor": "white",
            "gridwidth": 2,
            "linecolor": "white",
            "showbackground": true,
            "ticks": "",
            "zerolinecolor": "white"
           },
           "zaxis": {
            "backgroundcolor": "#E5ECF6",
            "gridcolor": "white",
            "gridwidth": 2,
            "linecolor": "white",
            "showbackground": true,
            "ticks": "",
            "zerolinecolor": "white"
           }
          },
          "shapedefaults": {
           "line": {
            "color": "#2a3f5f"
           }
          },
          "ternary": {
           "aaxis": {
            "gridcolor": "white",
            "linecolor": "white",
            "ticks": ""
           },
           "baxis": {
            "gridcolor": "white",
            "linecolor": "white",
            "ticks": ""
           },
           "bgcolor": "#E5ECF6",
           "caxis": {
            "gridcolor": "white",
            "linecolor": "white",
            "ticks": ""
           }
          },
          "title": {
           "x": 0.05
          },
          "xaxis": {
           "automargin": true,
           "gridcolor": "white",
           "linecolor": "white",
           "ticks": "",
           "title": {
            "standoff": 15
           },
           "zerolinecolor": "white",
           "zerolinewidth": 2
          },
          "yaxis": {
           "automargin": true,
           "gridcolor": "white",
           "linecolor": "white",
           "ticks": "",
           "title": {
            "standoff": 15
           },
           "zerolinecolor": "white",
           "zerolinewidth": 2
          }
         }
        },
        "title": {
         "text": "How many Pokemons are grouped in Type 1"
        }
       }
      }
     },
     "metadata": {},
     "output_type": "display_data"
    }
   ],
   "source": [
    "# Count occurrences of each Type_1\n",
    "type1_counts = df_pok['Type_1'].value_counts()\n",
    "\n",
    "# Plot pie chart\n",
    "fig = px.pie(\n",
    "    names=type1_counts.index,\n",
    "    values=type1_counts.values,\n",
    "    title='How many Pokemons are grouped in Type 1'\n",
    ")\n",
    "fig.show()\n",
    "# Summary: The pie chart visualizes the distribution of Pokemon by their primary type (Type_1).\n",
    "# It shows that 'Water' type is the most common, followed by 'Normal' and 'Grass'.\n",
    "# Types like 'Flying' and 'Fairy' are much less frequent.\n",
    "# This distribution can influence team composition and strategy in tournaments.\n",
    "# Dragons are rare, but they have the highest mean total power, making them valuable despite their scarcity."
   ]
  },
  {
   "cell_type": "code",
   "execution_count": 9,
   "id": "e7287578",
   "metadata": {},
   "outputs": [
    {
     "data": {
      "application/vnd.plotly.v1+json": {
       "config": {
        "plotlyServerURL": "https://plot.ly"
       },
       "data": [
        {
         "hovertemplate": "Total Stat=%{marker.color}<br>Pokemon Name=%{y}<extra></extra>",
         "legendgroup": "",
         "marker": {
          "color": {
           "bdata": "DAO8ArwCvAK8ArwCvAKoAqgCqAKUAlgCWAJYAlgCWAJYAlgCTgIcAuoB5QHEAaQBpAGaAZoBQAEsASwBLAEsAQ==",
           "dtype": "i2"
          },
          "coloraxis": "coloraxis",
          "pattern": {
           "shape": ""
          }
         },
         "name": "",
         "orientation": "h",
         "showlegend": false,
         "textposition": "auto",
         "type": "bar",
         "x": {
          "bdata": "DAO8ArwCvAK8ArwCvAKoAqgCqAKUAlgCWAJYAlgCWAJYAlgCTgIcAuoB5QHEAaQBpAGaAZoBQAEsASwBLAEsAQ==",
          "dtype": "i2"
         },
         "xaxis": "x",
         "y": [
          "RayquazaMega Rayquaza",
          "LatiasMega Latias",
          "SalamenceMega Salamence",
          "LatiosMega Latios",
          "KyuremWhite Kyurem",
          "KyuremBlack Kyurem",
          "GarchompMega Garchomp",
          "Rayquaza",
          "Reshiram",
          "Zekrom",
          "Kyurem",
          "Garchomp",
          "Latios",
          "Dragonite",
          "Latias",
          "Salamence",
          "Goodra",
          "Zygarde50% Forme",
          "AltariaMega Altaria",
          "Haxorus",
          "Altaria",
          "Druddigon",
          "Sliggoo",
          "Shelgon",
          "Dragonair",
          "Gabite",
          "Fraxure",
          "Axew",
          "Gible",
          "Bagon",
          "Dratini",
          "Goomy"
         ],
         "yaxis": "y"
        }
       ],
       "layout": {
        "barmode": "relative",
        "coloraxis": {
         "colorbar": {
          "title": {
           "text": "Total Stat"
          }
         },
         "colorscale": [
          [
           0,
           "#0d0887"
          ],
          [
           0.1111111111111111,
           "#46039f"
          ],
          [
           0.2222222222222222,
           "#7201a8"
          ],
          [
           0.3333333333333333,
           "#9c179e"
          ],
          [
           0.4444444444444444,
           "#bd3786"
          ],
          [
           0.5555555555555556,
           "#d8576b"
          ],
          [
           0.6666666666666666,
           "#ed7953"
          ],
          [
           0.7777777777777778,
           "#fb9f3a"
          ],
          [
           0.8888888888888888,
           "#fdca26"
          ],
          [
           1,
           "#f0f921"
          ]
         ]
        },
        "legend": {
         "tracegroupgap": 0
        },
        "showlegend": false,
        "template": {
         "data": {
          "bar": [
           {
            "error_x": {
             "color": "#2a3f5f"
            },
            "error_y": {
             "color": "#2a3f5f"
            },
            "marker": {
             "line": {
              "color": "#E5ECF6",
              "width": 0.5
             },
             "pattern": {
              "fillmode": "overlay",
              "size": 10,
              "solidity": 0.2
             }
            },
            "type": "bar"
           }
          ],
          "barpolar": [
           {
            "marker": {
             "line": {
              "color": "#E5ECF6",
              "width": 0.5
             },
             "pattern": {
              "fillmode": "overlay",
              "size": 10,
              "solidity": 0.2
             }
            },
            "type": "barpolar"
           }
          ],
          "carpet": [
           {
            "aaxis": {
             "endlinecolor": "#2a3f5f",
             "gridcolor": "white",
             "linecolor": "white",
             "minorgridcolor": "white",
             "startlinecolor": "#2a3f5f"
            },
            "baxis": {
             "endlinecolor": "#2a3f5f",
             "gridcolor": "white",
             "linecolor": "white",
             "minorgridcolor": "white",
             "startlinecolor": "#2a3f5f"
            },
            "type": "carpet"
           }
          ],
          "choropleth": [
           {
            "colorbar": {
             "outlinewidth": 0,
             "ticks": ""
            },
            "type": "choropleth"
           }
          ],
          "contour": [
           {
            "colorbar": {
             "outlinewidth": 0,
             "ticks": ""
            },
            "colorscale": [
             [
              0,
              "#0d0887"
             ],
             [
              0.1111111111111111,
              "#46039f"
             ],
             [
              0.2222222222222222,
              "#7201a8"
             ],
             [
              0.3333333333333333,
              "#9c179e"
             ],
             [
              0.4444444444444444,
              "#bd3786"
             ],
             [
              0.5555555555555556,
              "#d8576b"
             ],
             [
              0.6666666666666666,
              "#ed7953"
             ],
             [
              0.7777777777777778,
              "#fb9f3a"
             ],
             [
              0.8888888888888888,
              "#fdca26"
             ],
             [
              1,
              "#f0f921"
             ]
            ],
            "type": "contour"
           }
          ],
          "contourcarpet": [
           {
            "colorbar": {
             "outlinewidth": 0,
             "ticks": ""
            },
            "type": "contourcarpet"
           }
          ],
          "heatmap": [
           {
            "colorbar": {
             "outlinewidth": 0,
             "ticks": ""
            },
            "colorscale": [
             [
              0,
              "#0d0887"
             ],
             [
              0.1111111111111111,
              "#46039f"
             ],
             [
              0.2222222222222222,
              "#7201a8"
             ],
             [
              0.3333333333333333,
              "#9c179e"
             ],
             [
              0.4444444444444444,
              "#bd3786"
             ],
             [
              0.5555555555555556,
              "#d8576b"
             ],
             [
              0.6666666666666666,
              "#ed7953"
             ],
             [
              0.7777777777777778,
              "#fb9f3a"
             ],
             [
              0.8888888888888888,
              "#fdca26"
             ],
             [
              1,
              "#f0f921"
             ]
            ],
            "type": "heatmap"
           }
          ],
          "histogram": [
           {
            "marker": {
             "pattern": {
              "fillmode": "overlay",
              "size": 10,
              "solidity": 0.2
             }
            },
            "type": "histogram"
           }
          ],
          "histogram2d": [
           {
            "colorbar": {
             "outlinewidth": 0,
             "ticks": ""
            },
            "colorscale": [
             [
              0,
              "#0d0887"
             ],
             [
              0.1111111111111111,
              "#46039f"
             ],
             [
              0.2222222222222222,
              "#7201a8"
             ],
             [
              0.3333333333333333,
              "#9c179e"
             ],
             [
              0.4444444444444444,
              "#bd3786"
             ],
             [
              0.5555555555555556,
              "#d8576b"
             ],
             [
              0.6666666666666666,
              "#ed7953"
             ],
             [
              0.7777777777777778,
              "#fb9f3a"
             ],
             [
              0.8888888888888888,
              "#fdca26"
             ],
             [
              1,
              "#f0f921"
             ]
            ],
            "type": "histogram2d"
           }
          ],
          "histogram2dcontour": [
           {
            "colorbar": {
             "outlinewidth": 0,
             "ticks": ""
            },
            "colorscale": [
             [
              0,
              "#0d0887"
             ],
             [
              0.1111111111111111,
              "#46039f"
             ],
             [
              0.2222222222222222,
              "#7201a8"
             ],
             [
              0.3333333333333333,
              "#9c179e"
             ],
             [
              0.4444444444444444,
              "#bd3786"
             ],
             [
              0.5555555555555556,
              "#d8576b"
             ],
             [
              0.6666666666666666,
              "#ed7953"
             ],
             [
              0.7777777777777778,
              "#fb9f3a"
             ],
             [
              0.8888888888888888,
              "#fdca26"
             ],
             [
              1,
              "#f0f921"
             ]
            ],
            "type": "histogram2dcontour"
           }
          ],
          "mesh3d": [
           {
            "colorbar": {
             "outlinewidth": 0,
             "ticks": ""
            },
            "type": "mesh3d"
           }
          ],
          "parcoords": [
           {
            "line": {
             "colorbar": {
              "outlinewidth": 0,
              "ticks": ""
             }
            },
            "type": "parcoords"
           }
          ],
          "pie": [
           {
            "automargin": true,
            "type": "pie"
           }
          ],
          "scatter": [
           {
            "fillpattern": {
             "fillmode": "overlay",
             "size": 10,
             "solidity": 0.2
            },
            "type": "scatter"
           }
          ],
          "scatter3d": [
           {
            "line": {
             "colorbar": {
              "outlinewidth": 0,
              "ticks": ""
             }
            },
            "marker": {
             "colorbar": {
              "outlinewidth": 0,
              "ticks": ""
             }
            },
            "type": "scatter3d"
           }
          ],
          "scattercarpet": [
           {
            "marker": {
             "colorbar": {
              "outlinewidth": 0,
              "ticks": ""
             }
            },
            "type": "scattercarpet"
           }
          ],
          "scattergeo": [
           {
            "marker": {
             "colorbar": {
              "outlinewidth": 0,
              "ticks": ""
             }
            },
            "type": "scattergeo"
           }
          ],
          "scattergl": [
           {
            "marker": {
             "colorbar": {
              "outlinewidth": 0,
              "ticks": ""
             }
            },
            "type": "scattergl"
           }
          ],
          "scattermap": [
           {
            "marker": {
             "colorbar": {
              "outlinewidth": 0,
              "ticks": ""
             }
            },
            "type": "scattermap"
           }
          ],
          "scattermapbox": [
           {
            "marker": {
             "colorbar": {
              "outlinewidth": 0,
              "ticks": ""
             }
            },
            "type": "scattermapbox"
           }
          ],
          "scatterpolar": [
           {
            "marker": {
             "colorbar": {
              "outlinewidth": 0,
              "ticks": ""
             }
            },
            "type": "scatterpolar"
           }
          ],
          "scatterpolargl": [
           {
            "marker": {
             "colorbar": {
              "outlinewidth": 0,
              "ticks": ""
             }
            },
            "type": "scatterpolargl"
           }
          ],
          "scatterternary": [
           {
            "marker": {
             "colorbar": {
              "outlinewidth": 0,
              "ticks": ""
             }
            },
            "type": "scatterternary"
           }
          ],
          "surface": [
           {
            "colorbar": {
             "outlinewidth": 0,
             "ticks": ""
            },
            "colorscale": [
             [
              0,
              "#0d0887"
             ],
             [
              0.1111111111111111,
              "#46039f"
             ],
             [
              0.2222222222222222,
              "#7201a8"
             ],
             [
              0.3333333333333333,
              "#9c179e"
             ],
             [
              0.4444444444444444,
              "#bd3786"
             ],
             [
              0.5555555555555556,
              "#d8576b"
             ],
             [
              0.6666666666666666,
              "#ed7953"
             ],
             [
              0.7777777777777778,
              "#fb9f3a"
             ],
             [
              0.8888888888888888,
              "#fdca26"
             ],
             [
              1,
              "#f0f921"
             ]
            ],
            "type": "surface"
           }
          ],
          "table": [
           {
            "cells": {
             "fill": {
              "color": "#EBF0F8"
             },
             "line": {
              "color": "white"
             }
            },
            "header": {
             "fill": {
              "color": "#C8D4E3"
             },
             "line": {
              "color": "white"
             }
            },
            "type": "table"
           }
          ]
         },
         "layout": {
          "annotationdefaults": {
           "arrowcolor": "#2a3f5f",
           "arrowhead": 0,
           "arrowwidth": 1
          },
          "autotypenumbers": "strict",
          "coloraxis": {
           "colorbar": {
            "outlinewidth": 0,
            "ticks": ""
           }
          },
          "colorscale": {
           "diverging": [
            [
             0,
             "#8e0152"
            ],
            [
             0.1,
             "#c51b7d"
            ],
            [
             0.2,
             "#de77ae"
            ],
            [
             0.3,
             "#f1b6da"
            ],
            [
             0.4,
             "#fde0ef"
            ],
            [
             0.5,
             "#f7f7f7"
            ],
            [
             0.6,
             "#e6f5d0"
            ],
            [
             0.7,
             "#b8e186"
            ],
            [
             0.8,
             "#7fbc41"
            ],
            [
             0.9,
             "#4d9221"
            ],
            [
             1,
             "#276419"
            ]
           ],
           "sequential": [
            [
             0,
             "#0d0887"
            ],
            [
             0.1111111111111111,
             "#46039f"
            ],
            [
             0.2222222222222222,
             "#7201a8"
            ],
            [
             0.3333333333333333,
             "#9c179e"
            ],
            [
             0.4444444444444444,
             "#bd3786"
            ],
            [
             0.5555555555555556,
             "#d8576b"
            ],
            [
             0.6666666666666666,
             "#ed7953"
            ],
            [
             0.7777777777777778,
             "#fb9f3a"
            ],
            [
             0.8888888888888888,
             "#fdca26"
            ],
            [
             1,
             "#f0f921"
            ]
           ],
           "sequentialminus": [
            [
             0,
             "#0d0887"
            ],
            [
             0.1111111111111111,
             "#46039f"
            ],
            [
             0.2222222222222222,
             "#7201a8"
            ],
            [
             0.3333333333333333,
             "#9c179e"
            ],
            [
             0.4444444444444444,
             "#bd3786"
            ],
            [
             0.5555555555555556,
             "#d8576b"
            ],
            [
             0.6666666666666666,
             "#ed7953"
            ],
            [
             0.7777777777777778,
             "#fb9f3a"
            ],
            [
             0.8888888888888888,
             "#fdca26"
            ],
            [
             1,
             "#f0f921"
            ]
           ]
          },
          "colorway": [
           "#636efa",
           "#EF553B",
           "#00cc96",
           "#ab63fa",
           "#FFA15A",
           "#19d3f3",
           "#FF6692",
           "#B6E880",
           "#FF97FF",
           "#FECB52"
          ],
          "font": {
           "color": "#2a3f5f"
          },
          "geo": {
           "bgcolor": "white",
           "lakecolor": "white",
           "landcolor": "#E5ECF6",
           "showlakes": true,
           "showland": true,
           "subunitcolor": "white"
          },
          "hoverlabel": {
           "align": "left"
          },
          "hovermode": "closest",
          "mapbox": {
           "style": "light"
          },
          "paper_bgcolor": "white",
          "plot_bgcolor": "#E5ECF6",
          "polar": {
           "angularaxis": {
            "gridcolor": "white",
            "linecolor": "white",
            "ticks": ""
           },
           "bgcolor": "#E5ECF6",
           "radialaxis": {
            "gridcolor": "white",
            "linecolor": "white",
            "ticks": ""
           }
          },
          "scene": {
           "xaxis": {
            "backgroundcolor": "#E5ECF6",
            "gridcolor": "white",
            "gridwidth": 2,
            "linecolor": "white",
            "showbackground": true,
            "ticks": "",
            "zerolinecolor": "white"
           },
           "yaxis": {
            "backgroundcolor": "#E5ECF6",
            "gridcolor": "white",
            "gridwidth": 2,
            "linecolor": "white",
            "showbackground": true,
            "ticks": "",
            "zerolinecolor": "white"
           },
           "zaxis": {
            "backgroundcolor": "#E5ECF6",
            "gridcolor": "white",
            "gridwidth": 2,
            "linecolor": "white",
            "showbackground": true,
            "ticks": "",
            "zerolinecolor": "white"
           }
          },
          "shapedefaults": {
           "line": {
            "color": "#2a3f5f"
           }
          },
          "ternary": {
           "aaxis": {
            "gridcolor": "white",
            "linecolor": "white",
            "ticks": ""
           },
           "baxis": {
            "gridcolor": "white",
            "linecolor": "white",
            "ticks": ""
           },
           "bgcolor": "#E5ECF6",
           "caxis": {
            "gridcolor": "white",
            "linecolor": "white",
            "ticks": ""
           }
          },
          "title": {
           "x": 0.05
          },
          "xaxis": {
           "automargin": true,
           "gridcolor": "white",
           "linecolor": "white",
           "ticks": "",
           "title": {
            "standoff": 15
           },
           "zerolinecolor": "white",
           "zerolinewidth": 2
          },
          "yaxis": {
           "automargin": true,
           "gridcolor": "white",
           "linecolor": "white",
           "ticks": "",
           "title": {
            "standoff": 15
           },
           "zerolinecolor": "white",
           "zerolinewidth": 2
          }
         }
        },
        "title": {
         "text": "Dragon Type Pokemons - Strongest Pokemons"
        },
        "xaxis": {
         "anchor": "y",
         "domain": [
          0,
          1
         ],
         "tickangle": 45,
         "title": {
          "text": "Total Stat"
         }
        },
        "yaxis": {
         "anchor": "x",
         "domain": [
          0,
          1
         ],
         "title": {
          "text": "Pokemon Name"
         }
        }
       }
      }
     },
     "metadata": {},
     "output_type": "display_data"
    }
   ],
   "source": [
    "# Summary: The bar charts display the total stats of Pokemons grouped by their primary type (Type_1).\n",
    "# Filter for Dragon type only and sort by 'Total' descending\n",
    "dragon_df = df_pok[df_pok['Type_1'] == 'Dragon'].sort_values(by='Total', ascending=False)\n",
    "\n",
    "fig = px.bar(\n",
    "    dragon_df,\n",
    "    x='Total',\n",
    "    y='Name',\n",
    "    title='Dragon Type Pokemons - Strongest Pokemons',\n",
    "    labels={'Name': 'Pokemon Name', 'Total': 'Total Stat'},\n",
    "    color='Total',  # Color by Name, not by Total\n",
    "    \n",
    ")\n",
    "fig.update_layout(xaxis_tickangle=45, showlegend=False)\n",
    "fig.show()\n",
    "# Summary: The bar chart above displays all Dragon type Pokemons sorted by their total base stats.\n",
    "# Mega evolutions like RayquazaMega Rayquaza and LatiasMega Latias have the highest total stats, reaching up to 780.\n",
    "# Standard Dragon types such as Dragonite and Salamence also have high total stats (600+), making them strong choices.\n",
    "# The chart highlights the dominance of Mega and Legendary Dragon types in terms of overall power.\n",
    "# If you want the strongest Dragon, prioritize Mega evolutions or Legendary forms.\n"
   ]
  },
  {
   "cell_type": "code",
   "execution_count": 62,
   "id": "813bebec",
   "metadata": {},
   "outputs": [
    {
     "data": {
      "application/vnd.plotly.v1+json": {
       "config": {
        "plotlyServerURL": "https://plot.ly"
       },
       "data": [
        {
         "hovertemplate": "Total Stat=%{marker.color}<br>Pokemon Name=%{y}<extra></extra>",
         "legendgroup": "",
         "marker": {
          "color": {
           "bdata": "WAJYAlgCWAImAgMC+QH0AfQB9AH0AfQB7wHvAe8B5QHkAdsB2gHYAdEByAHCAagBqAGoAagBngGbAZUBkAGQAYsBiwGLAYYBhgGGAYEBgAF8AWgBaAFFAT8BOwE2ATEBMQEiAR0BDQEKAQkBBAH6APQA7ADgANUAzQDNAM0AzQDIAMMAwwDDAMIA",
           "dtype": "i2"
          },
          "coloraxis": "coloraxis",
          "pattern": {
           "shape": ""
          }
         },
         "name": "",
         "orientation": "h",
         "showlegend": false,
         "textposition": "auto",
         "type": "bar",
         "x": {
          "bdata": "WAJYAlgCWAImAgMC+QH0AfQB9AH0AfQB7wHvAe8B5QHkAdsB2gHYAdEByAHCAagBqAGoAagBngGbAZUBkAGQAYsBiwGLAYYBhgGGAYEBgAF8AWgBaAFFAT8BOwE2ATEBMQEiAR0BDQEKAQkBBAH6APQA7ADgANUAzQDNAM0AzQDIAMMAwwDDAMIA",
          "dtype": "i2"
         },
         "xaxis": "x",
         "y": [
          "PinsirMega Pinsir",
          "Genesect",
          "HeracrossMega Heracross",
          "ScizorMega Scizor",
          "Volcarona",
          "Yanmega",
          "Shuckle",
          "Leavanny",
          "Heracross",
          "Pinsir",
          "Scyther",
          "Scizor",
          "BeedrillMega Beedrill",
          "Escavalier",
          "Accelgor",
          "Scolipede",
          "Durant",
          "Crustle",
          "Vespiquen",
          "Galvantula",
          "Forretress",
          "Ninjask",
          "Venomoth",
          "WormadamTrash Cloak",
          "Mothim",
          "WormadamSandy Cloak",
          "WormadamPlant Cloak",
          "Masquerain",
          "Vivillon",
          "Parasect",
          "Volbeat",
          "Illumise",
          "Beedrill",
          "Butterfree",
          "Beautifly",
          "Ariados",
          "Ledian",
          "Yanma",
          "Dustox",
          "Kricketune",
          "Swadloon",
          "Whirlipede",
          "Larvesta",
          "Dwebble",
          "Joltik",
          "Karrablast",
          "Sewaddle",
          "Venonat",
          "Shelmet",
          "Pineco",
          "Paras",
          "Surskit",
          "Nincada",
          "Ledyba",
          "Venipede",
          "Spinarak",
          "Combee",
          "Shedinja",
          "Burmy",
          "Spewpa",
          "Kakuna",
          "Cascoon",
          "Silcoon",
          "Metapod",
          "Scatterbug",
          "Weedle",
          "Caterpie",
          "Wurmple",
          "Kricketot"
         ],
         "yaxis": "y"
        }
       ],
       "layout": {
        "barmode": "relative",
        "coloraxis": {
         "colorbar": {
          "title": {
           "text": "Total Stat"
          }
         },
         "colorscale": [
          [
           0,
           "#0d0887"
          ],
          [
           0.1111111111111111,
           "#46039f"
          ],
          [
           0.2222222222222222,
           "#7201a8"
          ],
          [
           0.3333333333333333,
           "#9c179e"
          ],
          [
           0.4444444444444444,
           "#bd3786"
          ],
          [
           0.5555555555555556,
           "#d8576b"
          ],
          [
           0.6666666666666666,
           "#ed7953"
          ],
          [
           0.7777777777777778,
           "#fb9f3a"
          ],
          [
           0.8888888888888888,
           "#fdca26"
          ],
          [
           1,
           "#f0f921"
          ]
         ]
        },
        "legend": {
         "tracegroupgap": 0
        },
        "showlegend": false,
        "template": {
         "data": {
          "bar": [
           {
            "error_x": {
             "color": "#2a3f5f"
            },
            "error_y": {
             "color": "#2a3f5f"
            },
            "marker": {
             "line": {
              "color": "#E5ECF6",
              "width": 0.5
             },
             "pattern": {
              "fillmode": "overlay",
              "size": 10,
              "solidity": 0.2
             }
            },
            "type": "bar"
           }
          ],
          "barpolar": [
           {
            "marker": {
             "line": {
              "color": "#E5ECF6",
              "width": 0.5
             },
             "pattern": {
              "fillmode": "overlay",
              "size": 10,
              "solidity": 0.2
             }
            },
            "type": "barpolar"
           }
          ],
          "carpet": [
           {
            "aaxis": {
             "endlinecolor": "#2a3f5f",
             "gridcolor": "white",
             "linecolor": "white",
             "minorgridcolor": "white",
             "startlinecolor": "#2a3f5f"
            },
            "baxis": {
             "endlinecolor": "#2a3f5f",
             "gridcolor": "white",
             "linecolor": "white",
             "minorgridcolor": "white",
             "startlinecolor": "#2a3f5f"
            },
            "type": "carpet"
           }
          ],
          "choropleth": [
           {
            "colorbar": {
             "outlinewidth": 0,
             "ticks": ""
            },
            "type": "choropleth"
           }
          ],
          "contour": [
           {
            "colorbar": {
             "outlinewidth": 0,
             "ticks": ""
            },
            "colorscale": [
             [
              0,
              "#0d0887"
             ],
             [
              0.1111111111111111,
              "#46039f"
             ],
             [
              0.2222222222222222,
              "#7201a8"
             ],
             [
              0.3333333333333333,
              "#9c179e"
             ],
             [
              0.4444444444444444,
              "#bd3786"
             ],
             [
              0.5555555555555556,
              "#d8576b"
             ],
             [
              0.6666666666666666,
              "#ed7953"
             ],
             [
              0.7777777777777778,
              "#fb9f3a"
             ],
             [
              0.8888888888888888,
              "#fdca26"
             ],
             [
              1,
              "#f0f921"
             ]
            ],
            "type": "contour"
           }
          ],
          "contourcarpet": [
           {
            "colorbar": {
             "outlinewidth": 0,
             "ticks": ""
            },
            "type": "contourcarpet"
           }
          ],
          "heatmap": [
           {
            "colorbar": {
             "outlinewidth": 0,
             "ticks": ""
            },
            "colorscale": [
             [
              0,
              "#0d0887"
             ],
             [
              0.1111111111111111,
              "#46039f"
             ],
             [
              0.2222222222222222,
              "#7201a8"
             ],
             [
              0.3333333333333333,
              "#9c179e"
             ],
             [
              0.4444444444444444,
              "#bd3786"
             ],
             [
              0.5555555555555556,
              "#d8576b"
             ],
             [
              0.6666666666666666,
              "#ed7953"
             ],
             [
              0.7777777777777778,
              "#fb9f3a"
             ],
             [
              0.8888888888888888,
              "#fdca26"
             ],
             [
              1,
              "#f0f921"
             ]
            ],
            "type": "heatmap"
           }
          ],
          "histogram": [
           {
            "marker": {
             "pattern": {
              "fillmode": "overlay",
              "size": 10,
              "solidity": 0.2
             }
            },
            "type": "histogram"
           }
          ],
          "histogram2d": [
           {
            "colorbar": {
             "outlinewidth": 0,
             "ticks": ""
            },
            "colorscale": [
             [
              0,
              "#0d0887"
             ],
             [
              0.1111111111111111,
              "#46039f"
             ],
             [
              0.2222222222222222,
              "#7201a8"
             ],
             [
              0.3333333333333333,
              "#9c179e"
             ],
             [
              0.4444444444444444,
              "#bd3786"
             ],
             [
              0.5555555555555556,
              "#d8576b"
             ],
             [
              0.6666666666666666,
              "#ed7953"
             ],
             [
              0.7777777777777778,
              "#fb9f3a"
             ],
             [
              0.8888888888888888,
              "#fdca26"
             ],
             [
              1,
              "#f0f921"
             ]
            ],
            "type": "histogram2d"
           }
          ],
          "histogram2dcontour": [
           {
            "colorbar": {
             "outlinewidth": 0,
             "ticks": ""
            },
            "colorscale": [
             [
              0,
              "#0d0887"
             ],
             [
              0.1111111111111111,
              "#46039f"
             ],
             [
              0.2222222222222222,
              "#7201a8"
             ],
             [
              0.3333333333333333,
              "#9c179e"
             ],
             [
              0.4444444444444444,
              "#bd3786"
             ],
             [
              0.5555555555555556,
              "#d8576b"
             ],
             [
              0.6666666666666666,
              "#ed7953"
             ],
             [
              0.7777777777777778,
              "#fb9f3a"
             ],
             [
              0.8888888888888888,
              "#fdca26"
             ],
             [
              1,
              "#f0f921"
             ]
            ],
            "type": "histogram2dcontour"
           }
          ],
          "mesh3d": [
           {
            "colorbar": {
             "outlinewidth": 0,
             "ticks": ""
            },
            "type": "mesh3d"
           }
          ],
          "parcoords": [
           {
            "line": {
             "colorbar": {
              "outlinewidth": 0,
              "ticks": ""
             }
            },
            "type": "parcoords"
           }
          ],
          "pie": [
           {
            "automargin": true,
            "type": "pie"
           }
          ],
          "scatter": [
           {
            "fillpattern": {
             "fillmode": "overlay",
             "size": 10,
             "solidity": 0.2
            },
            "type": "scatter"
           }
          ],
          "scatter3d": [
           {
            "line": {
             "colorbar": {
              "outlinewidth": 0,
              "ticks": ""
             }
            },
            "marker": {
             "colorbar": {
              "outlinewidth": 0,
              "ticks": ""
             }
            },
            "type": "scatter3d"
           }
          ],
          "scattercarpet": [
           {
            "marker": {
             "colorbar": {
              "outlinewidth": 0,
              "ticks": ""
             }
            },
            "type": "scattercarpet"
           }
          ],
          "scattergeo": [
           {
            "marker": {
             "colorbar": {
              "outlinewidth": 0,
              "ticks": ""
             }
            },
            "type": "scattergeo"
           }
          ],
          "scattergl": [
           {
            "marker": {
             "colorbar": {
              "outlinewidth": 0,
              "ticks": ""
             }
            },
            "type": "scattergl"
           }
          ],
          "scattermap": [
           {
            "marker": {
             "colorbar": {
              "outlinewidth": 0,
              "ticks": ""
             }
            },
            "type": "scattermap"
           }
          ],
          "scattermapbox": [
           {
            "marker": {
             "colorbar": {
              "outlinewidth": 0,
              "ticks": ""
             }
            },
            "type": "scattermapbox"
           }
          ],
          "scatterpolar": [
           {
            "marker": {
             "colorbar": {
              "outlinewidth": 0,
              "ticks": ""
             }
            },
            "type": "scatterpolar"
           }
          ],
          "scatterpolargl": [
           {
            "marker": {
             "colorbar": {
              "outlinewidth": 0,
              "ticks": ""
             }
            },
            "type": "scatterpolargl"
           }
          ],
          "scatterternary": [
           {
            "marker": {
             "colorbar": {
              "outlinewidth": 0,
              "ticks": ""
             }
            },
            "type": "scatterternary"
           }
          ],
          "surface": [
           {
            "colorbar": {
             "outlinewidth": 0,
             "ticks": ""
            },
            "colorscale": [
             [
              0,
              "#0d0887"
             ],
             [
              0.1111111111111111,
              "#46039f"
             ],
             [
              0.2222222222222222,
              "#7201a8"
             ],
             [
              0.3333333333333333,
              "#9c179e"
             ],
             [
              0.4444444444444444,
              "#bd3786"
             ],
             [
              0.5555555555555556,
              "#d8576b"
             ],
             [
              0.6666666666666666,
              "#ed7953"
             ],
             [
              0.7777777777777778,
              "#fb9f3a"
             ],
             [
              0.8888888888888888,
              "#fdca26"
             ],
             [
              1,
              "#f0f921"
             ]
            ],
            "type": "surface"
           }
          ],
          "table": [
           {
            "cells": {
             "fill": {
              "color": "#EBF0F8"
             },
             "line": {
              "color": "white"
             }
            },
            "header": {
             "fill": {
              "color": "#C8D4E3"
             },
             "line": {
              "color": "white"
             }
            },
            "type": "table"
           }
          ]
         },
         "layout": {
          "annotationdefaults": {
           "arrowcolor": "#2a3f5f",
           "arrowhead": 0,
           "arrowwidth": 1
          },
          "autotypenumbers": "strict",
          "coloraxis": {
           "colorbar": {
            "outlinewidth": 0,
            "ticks": ""
           }
          },
          "colorscale": {
           "diverging": [
            [
             0,
             "#8e0152"
            ],
            [
             0.1,
             "#c51b7d"
            ],
            [
             0.2,
             "#de77ae"
            ],
            [
             0.3,
             "#f1b6da"
            ],
            [
             0.4,
             "#fde0ef"
            ],
            [
             0.5,
             "#f7f7f7"
            ],
            [
             0.6,
             "#e6f5d0"
            ],
            [
             0.7,
             "#b8e186"
            ],
            [
             0.8,
             "#7fbc41"
            ],
            [
             0.9,
             "#4d9221"
            ],
            [
             1,
             "#276419"
            ]
           ],
           "sequential": [
            [
             0,
             "#0d0887"
            ],
            [
             0.1111111111111111,
             "#46039f"
            ],
            [
             0.2222222222222222,
             "#7201a8"
            ],
            [
             0.3333333333333333,
             "#9c179e"
            ],
            [
             0.4444444444444444,
             "#bd3786"
            ],
            [
             0.5555555555555556,
             "#d8576b"
            ],
            [
             0.6666666666666666,
             "#ed7953"
            ],
            [
             0.7777777777777778,
             "#fb9f3a"
            ],
            [
             0.8888888888888888,
             "#fdca26"
            ],
            [
             1,
             "#f0f921"
            ]
           ],
           "sequentialminus": [
            [
             0,
             "#0d0887"
            ],
            [
             0.1111111111111111,
             "#46039f"
            ],
            [
             0.2222222222222222,
             "#7201a8"
            ],
            [
             0.3333333333333333,
             "#9c179e"
            ],
            [
             0.4444444444444444,
             "#bd3786"
            ],
            [
             0.5555555555555556,
             "#d8576b"
            ],
            [
             0.6666666666666666,
             "#ed7953"
            ],
            [
             0.7777777777777778,
             "#fb9f3a"
            ],
            [
             0.8888888888888888,
             "#fdca26"
            ],
            [
             1,
             "#f0f921"
            ]
           ]
          },
          "colorway": [
           "#636efa",
           "#EF553B",
           "#00cc96",
           "#ab63fa",
           "#FFA15A",
           "#19d3f3",
           "#FF6692",
           "#B6E880",
           "#FF97FF",
           "#FECB52"
          ],
          "font": {
           "color": "#2a3f5f"
          },
          "geo": {
           "bgcolor": "white",
           "lakecolor": "white",
           "landcolor": "#E5ECF6",
           "showlakes": true,
           "showland": true,
           "subunitcolor": "white"
          },
          "hoverlabel": {
           "align": "left"
          },
          "hovermode": "closest",
          "mapbox": {
           "style": "light"
          },
          "paper_bgcolor": "white",
          "plot_bgcolor": "#E5ECF6",
          "polar": {
           "angularaxis": {
            "gridcolor": "white",
            "linecolor": "white",
            "ticks": ""
           },
           "bgcolor": "#E5ECF6",
           "radialaxis": {
            "gridcolor": "white",
            "linecolor": "white",
            "ticks": ""
           }
          },
          "scene": {
           "xaxis": {
            "backgroundcolor": "#E5ECF6",
            "gridcolor": "white",
            "gridwidth": 2,
            "linecolor": "white",
            "showbackground": true,
            "ticks": "",
            "zerolinecolor": "white"
           },
           "yaxis": {
            "backgroundcolor": "#E5ECF6",
            "gridcolor": "white",
            "gridwidth": 2,
            "linecolor": "white",
            "showbackground": true,
            "ticks": "",
            "zerolinecolor": "white"
           },
           "zaxis": {
            "backgroundcolor": "#E5ECF6",
            "gridcolor": "white",
            "gridwidth": 2,
            "linecolor": "white",
            "showbackground": true,
            "ticks": "",
            "zerolinecolor": "white"
           }
          },
          "shapedefaults": {
           "line": {
            "color": "#2a3f5f"
           }
          },
          "ternary": {
           "aaxis": {
            "gridcolor": "white",
            "linecolor": "white",
            "ticks": ""
           },
           "baxis": {
            "gridcolor": "white",
            "linecolor": "white",
            "ticks": ""
           },
           "bgcolor": "#E5ECF6",
           "caxis": {
            "gridcolor": "white",
            "linecolor": "white",
            "ticks": ""
           }
          },
          "title": {
           "x": 0.05
          },
          "xaxis": {
           "automargin": true,
           "gridcolor": "white",
           "linecolor": "white",
           "ticks": "",
           "title": {
            "standoff": 15
           },
           "zerolinecolor": "white",
           "zerolinewidth": 2
          },
          "yaxis": {
           "automargin": true,
           "gridcolor": "white",
           "linecolor": "white",
           "ticks": "",
           "title": {
            "standoff": 15
           },
           "zerolinecolor": "white",
           "zerolinewidth": 2
          }
         }
        },
        "title": {
         "text": "Bug Type Pokemons - Weakest Pokemons"
        },
        "xaxis": {
         "anchor": "y",
         "domain": [
          0,
          1
         ],
         "tickangle": 45,
         "title": {
          "text": "Total Stat"
         }
        },
        "yaxis": {
         "anchor": "x",
         "domain": [
          0,
          1
         ],
         "title": {
          "text": "Pokemon Name"
         }
        }
       }
      }
     },
     "metadata": {},
     "output_type": "display_data"
    }
   ],
   "source": [
    " #Filter for Bug type only and sort by 'Total' descending\n",
    "Bug_df = df_pok[df_pok['Type_1'] == 'Bug'].sort_values(by='Total', ascending=False)\n",
    "\n",
    "fig = px.bar(\n",
    "    Bug_df,\n",
    "    x='Total',\n",
    "    y='Name',\n",
    "    title='Bug Type Pokemons - Weakest Pokemons',\n",
    "    labels={'Name': 'Pokemon Name', 'Total': 'Total Stat'},\n",
    "    color='Total',  # Color by Name, not by Total\n",
    "    \n",
    ")\n",
    "fig.update_layout(xaxis_tickangle=45, showlegend=False)\n",
    "fig.show()\n",
    "\n",
    "# Summary: The bar chart above displays all Bug type Pokemons sorted by their total base stats (ascending).\n",
    "# The lowest total stats belong to early-stage Bug types like Kricketot, Caterpie, and Wurmple (around 194–200).\n",
    "# The highest total stats (600) are held by Mega evolutions and Legendary Bug types such as ScizorMega Scizor, HeracrossMega Heracross, PinsirMega Pinsir, and Genesect.\n",
    "# Most Bug types have lower total stats compared to other types, which is reflected in the mean 'Total' for Bug types being the lowest among all primary types.\n",
    "# This suggests Bug types are generally less powerful in terms of base stats, making them less favorable for competitive battles."
   ]
  },
  {
   "cell_type": "code",
   "execution_count": 10,
   "id": "d2415f00",
   "metadata": {},
   "outputs": [
    {
     "data": {
      "application/vnd.plotly.v1+json": {
       "config": {
        "plotlyServerURL": "https://plot.ly"
       },
       "data": [
        {
         "marker": {
          "color": [
           "gray",
           "green",
           "gray",
           "green",
           "gray",
           "green",
           "gray",
           "green",
           "gray",
           "green",
           "gray",
           "green",
           "gray",
           "green",
           "gray",
           "green",
           "gray",
           "green"
          ]
         },
         "type": "bar",
         "x": [
          "Dragon",
          "Normal",
          "Fairy",
          "Ground",
          "Water",
          "Ice",
          "Flying",
          "Psychic",
          "Fire",
          "Fighting",
          "Grass",
          "Poison",
          "Dark",
          "Rock",
          "Steel",
          "Ghost",
          "Electric",
          "Bug"
         ],
         "y": {
          "bdata": "AAAAAADUVECsD431oVFTQIiHh4eHh1JAAAAAAAByUkAAAAAAAARSQAAAAAAAAFJAAAAAAACwUUCH8hrKa6hRQJ7YiZ3YeVFAaC+hvYR2UUAWX/EVX9FQQAAAAAAA0FBAdM4555yzUEAXXXTRRVdQQOQ4juM4TlBAAAAAAAAcUEBGF1100eVNQD+jxM8ocUxA",
          "dtype": "f8"
         }
        }
       ],
       "layout": {
        "template": {
         "data": {
          "bar": [
           {
            "error_x": {
             "color": "#2a3f5f"
            },
            "error_y": {
             "color": "#2a3f5f"
            },
            "marker": {
             "line": {
              "color": "#E5ECF6",
              "width": 0.5
             },
             "pattern": {
              "fillmode": "overlay",
              "size": 10,
              "solidity": 0.2
             }
            },
            "type": "bar"
           }
          ],
          "barpolar": [
           {
            "marker": {
             "line": {
              "color": "#E5ECF6",
              "width": 0.5
             },
             "pattern": {
              "fillmode": "overlay",
              "size": 10,
              "solidity": 0.2
             }
            },
            "type": "barpolar"
           }
          ],
          "carpet": [
           {
            "aaxis": {
             "endlinecolor": "#2a3f5f",
             "gridcolor": "white",
             "linecolor": "white",
             "minorgridcolor": "white",
             "startlinecolor": "#2a3f5f"
            },
            "baxis": {
             "endlinecolor": "#2a3f5f",
             "gridcolor": "white",
             "linecolor": "white",
             "minorgridcolor": "white",
             "startlinecolor": "#2a3f5f"
            },
            "type": "carpet"
           }
          ],
          "choropleth": [
           {
            "colorbar": {
             "outlinewidth": 0,
             "ticks": ""
            },
            "type": "choropleth"
           }
          ],
          "contour": [
           {
            "colorbar": {
             "outlinewidth": 0,
             "ticks": ""
            },
            "colorscale": [
             [
              0,
              "#0d0887"
             ],
             [
              0.1111111111111111,
              "#46039f"
             ],
             [
              0.2222222222222222,
              "#7201a8"
             ],
             [
              0.3333333333333333,
              "#9c179e"
             ],
             [
              0.4444444444444444,
              "#bd3786"
             ],
             [
              0.5555555555555556,
              "#d8576b"
             ],
             [
              0.6666666666666666,
              "#ed7953"
             ],
             [
              0.7777777777777778,
              "#fb9f3a"
             ],
             [
              0.8888888888888888,
              "#fdca26"
             ],
             [
              1,
              "#f0f921"
             ]
            ],
            "type": "contour"
           }
          ],
          "contourcarpet": [
           {
            "colorbar": {
             "outlinewidth": 0,
             "ticks": ""
            },
            "type": "contourcarpet"
           }
          ],
          "heatmap": [
           {
            "colorbar": {
             "outlinewidth": 0,
             "ticks": ""
            },
            "colorscale": [
             [
              0,
              "#0d0887"
             ],
             [
              0.1111111111111111,
              "#46039f"
             ],
             [
              0.2222222222222222,
              "#7201a8"
             ],
             [
              0.3333333333333333,
              "#9c179e"
             ],
             [
              0.4444444444444444,
              "#bd3786"
             ],
             [
              0.5555555555555556,
              "#d8576b"
             ],
             [
              0.6666666666666666,
              "#ed7953"
             ],
             [
              0.7777777777777778,
              "#fb9f3a"
             ],
             [
              0.8888888888888888,
              "#fdca26"
             ],
             [
              1,
              "#f0f921"
             ]
            ],
            "type": "heatmap"
           }
          ],
          "histogram": [
           {
            "marker": {
             "pattern": {
              "fillmode": "overlay",
              "size": 10,
              "solidity": 0.2
             }
            },
            "type": "histogram"
           }
          ],
          "histogram2d": [
           {
            "colorbar": {
             "outlinewidth": 0,
             "ticks": ""
            },
            "colorscale": [
             [
              0,
              "#0d0887"
             ],
             [
              0.1111111111111111,
              "#46039f"
             ],
             [
              0.2222222222222222,
              "#7201a8"
             ],
             [
              0.3333333333333333,
              "#9c179e"
             ],
             [
              0.4444444444444444,
              "#bd3786"
             ],
             [
              0.5555555555555556,
              "#d8576b"
             ],
             [
              0.6666666666666666,
              "#ed7953"
             ],
             [
              0.7777777777777778,
              "#fb9f3a"
             ],
             [
              0.8888888888888888,
              "#fdca26"
             ],
             [
              1,
              "#f0f921"
             ]
            ],
            "type": "histogram2d"
           }
          ],
          "histogram2dcontour": [
           {
            "colorbar": {
             "outlinewidth": 0,
             "ticks": ""
            },
            "colorscale": [
             [
              0,
              "#0d0887"
             ],
             [
              0.1111111111111111,
              "#46039f"
             ],
             [
              0.2222222222222222,
              "#7201a8"
             ],
             [
              0.3333333333333333,
              "#9c179e"
             ],
             [
              0.4444444444444444,
              "#bd3786"
             ],
             [
              0.5555555555555556,
              "#d8576b"
             ],
             [
              0.6666666666666666,
              "#ed7953"
             ],
             [
              0.7777777777777778,
              "#fb9f3a"
             ],
             [
              0.8888888888888888,
              "#fdca26"
             ],
             [
              1,
              "#f0f921"
             ]
            ],
            "type": "histogram2dcontour"
           }
          ],
          "mesh3d": [
           {
            "colorbar": {
             "outlinewidth": 0,
             "ticks": ""
            },
            "type": "mesh3d"
           }
          ],
          "parcoords": [
           {
            "line": {
             "colorbar": {
              "outlinewidth": 0,
              "ticks": ""
             }
            },
            "type": "parcoords"
           }
          ],
          "pie": [
           {
            "automargin": true,
            "type": "pie"
           }
          ],
          "scatter": [
           {
            "fillpattern": {
             "fillmode": "overlay",
             "size": 10,
             "solidity": 0.2
            },
            "type": "scatter"
           }
          ],
          "scatter3d": [
           {
            "line": {
             "colorbar": {
              "outlinewidth": 0,
              "ticks": ""
             }
            },
            "marker": {
             "colorbar": {
              "outlinewidth": 0,
              "ticks": ""
             }
            },
            "type": "scatter3d"
           }
          ],
          "scattercarpet": [
           {
            "marker": {
             "colorbar": {
              "outlinewidth": 0,
              "ticks": ""
             }
            },
            "type": "scattercarpet"
           }
          ],
          "scattergeo": [
           {
            "marker": {
             "colorbar": {
              "outlinewidth": 0,
              "ticks": ""
             }
            },
            "type": "scattergeo"
           }
          ],
          "scattergl": [
           {
            "marker": {
             "colorbar": {
              "outlinewidth": 0,
              "ticks": ""
             }
            },
            "type": "scattergl"
           }
          ],
          "scattermap": [
           {
            "marker": {
             "colorbar": {
              "outlinewidth": 0,
              "ticks": ""
             }
            },
            "type": "scattermap"
           }
          ],
          "scattermapbox": [
           {
            "marker": {
             "colorbar": {
              "outlinewidth": 0,
              "ticks": ""
             }
            },
            "type": "scattermapbox"
           }
          ],
          "scatterpolar": [
           {
            "marker": {
             "colorbar": {
              "outlinewidth": 0,
              "ticks": ""
             }
            },
            "type": "scatterpolar"
           }
          ],
          "scatterpolargl": [
           {
            "marker": {
             "colorbar": {
              "outlinewidth": 0,
              "ticks": ""
             }
            },
            "type": "scatterpolargl"
           }
          ],
          "scatterternary": [
           {
            "marker": {
             "colorbar": {
              "outlinewidth": 0,
              "ticks": ""
             }
            },
            "type": "scatterternary"
           }
          ],
          "surface": [
           {
            "colorbar": {
             "outlinewidth": 0,
             "ticks": ""
            },
            "colorscale": [
             [
              0,
              "#0d0887"
             ],
             [
              0.1111111111111111,
              "#46039f"
             ],
             [
              0.2222222222222222,
              "#7201a8"
             ],
             [
              0.3333333333333333,
              "#9c179e"
             ],
             [
              0.4444444444444444,
              "#bd3786"
             ],
             [
              0.5555555555555556,
              "#d8576b"
             ],
             [
              0.6666666666666666,
              "#ed7953"
             ],
             [
              0.7777777777777778,
              "#fb9f3a"
             ],
             [
              0.8888888888888888,
              "#fdca26"
             ],
             [
              1,
              "#f0f921"
             ]
            ],
            "type": "surface"
           }
          ],
          "table": [
           {
            "cells": {
             "fill": {
              "color": "#EBF0F8"
             },
             "line": {
              "color": "white"
             }
            },
            "header": {
             "fill": {
              "color": "#C8D4E3"
             },
             "line": {
              "color": "white"
             }
            },
            "type": "table"
           }
          ]
         },
         "layout": {
          "annotationdefaults": {
           "arrowcolor": "#2a3f5f",
           "arrowhead": 0,
           "arrowwidth": 1
          },
          "autotypenumbers": "strict",
          "coloraxis": {
           "colorbar": {
            "outlinewidth": 0,
            "ticks": ""
           }
          },
          "colorscale": {
           "diverging": [
            [
             0,
             "#8e0152"
            ],
            [
             0.1,
             "#c51b7d"
            ],
            [
             0.2,
             "#de77ae"
            ],
            [
             0.3,
             "#f1b6da"
            ],
            [
             0.4,
             "#fde0ef"
            ],
            [
             0.5,
             "#f7f7f7"
            ],
            [
             0.6,
             "#e6f5d0"
            ],
            [
             0.7,
             "#b8e186"
            ],
            [
             0.8,
             "#7fbc41"
            ],
            [
             0.9,
             "#4d9221"
            ],
            [
             1,
             "#276419"
            ]
           ],
           "sequential": [
            [
             0,
             "#0d0887"
            ],
            [
             0.1111111111111111,
             "#46039f"
            ],
            [
             0.2222222222222222,
             "#7201a8"
            ],
            [
             0.3333333333333333,
             "#9c179e"
            ],
            [
             0.4444444444444444,
             "#bd3786"
            ],
            [
             0.5555555555555556,
             "#d8576b"
            ],
            [
             0.6666666666666666,
             "#ed7953"
            ],
            [
             0.7777777777777778,
             "#fb9f3a"
            ],
            [
             0.8888888888888888,
             "#fdca26"
            ],
            [
             1,
             "#f0f921"
            ]
           ],
           "sequentialminus": [
            [
             0,
             "#0d0887"
            ],
            [
             0.1111111111111111,
             "#46039f"
            ],
            [
             0.2222222222222222,
             "#7201a8"
            ],
            [
             0.3333333333333333,
             "#9c179e"
            ],
            [
             0.4444444444444444,
             "#bd3786"
            ],
            [
             0.5555555555555556,
             "#d8576b"
            ],
            [
             0.6666666666666666,
             "#ed7953"
            ],
            [
             0.7777777777777778,
             "#fb9f3a"
            ],
            [
             0.8888888888888888,
             "#fdca26"
            ],
            [
             1,
             "#f0f921"
            ]
           ]
          },
          "colorway": [
           "#636efa",
           "#EF553B",
           "#00cc96",
           "#ab63fa",
           "#FFA15A",
           "#19d3f3",
           "#FF6692",
           "#B6E880",
           "#FF97FF",
           "#FECB52"
          ],
          "font": {
           "color": "#2a3f5f"
          },
          "geo": {
           "bgcolor": "white",
           "lakecolor": "white",
           "landcolor": "#E5ECF6",
           "showlakes": true,
           "showland": true,
           "subunitcolor": "white"
          },
          "hoverlabel": {
           "align": "left"
          },
          "hovermode": "closest",
          "mapbox": {
           "style": "light"
          },
          "paper_bgcolor": "white",
          "plot_bgcolor": "#E5ECF6",
          "polar": {
           "angularaxis": {
            "gridcolor": "white",
            "linecolor": "white",
            "ticks": ""
           },
           "bgcolor": "#E5ECF6",
           "radialaxis": {
            "gridcolor": "white",
            "linecolor": "white",
            "ticks": ""
           }
          },
          "scene": {
           "xaxis": {
            "backgroundcolor": "#E5ECF6",
            "gridcolor": "white",
            "gridwidth": 2,
            "linecolor": "white",
            "showbackground": true,
            "ticks": "",
            "zerolinecolor": "white"
           },
           "yaxis": {
            "backgroundcolor": "#E5ECF6",
            "gridcolor": "white",
            "gridwidth": 2,
            "linecolor": "white",
            "showbackground": true,
            "ticks": "",
            "zerolinecolor": "white"
           },
           "zaxis": {
            "backgroundcolor": "#E5ECF6",
            "gridcolor": "white",
            "gridwidth": 2,
            "linecolor": "white",
            "showbackground": true,
            "ticks": "",
            "zerolinecolor": "white"
           }
          },
          "shapedefaults": {
           "line": {
            "color": "#2a3f5f"
           }
          },
          "ternary": {
           "aaxis": {
            "gridcolor": "white",
            "linecolor": "white",
            "ticks": ""
           },
           "baxis": {
            "gridcolor": "white",
            "linecolor": "white",
            "ticks": ""
           },
           "bgcolor": "#E5ECF6",
           "caxis": {
            "gridcolor": "white",
            "linecolor": "white",
            "ticks": ""
           }
          },
          "title": {
           "x": 0.05
          },
          "xaxis": {
           "automargin": true,
           "gridcolor": "white",
           "linecolor": "white",
           "ticks": "",
           "title": {
            "standoff": 15
           },
           "zerolinecolor": "white",
           "zerolinewidth": 2
          },
          "yaxis": {
           "automargin": true,
           "gridcolor": "white",
           "linecolor": "white",
           "ticks": "",
           "title": {
            "standoff": 15
           },
           "zerolinecolor": "white",
           "zerolinewidth": 2
          }
         }
        },
        "title": {
         "text": "Mean Hit Points by Collective Type 1 Pokemons"
        },
        "xaxis": {
         "tickangle": 45,
         "title": {
          "text": "Collective Pokemon Type 1"
         }
        },
        "yaxis": {
         "title": {
          "text": "Mean Hit Points"
         }
        }
       }
      }
     },
     "metadata": {},
     "output_type": "display_data"
    }
   ],
   "source": [
    "# Sort grouped_pok by 'Hit_points' descending\n",
    "grouped_pok_sorted_hit = grouped_pok.sort_values(by='Hit_points', ascending=False)\n",
    "\n",
    "# Create alternating green and gray colors for the bars to improve visual distinction\n",
    "bar_colors = ['gray' if i % 2 == 0 else 'green' for i in range(len(grouped_pok_sorted_hit))]\n",
    "\n",
    "# Create a bar plot using Plotly to show mean 'Hit_points' by Type_1\n",
    "fig = go.Figure(\n",
    "    data=[\n",
    "        go.Bar(\n",
    "            x=grouped_pok_sorted_hit.index,            # X-axis: Pokemon Type_1 categories\n",
    "            y=grouped_pok_sorted_hit['Hit_points'],    # Y-axis: Mean 'Hit_points' stat for each type\n",
    "            marker_color=bar_colors                # Bar colors: alternating green and gray\n",
    "        )\n",
    "    ]\n",
    ")\n",
    "\n",
    "# Update the layout for better readability and presentation\n",
    "fig.update_layout(\n",
    "    title='Mean Hit Points by Collective Type 1 Pokemons',  # Chart title\n",
    "    xaxis_title='Collective Pokemon Type 1',                # X-axis label\n",
    "    yaxis_title='Mean Hit Points',                          # Y-axis label\n",
    "    xaxis_tickangle=45                                      # Rotate x-axis labels for clarity\n",
    ")\n",
    "\n",
    "# Display the plot\n",
    "fig.show()\n",
    "# Summary: The bar chart above displays the mean Hit Points (HP) for each primary Pokemon type.\n",
    "# Dragon types have the highest average HP, followed by Normal and Fairy types.\n",
    "# Bug types have the lowest mean HP, indicating they are generally less durable in battles.\n",
    "# This information is useful for selecting Pokemon types that can withstand more damage, which is important for defensive strategies.\n"
   ]
  },
  {
   "cell_type": "code",
   "execution_count": 11,
   "id": "2a39638d",
   "metadata": {},
   "outputs": [
    {
     "data": {
      "application/vnd.plotly.v1+json": {
       "config": {
        "plotlyServerURL": "https://plot.ly"
       },
       "data": [
        {
         "marker": {
          "color": [
           "gray",
           "green",
           "gray",
           "green",
           "gray",
           "green",
           "gray",
           "green",
           "gray",
           "green",
           "gray",
           "green",
           "gray",
           "green",
           "gray",
           "green",
           "gray",
           "green"
          ]
         },
         "type": "bar",
         "x": [
          "Dragon",
          "Fighting",
          "Ground",
          "Rock",
          "Steel",
          "Dark",
          "Fire",
          "Flying",
          "Poison",
          "Water",
          "Ghost",
          "Normal",
          "Grass",
          "Ice",
          "Psychic",
          "Bug",
          "Electric",
          "Fairy"
         ],
         "y": {
          "bdata": "AAAAAAAIXEAcx3EcxzFYQAAAAAAA8FdAF1100UU3V0DRXkJ7CS1XQBljjDHGGFZAFDuxEzsxVUAAAAAAALBTQLdt27Ztq1JA27Zt27aJUkAAAAAAAHJSQJhT8HIKXlJA27Zt27ZNUkAAAAAAADBSQNNZTGcx3VFAaJT4GSW+UUBGF1100UVRQMTDw8PDw05A",
          "dtype": "f8"
         }
        }
       ],
       "layout": {
        "template": {
         "data": {
          "bar": [
           {
            "error_x": {
             "color": "#2a3f5f"
            },
            "error_y": {
             "color": "#2a3f5f"
            },
            "marker": {
             "line": {
              "color": "#E5ECF6",
              "width": 0.5
             },
             "pattern": {
              "fillmode": "overlay",
              "size": 10,
              "solidity": 0.2
             }
            },
            "type": "bar"
           }
          ],
          "barpolar": [
           {
            "marker": {
             "line": {
              "color": "#E5ECF6",
              "width": 0.5
             },
             "pattern": {
              "fillmode": "overlay",
              "size": 10,
              "solidity": 0.2
             }
            },
            "type": "barpolar"
           }
          ],
          "carpet": [
           {
            "aaxis": {
             "endlinecolor": "#2a3f5f",
             "gridcolor": "white",
             "linecolor": "white",
             "minorgridcolor": "white",
             "startlinecolor": "#2a3f5f"
            },
            "baxis": {
             "endlinecolor": "#2a3f5f",
             "gridcolor": "white",
             "linecolor": "white",
             "minorgridcolor": "white",
             "startlinecolor": "#2a3f5f"
            },
            "type": "carpet"
           }
          ],
          "choropleth": [
           {
            "colorbar": {
             "outlinewidth": 0,
             "ticks": ""
            },
            "type": "choropleth"
           }
          ],
          "contour": [
           {
            "colorbar": {
             "outlinewidth": 0,
             "ticks": ""
            },
            "colorscale": [
             [
              0,
              "#0d0887"
             ],
             [
              0.1111111111111111,
              "#46039f"
             ],
             [
              0.2222222222222222,
              "#7201a8"
             ],
             [
              0.3333333333333333,
              "#9c179e"
             ],
             [
              0.4444444444444444,
              "#bd3786"
             ],
             [
              0.5555555555555556,
              "#d8576b"
             ],
             [
              0.6666666666666666,
              "#ed7953"
             ],
             [
              0.7777777777777778,
              "#fb9f3a"
             ],
             [
              0.8888888888888888,
              "#fdca26"
             ],
             [
              1,
              "#f0f921"
             ]
            ],
            "type": "contour"
           }
          ],
          "contourcarpet": [
           {
            "colorbar": {
             "outlinewidth": 0,
             "ticks": ""
            },
            "type": "contourcarpet"
           }
          ],
          "heatmap": [
           {
            "colorbar": {
             "outlinewidth": 0,
             "ticks": ""
            },
            "colorscale": [
             [
              0,
              "#0d0887"
             ],
             [
              0.1111111111111111,
              "#46039f"
             ],
             [
              0.2222222222222222,
              "#7201a8"
             ],
             [
              0.3333333333333333,
              "#9c179e"
             ],
             [
              0.4444444444444444,
              "#bd3786"
             ],
             [
              0.5555555555555556,
              "#d8576b"
             ],
             [
              0.6666666666666666,
              "#ed7953"
             ],
             [
              0.7777777777777778,
              "#fb9f3a"
             ],
             [
              0.8888888888888888,
              "#fdca26"
             ],
             [
              1,
              "#f0f921"
             ]
            ],
            "type": "heatmap"
           }
          ],
          "histogram": [
           {
            "marker": {
             "pattern": {
              "fillmode": "overlay",
              "size": 10,
              "solidity": 0.2
             }
            },
            "type": "histogram"
           }
          ],
          "histogram2d": [
           {
            "colorbar": {
             "outlinewidth": 0,
             "ticks": ""
            },
            "colorscale": [
             [
              0,
              "#0d0887"
             ],
             [
              0.1111111111111111,
              "#46039f"
             ],
             [
              0.2222222222222222,
              "#7201a8"
             ],
             [
              0.3333333333333333,
              "#9c179e"
             ],
             [
              0.4444444444444444,
              "#bd3786"
             ],
             [
              0.5555555555555556,
              "#d8576b"
             ],
             [
              0.6666666666666666,
              "#ed7953"
             ],
             [
              0.7777777777777778,
              "#fb9f3a"
             ],
             [
              0.8888888888888888,
              "#fdca26"
             ],
             [
              1,
              "#f0f921"
             ]
            ],
            "type": "histogram2d"
           }
          ],
          "histogram2dcontour": [
           {
            "colorbar": {
             "outlinewidth": 0,
             "ticks": ""
            },
            "colorscale": [
             [
              0,
              "#0d0887"
             ],
             [
              0.1111111111111111,
              "#46039f"
             ],
             [
              0.2222222222222222,
              "#7201a8"
             ],
             [
              0.3333333333333333,
              "#9c179e"
             ],
             [
              0.4444444444444444,
              "#bd3786"
             ],
             [
              0.5555555555555556,
              "#d8576b"
             ],
             [
              0.6666666666666666,
              "#ed7953"
             ],
             [
              0.7777777777777778,
              "#fb9f3a"
             ],
             [
              0.8888888888888888,
              "#fdca26"
             ],
             [
              1,
              "#f0f921"
             ]
            ],
            "type": "histogram2dcontour"
           }
          ],
          "mesh3d": [
           {
            "colorbar": {
             "outlinewidth": 0,
             "ticks": ""
            },
            "type": "mesh3d"
           }
          ],
          "parcoords": [
           {
            "line": {
             "colorbar": {
              "outlinewidth": 0,
              "ticks": ""
             }
            },
            "type": "parcoords"
           }
          ],
          "pie": [
           {
            "automargin": true,
            "type": "pie"
           }
          ],
          "scatter": [
           {
            "fillpattern": {
             "fillmode": "overlay",
             "size": 10,
             "solidity": 0.2
            },
            "type": "scatter"
           }
          ],
          "scatter3d": [
           {
            "line": {
             "colorbar": {
              "outlinewidth": 0,
              "ticks": ""
             }
            },
            "marker": {
             "colorbar": {
              "outlinewidth": 0,
              "ticks": ""
             }
            },
            "type": "scatter3d"
           }
          ],
          "scattercarpet": [
           {
            "marker": {
             "colorbar": {
              "outlinewidth": 0,
              "ticks": ""
             }
            },
            "type": "scattercarpet"
           }
          ],
          "scattergeo": [
           {
            "marker": {
             "colorbar": {
              "outlinewidth": 0,
              "ticks": ""
             }
            },
            "type": "scattergeo"
           }
          ],
          "scattergl": [
           {
            "marker": {
             "colorbar": {
              "outlinewidth": 0,
              "ticks": ""
             }
            },
            "type": "scattergl"
           }
          ],
          "scattermap": [
           {
            "marker": {
             "colorbar": {
              "outlinewidth": 0,
              "ticks": ""
             }
            },
            "type": "scattermap"
           }
          ],
          "scattermapbox": [
           {
            "marker": {
             "colorbar": {
              "outlinewidth": 0,
              "ticks": ""
             }
            },
            "type": "scattermapbox"
           }
          ],
          "scatterpolar": [
           {
            "marker": {
             "colorbar": {
              "outlinewidth": 0,
              "ticks": ""
             }
            },
            "type": "scatterpolar"
           }
          ],
          "scatterpolargl": [
           {
            "marker": {
             "colorbar": {
              "outlinewidth": 0,
              "ticks": ""
             }
            },
            "type": "scatterpolargl"
           }
          ],
          "scatterternary": [
           {
            "marker": {
             "colorbar": {
              "outlinewidth": 0,
              "ticks": ""
             }
            },
            "type": "scatterternary"
           }
          ],
          "surface": [
           {
            "colorbar": {
             "outlinewidth": 0,
             "ticks": ""
            },
            "colorscale": [
             [
              0,
              "#0d0887"
             ],
             [
              0.1111111111111111,
              "#46039f"
             ],
             [
              0.2222222222222222,
              "#7201a8"
             ],
             [
              0.3333333333333333,
              "#9c179e"
             ],
             [
              0.4444444444444444,
              "#bd3786"
             ],
             [
              0.5555555555555556,
              "#d8576b"
             ],
             [
              0.6666666666666666,
              "#ed7953"
             ],
             [
              0.7777777777777778,
              "#fb9f3a"
             ],
             [
              0.8888888888888888,
              "#fdca26"
             ],
             [
              1,
              "#f0f921"
             ]
            ],
            "type": "surface"
           }
          ],
          "table": [
           {
            "cells": {
             "fill": {
              "color": "#EBF0F8"
             },
             "line": {
              "color": "white"
             }
            },
            "header": {
             "fill": {
              "color": "#C8D4E3"
             },
             "line": {
              "color": "white"
             }
            },
            "type": "table"
           }
          ]
         },
         "layout": {
          "annotationdefaults": {
           "arrowcolor": "#2a3f5f",
           "arrowhead": 0,
           "arrowwidth": 1
          },
          "autotypenumbers": "strict",
          "coloraxis": {
           "colorbar": {
            "outlinewidth": 0,
            "ticks": ""
           }
          },
          "colorscale": {
           "diverging": [
            [
             0,
             "#8e0152"
            ],
            [
             0.1,
             "#c51b7d"
            ],
            [
             0.2,
             "#de77ae"
            ],
            [
             0.3,
             "#f1b6da"
            ],
            [
             0.4,
             "#fde0ef"
            ],
            [
             0.5,
             "#f7f7f7"
            ],
            [
             0.6,
             "#e6f5d0"
            ],
            [
             0.7,
             "#b8e186"
            ],
            [
             0.8,
             "#7fbc41"
            ],
            [
             0.9,
             "#4d9221"
            ],
            [
             1,
             "#276419"
            ]
           ],
           "sequential": [
            [
             0,
             "#0d0887"
            ],
            [
             0.1111111111111111,
             "#46039f"
            ],
            [
             0.2222222222222222,
             "#7201a8"
            ],
            [
             0.3333333333333333,
             "#9c179e"
            ],
            [
             0.4444444444444444,
             "#bd3786"
            ],
            [
             0.5555555555555556,
             "#d8576b"
            ],
            [
             0.6666666666666666,
             "#ed7953"
            ],
            [
             0.7777777777777778,
             "#fb9f3a"
            ],
            [
             0.8888888888888888,
             "#fdca26"
            ],
            [
             1,
             "#f0f921"
            ]
           ],
           "sequentialminus": [
            [
             0,
             "#0d0887"
            ],
            [
             0.1111111111111111,
             "#46039f"
            ],
            [
             0.2222222222222222,
             "#7201a8"
            ],
            [
             0.3333333333333333,
             "#9c179e"
            ],
            [
             0.4444444444444444,
             "#bd3786"
            ],
            [
             0.5555555555555556,
             "#d8576b"
            ],
            [
             0.6666666666666666,
             "#ed7953"
            ],
            [
             0.7777777777777778,
             "#fb9f3a"
            ],
            [
             0.8888888888888888,
             "#fdca26"
            ],
            [
             1,
             "#f0f921"
            ]
           ]
          },
          "colorway": [
           "#636efa",
           "#EF553B",
           "#00cc96",
           "#ab63fa",
           "#FFA15A",
           "#19d3f3",
           "#FF6692",
           "#B6E880",
           "#FF97FF",
           "#FECB52"
          ],
          "font": {
           "color": "#2a3f5f"
          },
          "geo": {
           "bgcolor": "white",
           "lakecolor": "white",
           "landcolor": "#E5ECF6",
           "showlakes": true,
           "showland": true,
           "subunitcolor": "white"
          },
          "hoverlabel": {
           "align": "left"
          },
          "hovermode": "closest",
          "mapbox": {
           "style": "light"
          },
          "paper_bgcolor": "white",
          "plot_bgcolor": "#E5ECF6",
          "polar": {
           "angularaxis": {
            "gridcolor": "white",
            "linecolor": "white",
            "ticks": ""
           },
           "bgcolor": "#E5ECF6",
           "radialaxis": {
            "gridcolor": "white",
            "linecolor": "white",
            "ticks": ""
           }
          },
          "scene": {
           "xaxis": {
            "backgroundcolor": "#E5ECF6",
            "gridcolor": "white",
            "gridwidth": 2,
            "linecolor": "white",
            "showbackground": true,
            "ticks": "",
            "zerolinecolor": "white"
           },
           "yaxis": {
            "backgroundcolor": "#E5ECF6",
            "gridcolor": "white",
            "gridwidth": 2,
            "linecolor": "white",
            "showbackground": true,
            "ticks": "",
            "zerolinecolor": "white"
           },
           "zaxis": {
            "backgroundcolor": "#E5ECF6",
            "gridcolor": "white",
            "gridwidth": 2,
            "linecolor": "white",
            "showbackground": true,
            "ticks": "",
            "zerolinecolor": "white"
           }
          },
          "shapedefaults": {
           "line": {
            "color": "#2a3f5f"
           }
          },
          "ternary": {
           "aaxis": {
            "gridcolor": "white",
            "linecolor": "white",
            "ticks": ""
           },
           "baxis": {
            "gridcolor": "white",
            "linecolor": "white",
            "ticks": ""
           },
           "bgcolor": "#E5ECF6",
           "caxis": {
            "gridcolor": "white",
            "linecolor": "white",
            "ticks": ""
           }
          },
          "title": {
           "x": 0.05
          },
          "xaxis": {
           "automargin": true,
           "gridcolor": "white",
           "linecolor": "white",
           "ticks": "",
           "title": {
            "standoff": 15
           },
           "zerolinecolor": "white",
           "zerolinewidth": 2
          },
          "yaxis": {
           "automargin": true,
           "gridcolor": "white",
           "linecolor": "white",
           "ticks": "",
           "title": {
            "standoff": 15
           },
           "zerolinecolor": "white",
           "zerolinewidth": 2
          }
         }
        },
        "title": {
         "text": "Mean Attack by Collective Type 1 Pokemons"
        },
        "xaxis": {
         "tickangle": 45,
         "title": {
          "text": "Collective Pokemon Type 1"
         }
        },
        "yaxis": {
         "title": {
          "text": "Mean Attack Points"
         }
        }
       }
      }
     },
     "metadata": {},
     "output_type": "display_data"
    }
   ],
   "source": [
    "# Sort grouped_pok by 'Attack' descending\n",
    "grouped_pok_sorted_at = grouped_pok.sort_values(by='Attack', ascending=False)\n",
    "\n",
    "# Create alternating green and gray colors for the bars to improve visual distinction\n",
    "bar_colors = ['gray' if i % 2 == 0 else 'green' for i in range(len(grouped_pok_sorted_at))]\n",
    "\n",
    "# Create a bar plot using Plotly to show mean 'Hit_points' by Type_1\n",
    "fig = go.Figure(\n",
    "    data=[\n",
    "        go.Bar(\n",
    "            x=grouped_pok_sorted_at.index,            # X-axis: Pokemon Type_1 categories\n",
    "            y=grouped_pok_sorted_at['Attack'],    # Y-axis: Mean 'Attack' stat for each type\n",
    "            marker_color=bar_colors                # Bar colors: alternating green and gray\n",
    "        )\n",
    "    ]\n",
    ")\n",
    "\n",
    "# Update the layout for better readability and presentation\n",
    "fig.update_layout(\n",
    "    title='Mean Attack by Collective Type 1 Pokemons',  # Chart title\n",
    "    xaxis_title='Collective Pokemon Type 1',                # X-axis label\n",
    "    yaxis_title='Mean Attack Points',                          # Y-axis label\n",
    "    xaxis_tickangle=45                                      # Rotate x-axis labels for clarity\n",
    ")\n",
    "\n",
    "# Display the plot\n",
    "fig.show()\n",
    "# Summary: The bar chart above displays the mean Attack stat for each primary Pokemon type.\n",
    "# Dragon types have the highest mean Attack, followed by Fighting, Ground, Rock, and Steel types.\n",
    "# Bug, Fairy, and Electric types have the lowest mean Attack, indicating they are less effective in physical offense.\n",
    "# This information is useful for selecting Pokemon types with strong physical attack capabilities for competitive battles.\n"
   ]
  },
  {
   "cell_type": "code",
   "execution_count": 12,
   "id": "16929d5e",
   "metadata": {},
   "outputs": [
    {
     "data": {
      "application/vnd.plotly.v1+json": {
       "config": {
        "plotlyServerURL": "https://plot.ly"
       },
       "data": [
        {
         "marker": {
          "color": [
           "gray",
           "green",
           "gray",
           "green",
           "gray",
           "green",
           "gray",
           "green",
           "gray",
           "green",
           "gray",
           "green",
           "gray",
           "green",
           "gray",
           "green",
           "gray",
           "green"
          ]
         },
         "type": "bar",
         "x": [
          "Steel",
          "Rock",
          "Dragon",
          "Ground",
          "Ghost",
          "Water",
          "Ice",
          "Grass",
          "Bug",
          "Dark",
          "Poison",
          "Fire",
          "Psychic",
          "Electric",
          "Flying",
          "Fighting",
          "Fairy",
          "Normal"
         ],
         "y": {
          "bdata": "ewntJbSXX0Cjiy666DJZQAAAAAAAmFVAAAAAAAA2VUAAAAAAAExUQEmSJEmSPFJAq6qqqqraUUAzMzMzM7NRQNuBuXZgrlFAzjnnnHOOUUBJkiRJkjRRQBQ7sRM78VBAvYbyGsrrUECjiy666JJQQAAAAAAAkFBAtJfQXkJ7UEAtLS0tLW1QQOtDY31o7E1A",
          "dtype": "f8"
         }
        }
       ],
       "layout": {
        "template": {
         "data": {
          "bar": [
           {
            "error_x": {
             "color": "#2a3f5f"
            },
            "error_y": {
             "color": "#2a3f5f"
            },
            "marker": {
             "line": {
              "color": "#E5ECF6",
              "width": 0.5
             },
             "pattern": {
              "fillmode": "overlay",
              "size": 10,
              "solidity": 0.2
             }
            },
            "type": "bar"
           }
          ],
          "barpolar": [
           {
            "marker": {
             "line": {
              "color": "#E5ECF6",
              "width": 0.5
             },
             "pattern": {
              "fillmode": "overlay",
              "size": 10,
              "solidity": 0.2
             }
            },
            "type": "barpolar"
           }
          ],
          "carpet": [
           {
            "aaxis": {
             "endlinecolor": "#2a3f5f",
             "gridcolor": "white",
             "linecolor": "white",
             "minorgridcolor": "white",
             "startlinecolor": "#2a3f5f"
            },
            "baxis": {
             "endlinecolor": "#2a3f5f",
             "gridcolor": "white",
             "linecolor": "white",
             "minorgridcolor": "white",
             "startlinecolor": "#2a3f5f"
            },
            "type": "carpet"
           }
          ],
          "choropleth": [
           {
            "colorbar": {
             "outlinewidth": 0,
             "ticks": ""
            },
            "type": "choropleth"
           }
          ],
          "contour": [
           {
            "colorbar": {
             "outlinewidth": 0,
             "ticks": ""
            },
            "colorscale": [
             [
              0,
              "#0d0887"
             ],
             [
              0.1111111111111111,
              "#46039f"
             ],
             [
              0.2222222222222222,
              "#7201a8"
             ],
             [
              0.3333333333333333,
              "#9c179e"
             ],
             [
              0.4444444444444444,
              "#bd3786"
             ],
             [
              0.5555555555555556,
              "#d8576b"
             ],
             [
              0.6666666666666666,
              "#ed7953"
             ],
             [
              0.7777777777777778,
              "#fb9f3a"
             ],
             [
              0.8888888888888888,
              "#fdca26"
             ],
             [
              1,
              "#f0f921"
             ]
            ],
            "type": "contour"
           }
          ],
          "contourcarpet": [
           {
            "colorbar": {
             "outlinewidth": 0,
             "ticks": ""
            },
            "type": "contourcarpet"
           }
          ],
          "heatmap": [
           {
            "colorbar": {
             "outlinewidth": 0,
             "ticks": ""
            },
            "colorscale": [
             [
              0,
              "#0d0887"
             ],
             [
              0.1111111111111111,
              "#46039f"
             ],
             [
              0.2222222222222222,
              "#7201a8"
             ],
             [
              0.3333333333333333,
              "#9c179e"
             ],
             [
              0.4444444444444444,
              "#bd3786"
             ],
             [
              0.5555555555555556,
              "#d8576b"
             ],
             [
              0.6666666666666666,
              "#ed7953"
             ],
             [
              0.7777777777777778,
              "#fb9f3a"
             ],
             [
              0.8888888888888888,
              "#fdca26"
             ],
             [
              1,
              "#f0f921"
             ]
            ],
            "type": "heatmap"
           }
          ],
          "histogram": [
           {
            "marker": {
             "pattern": {
              "fillmode": "overlay",
              "size": 10,
              "solidity": 0.2
             }
            },
            "type": "histogram"
           }
          ],
          "histogram2d": [
           {
            "colorbar": {
             "outlinewidth": 0,
             "ticks": ""
            },
            "colorscale": [
             [
              0,
              "#0d0887"
             ],
             [
              0.1111111111111111,
              "#46039f"
             ],
             [
              0.2222222222222222,
              "#7201a8"
             ],
             [
              0.3333333333333333,
              "#9c179e"
             ],
             [
              0.4444444444444444,
              "#bd3786"
             ],
             [
              0.5555555555555556,
              "#d8576b"
             ],
             [
              0.6666666666666666,
              "#ed7953"
             ],
             [
              0.7777777777777778,
              "#fb9f3a"
             ],
             [
              0.8888888888888888,
              "#fdca26"
             ],
             [
              1,
              "#f0f921"
             ]
            ],
            "type": "histogram2d"
           }
          ],
          "histogram2dcontour": [
           {
            "colorbar": {
             "outlinewidth": 0,
             "ticks": ""
            },
            "colorscale": [
             [
              0,
              "#0d0887"
             ],
             [
              0.1111111111111111,
              "#46039f"
             ],
             [
              0.2222222222222222,
              "#7201a8"
             ],
             [
              0.3333333333333333,
              "#9c179e"
             ],
             [
              0.4444444444444444,
              "#bd3786"
             ],
             [
              0.5555555555555556,
              "#d8576b"
             ],
             [
              0.6666666666666666,
              "#ed7953"
             ],
             [
              0.7777777777777778,
              "#fb9f3a"
             ],
             [
              0.8888888888888888,
              "#fdca26"
             ],
             [
              1,
              "#f0f921"
             ]
            ],
            "type": "histogram2dcontour"
           }
          ],
          "mesh3d": [
           {
            "colorbar": {
             "outlinewidth": 0,
             "ticks": ""
            },
            "type": "mesh3d"
           }
          ],
          "parcoords": [
           {
            "line": {
             "colorbar": {
              "outlinewidth": 0,
              "ticks": ""
             }
            },
            "type": "parcoords"
           }
          ],
          "pie": [
           {
            "automargin": true,
            "type": "pie"
           }
          ],
          "scatter": [
           {
            "fillpattern": {
             "fillmode": "overlay",
             "size": 10,
             "solidity": 0.2
            },
            "type": "scatter"
           }
          ],
          "scatter3d": [
           {
            "line": {
             "colorbar": {
              "outlinewidth": 0,
              "ticks": ""
             }
            },
            "marker": {
             "colorbar": {
              "outlinewidth": 0,
              "ticks": ""
             }
            },
            "type": "scatter3d"
           }
          ],
          "scattercarpet": [
           {
            "marker": {
             "colorbar": {
              "outlinewidth": 0,
              "ticks": ""
             }
            },
            "type": "scattercarpet"
           }
          ],
          "scattergeo": [
           {
            "marker": {
             "colorbar": {
              "outlinewidth": 0,
              "ticks": ""
             }
            },
            "type": "scattergeo"
           }
          ],
          "scattergl": [
           {
            "marker": {
             "colorbar": {
              "outlinewidth": 0,
              "ticks": ""
             }
            },
            "type": "scattergl"
           }
          ],
          "scattermap": [
           {
            "marker": {
             "colorbar": {
              "outlinewidth": 0,
              "ticks": ""
             }
            },
            "type": "scattermap"
           }
          ],
          "scattermapbox": [
           {
            "marker": {
             "colorbar": {
              "outlinewidth": 0,
              "ticks": ""
             }
            },
            "type": "scattermapbox"
           }
          ],
          "scatterpolar": [
           {
            "marker": {
             "colorbar": {
              "outlinewidth": 0,
              "ticks": ""
             }
            },
            "type": "scatterpolar"
           }
          ],
          "scatterpolargl": [
           {
            "marker": {
             "colorbar": {
              "outlinewidth": 0,
              "ticks": ""
             }
            },
            "type": "scatterpolargl"
           }
          ],
          "scatterternary": [
           {
            "marker": {
             "colorbar": {
              "outlinewidth": 0,
              "ticks": ""
             }
            },
            "type": "scatterternary"
           }
          ],
          "surface": [
           {
            "colorbar": {
             "outlinewidth": 0,
             "ticks": ""
            },
            "colorscale": [
             [
              0,
              "#0d0887"
             ],
             [
              0.1111111111111111,
              "#46039f"
             ],
             [
              0.2222222222222222,
              "#7201a8"
             ],
             [
              0.3333333333333333,
              "#9c179e"
             ],
             [
              0.4444444444444444,
              "#bd3786"
             ],
             [
              0.5555555555555556,
              "#d8576b"
             ],
             [
              0.6666666666666666,
              "#ed7953"
             ],
             [
              0.7777777777777778,
              "#fb9f3a"
             ],
             [
              0.8888888888888888,
              "#fdca26"
             ],
             [
              1,
              "#f0f921"
             ]
            ],
            "type": "surface"
           }
          ],
          "table": [
           {
            "cells": {
             "fill": {
              "color": "#EBF0F8"
             },
             "line": {
              "color": "white"
             }
            },
            "header": {
             "fill": {
              "color": "#C8D4E3"
             },
             "line": {
              "color": "white"
             }
            },
            "type": "table"
           }
          ]
         },
         "layout": {
          "annotationdefaults": {
           "arrowcolor": "#2a3f5f",
           "arrowhead": 0,
           "arrowwidth": 1
          },
          "autotypenumbers": "strict",
          "coloraxis": {
           "colorbar": {
            "outlinewidth": 0,
            "ticks": ""
           }
          },
          "colorscale": {
           "diverging": [
            [
             0,
             "#8e0152"
            ],
            [
             0.1,
             "#c51b7d"
            ],
            [
             0.2,
             "#de77ae"
            ],
            [
             0.3,
             "#f1b6da"
            ],
            [
             0.4,
             "#fde0ef"
            ],
            [
             0.5,
             "#f7f7f7"
            ],
            [
             0.6,
             "#e6f5d0"
            ],
            [
             0.7,
             "#b8e186"
            ],
            [
             0.8,
             "#7fbc41"
            ],
            [
             0.9,
             "#4d9221"
            ],
            [
             1,
             "#276419"
            ]
           ],
           "sequential": [
            [
             0,
             "#0d0887"
            ],
            [
             0.1111111111111111,
             "#46039f"
            ],
            [
             0.2222222222222222,
             "#7201a8"
            ],
            [
             0.3333333333333333,
             "#9c179e"
            ],
            [
             0.4444444444444444,
             "#bd3786"
            ],
            [
             0.5555555555555556,
             "#d8576b"
            ],
            [
             0.6666666666666666,
             "#ed7953"
            ],
            [
             0.7777777777777778,
             "#fb9f3a"
            ],
            [
             0.8888888888888888,
             "#fdca26"
            ],
            [
             1,
             "#f0f921"
            ]
           ],
           "sequentialminus": [
            [
             0,
             "#0d0887"
            ],
            [
             0.1111111111111111,
             "#46039f"
            ],
            [
             0.2222222222222222,
             "#7201a8"
            ],
            [
             0.3333333333333333,
             "#9c179e"
            ],
            [
             0.4444444444444444,
             "#bd3786"
            ],
            [
             0.5555555555555556,
             "#d8576b"
            ],
            [
             0.6666666666666666,
             "#ed7953"
            ],
            [
             0.7777777777777778,
             "#fb9f3a"
            ],
            [
             0.8888888888888888,
             "#fdca26"
            ],
            [
             1,
             "#f0f921"
            ]
           ]
          },
          "colorway": [
           "#636efa",
           "#EF553B",
           "#00cc96",
           "#ab63fa",
           "#FFA15A",
           "#19d3f3",
           "#FF6692",
           "#B6E880",
           "#FF97FF",
           "#FECB52"
          ],
          "font": {
           "color": "#2a3f5f"
          },
          "geo": {
           "bgcolor": "white",
           "lakecolor": "white",
           "landcolor": "#E5ECF6",
           "showlakes": true,
           "showland": true,
           "subunitcolor": "white"
          },
          "hoverlabel": {
           "align": "left"
          },
          "hovermode": "closest",
          "mapbox": {
           "style": "light"
          },
          "paper_bgcolor": "white",
          "plot_bgcolor": "#E5ECF6",
          "polar": {
           "angularaxis": {
            "gridcolor": "white",
            "linecolor": "white",
            "ticks": ""
           },
           "bgcolor": "#E5ECF6",
           "radialaxis": {
            "gridcolor": "white",
            "linecolor": "white",
            "ticks": ""
           }
          },
          "scene": {
           "xaxis": {
            "backgroundcolor": "#E5ECF6",
            "gridcolor": "white",
            "gridwidth": 2,
            "linecolor": "white",
            "showbackground": true,
            "ticks": "",
            "zerolinecolor": "white"
           },
           "yaxis": {
            "backgroundcolor": "#E5ECF6",
            "gridcolor": "white",
            "gridwidth": 2,
            "linecolor": "white",
            "showbackground": true,
            "ticks": "",
            "zerolinecolor": "white"
           },
           "zaxis": {
            "backgroundcolor": "#E5ECF6",
            "gridcolor": "white",
            "gridwidth": 2,
            "linecolor": "white",
            "showbackground": true,
            "ticks": "",
            "zerolinecolor": "white"
           }
          },
          "shapedefaults": {
           "line": {
            "color": "#2a3f5f"
           }
          },
          "ternary": {
           "aaxis": {
            "gridcolor": "white",
            "linecolor": "white",
            "ticks": ""
           },
           "baxis": {
            "gridcolor": "white",
            "linecolor": "white",
            "ticks": ""
           },
           "bgcolor": "#E5ECF6",
           "caxis": {
            "gridcolor": "white",
            "linecolor": "white",
            "ticks": ""
           }
          },
          "title": {
           "x": 0.05
          },
          "xaxis": {
           "automargin": true,
           "gridcolor": "white",
           "linecolor": "white",
           "ticks": "",
           "title": {
            "standoff": 15
           },
           "zerolinecolor": "white",
           "zerolinewidth": 2
          },
          "yaxis": {
           "automargin": true,
           "gridcolor": "white",
           "linecolor": "white",
           "ticks": "",
           "title": {
            "standoff": 15
           },
           "zerolinecolor": "white",
           "zerolinewidth": 2
          }
         }
        },
        "title": {
         "text": "Mean Defense by Collective Type 1 Pokemons"
        },
        "xaxis": {
         "tickangle": 45,
         "title": {
          "text": "Collective Pokemon Type 1"
         }
        },
        "yaxis": {
         "title": {
          "text": "Mean Defense Points"
         }
        }
       }
      }
     },
     "metadata": {},
     "output_type": "display_data"
    }
   ],
   "source": [
    "# Sort grouped_pok by 'Attack' descending\n",
    "grouped_pok_sorted_def = grouped_pok.sort_values(by='Defense', ascending=False)\n",
    "\n",
    "# Create alternating green and gray colors for the bars to improve visual distinction\n",
    "bar_colors = ['gray' if i % 2 == 0 else 'green' for i in range(len(grouped_pok_sorted_def))]\n",
    "\n",
    "# Create a bar plot using Plotly to show mean 'Hit_points' by Type_1\n",
    "fig = go.Figure(\n",
    "    data=[\n",
    "        go.Bar(\n",
    "            x=grouped_pok_sorted_def.index,            # X-axis: Pokemon Type_1 categories\n",
    "            y=grouped_pok_sorted_def['Defense'],    # Y-axis: Mean 'Defense' stat for each type\n",
    "            marker_color=bar_colors                # Bar colors: alternating green and gray\n",
    "        )\n",
    "    ]\n",
    ")\n",
    "\n",
    "# Update the layout for better readability and presentation\n",
    "fig.update_layout(\n",
    "    title='Mean Defense by Collective Type 1 Pokemons',  # Chart title\n",
    "    xaxis_title='Collective Pokemon Type 1',                # X-axis label\n",
    "    yaxis_title='Mean Defense Points',                          # Y-axis label\n",
    "    xaxis_tickangle=45                                      # Rotate x-axis labels for clarity\n",
    ")\n",
    "\n",
    "# Display the plot\n",
    "fig.show()\n",
    "# Summary: The bar chart above displays the mean Defense stat for each primary Pokemon type.\n",
    "# Steel types have the highest mean Defense by a significant margin, followed by Rock and Dragon types.\n",
    "# Bug, Dark, and Grass types have much lower mean Defense, making them more vulnerable to physical attacks.\n",
    "# This information is useful for selecting Pokemon types that can withstand physical damage in battles.\n"
   ]
  },
  {
   "cell_type": "code",
   "execution_count": 13,
   "id": "96521a0d",
   "metadata": {},
   "outputs": [
    {
     "data": {
      "application/vnd.plotly.v1+json": {
       "config": {
        "plotlyServerURL": "https://plot.ly"
       },
       "data": [
        {
         "marker": {
          "color": [
           "gray",
           "green",
           "gray",
           "green",
           "gray",
           "green",
           "gray",
           "green",
           "gray",
           "green",
           "gray",
           "green",
           "gray",
           "green",
           "gray",
           "green",
           "gray",
           "green"
          ]
         },
         "type": "bar",
         "x": [
          "Psychic",
          "Dragon",
          "Flying",
          "Electric",
          "Fire",
          "Ghost",
          "Fairy",
          "Ice",
          "Grass",
          "Water",
          "Dark",
          "Steel",
          "Rock",
          "Poison",
          "Ground",
          "Normal",
          "Bug",
          "Fighting"
         ],
         "y": {
          "bdata": "ncV0FtOZWEAAAAAAADZYQAAAAAAAkFdA0UUXXXSBVkDsxE7sxD5WQAAAAAAA1lNA4uHh4eGhU0CrqqqqqmJTQAAAAAAAYFNAAAAAAAC0UkAppZRSSqlSQBPaS2gv4VBAjC666KKrT0Bu27Zt2zZOQAAAAAAAPExAGutDY33oS0CnN73pTe9KQOQ4juM4jkpA",
          "dtype": "f8"
         }
        }
       ],
       "layout": {
        "template": {
         "data": {
          "bar": [
           {
            "error_x": {
             "color": "#2a3f5f"
            },
            "error_y": {
             "color": "#2a3f5f"
            },
            "marker": {
             "line": {
              "color": "#E5ECF6",
              "width": 0.5
             },
             "pattern": {
              "fillmode": "overlay",
              "size": 10,
              "solidity": 0.2
             }
            },
            "type": "bar"
           }
          ],
          "barpolar": [
           {
            "marker": {
             "line": {
              "color": "#E5ECF6",
              "width": 0.5
             },
             "pattern": {
              "fillmode": "overlay",
              "size": 10,
              "solidity": 0.2
             }
            },
            "type": "barpolar"
           }
          ],
          "carpet": [
           {
            "aaxis": {
             "endlinecolor": "#2a3f5f",
             "gridcolor": "white",
             "linecolor": "white",
             "minorgridcolor": "white",
             "startlinecolor": "#2a3f5f"
            },
            "baxis": {
             "endlinecolor": "#2a3f5f",
             "gridcolor": "white",
             "linecolor": "white",
             "minorgridcolor": "white",
             "startlinecolor": "#2a3f5f"
            },
            "type": "carpet"
           }
          ],
          "choropleth": [
           {
            "colorbar": {
             "outlinewidth": 0,
             "ticks": ""
            },
            "type": "choropleth"
           }
          ],
          "contour": [
           {
            "colorbar": {
             "outlinewidth": 0,
             "ticks": ""
            },
            "colorscale": [
             [
              0,
              "#0d0887"
             ],
             [
              0.1111111111111111,
              "#46039f"
             ],
             [
              0.2222222222222222,
              "#7201a8"
             ],
             [
              0.3333333333333333,
              "#9c179e"
             ],
             [
              0.4444444444444444,
              "#bd3786"
             ],
             [
              0.5555555555555556,
              "#d8576b"
             ],
             [
              0.6666666666666666,
              "#ed7953"
             ],
             [
              0.7777777777777778,
              "#fb9f3a"
             ],
             [
              0.8888888888888888,
              "#fdca26"
             ],
             [
              1,
              "#f0f921"
             ]
            ],
            "type": "contour"
           }
          ],
          "contourcarpet": [
           {
            "colorbar": {
             "outlinewidth": 0,
             "ticks": ""
            },
            "type": "contourcarpet"
           }
          ],
          "heatmap": [
           {
            "colorbar": {
             "outlinewidth": 0,
             "ticks": ""
            },
            "colorscale": [
             [
              0,
              "#0d0887"
             ],
             [
              0.1111111111111111,
              "#46039f"
             ],
             [
              0.2222222222222222,
              "#7201a8"
             ],
             [
              0.3333333333333333,
              "#9c179e"
             ],
             [
              0.4444444444444444,
              "#bd3786"
             ],
             [
              0.5555555555555556,
              "#d8576b"
             ],
             [
              0.6666666666666666,
              "#ed7953"
             ],
             [
              0.7777777777777778,
              "#fb9f3a"
             ],
             [
              0.8888888888888888,
              "#fdca26"
             ],
             [
              1,
              "#f0f921"
             ]
            ],
            "type": "heatmap"
           }
          ],
          "histogram": [
           {
            "marker": {
             "pattern": {
              "fillmode": "overlay",
              "size": 10,
              "solidity": 0.2
             }
            },
            "type": "histogram"
           }
          ],
          "histogram2d": [
           {
            "colorbar": {
             "outlinewidth": 0,
             "ticks": ""
            },
            "colorscale": [
             [
              0,
              "#0d0887"
             ],
             [
              0.1111111111111111,
              "#46039f"
             ],
             [
              0.2222222222222222,
              "#7201a8"
             ],
             [
              0.3333333333333333,
              "#9c179e"
             ],
             [
              0.4444444444444444,
              "#bd3786"
             ],
             [
              0.5555555555555556,
              "#d8576b"
             ],
             [
              0.6666666666666666,
              "#ed7953"
             ],
             [
              0.7777777777777778,
              "#fb9f3a"
             ],
             [
              0.8888888888888888,
              "#fdca26"
             ],
             [
              1,
              "#f0f921"
             ]
            ],
            "type": "histogram2d"
           }
          ],
          "histogram2dcontour": [
           {
            "colorbar": {
             "outlinewidth": 0,
             "ticks": ""
            },
            "colorscale": [
             [
              0,
              "#0d0887"
             ],
             [
              0.1111111111111111,
              "#46039f"
             ],
             [
              0.2222222222222222,
              "#7201a8"
             ],
             [
              0.3333333333333333,
              "#9c179e"
             ],
             [
              0.4444444444444444,
              "#bd3786"
             ],
             [
              0.5555555555555556,
              "#d8576b"
             ],
             [
              0.6666666666666666,
              "#ed7953"
             ],
             [
              0.7777777777777778,
              "#fb9f3a"
             ],
             [
              0.8888888888888888,
              "#fdca26"
             ],
             [
              1,
              "#f0f921"
             ]
            ],
            "type": "histogram2dcontour"
           }
          ],
          "mesh3d": [
           {
            "colorbar": {
             "outlinewidth": 0,
             "ticks": ""
            },
            "type": "mesh3d"
           }
          ],
          "parcoords": [
           {
            "line": {
             "colorbar": {
              "outlinewidth": 0,
              "ticks": ""
             }
            },
            "type": "parcoords"
           }
          ],
          "pie": [
           {
            "automargin": true,
            "type": "pie"
           }
          ],
          "scatter": [
           {
            "fillpattern": {
             "fillmode": "overlay",
             "size": 10,
             "solidity": 0.2
            },
            "type": "scatter"
           }
          ],
          "scatter3d": [
           {
            "line": {
             "colorbar": {
              "outlinewidth": 0,
              "ticks": ""
             }
            },
            "marker": {
             "colorbar": {
              "outlinewidth": 0,
              "ticks": ""
             }
            },
            "type": "scatter3d"
           }
          ],
          "scattercarpet": [
           {
            "marker": {
             "colorbar": {
              "outlinewidth": 0,
              "ticks": ""
             }
            },
            "type": "scattercarpet"
           }
          ],
          "scattergeo": [
           {
            "marker": {
             "colorbar": {
              "outlinewidth": 0,
              "ticks": ""
             }
            },
            "type": "scattergeo"
           }
          ],
          "scattergl": [
           {
            "marker": {
             "colorbar": {
              "outlinewidth": 0,
              "ticks": ""
             }
            },
            "type": "scattergl"
           }
          ],
          "scattermap": [
           {
            "marker": {
             "colorbar": {
              "outlinewidth": 0,
              "ticks": ""
             }
            },
            "type": "scattermap"
           }
          ],
          "scattermapbox": [
           {
            "marker": {
             "colorbar": {
              "outlinewidth": 0,
              "ticks": ""
             }
            },
            "type": "scattermapbox"
           }
          ],
          "scatterpolar": [
           {
            "marker": {
             "colorbar": {
              "outlinewidth": 0,
              "ticks": ""
             }
            },
            "type": "scatterpolar"
           }
          ],
          "scatterpolargl": [
           {
            "marker": {
             "colorbar": {
              "outlinewidth": 0,
              "ticks": ""
             }
            },
            "type": "scatterpolargl"
           }
          ],
          "scatterternary": [
           {
            "marker": {
             "colorbar": {
              "outlinewidth": 0,
              "ticks": ""
             }
            },
            "type": "scatterternary"
           }
          ],
          "surface": [
           {
            "colorbar": {
             "outlinewidth": 0,
             "ticks": ""
            },
            "colorscale": [
             [
              0,
              "#0d0887"
             ],
             [
              0.1111111111111111,
              "#46039f"
             ],
             [
              0.2222222222222222,
              "#7201a8"
             ],
             [
              0.3333333333333333,
              "#9c179e"
             ],
             [
              0.4444444444444444,
              "#bd3786"
             ],
             [
              0.5555555555555556,
              "#d8576b"
             ],
             [
              0.6666666666666666,
              "#ed7953"
             ],
             [
              0.7777777777777778,
              "#fb9f3a"
             ],
             [
              0.8888888888888888,
              "#fdca26"
             ],
             [
              1,
              "#f0f921"
             ]
            ],
            "type": "surface"
           }
          ],
          "table": [
           {
            "cells": {
             "fill": {
              "color": "#EBF0F8"
             },
             "line": {
              "color": "white"
             }
            },
            "header": {
             "fill": {
              "color": "#C8D4E3"
             },
             "line": {
              "color": "white"
             }
            },
            "type": "table"
           }
          ]
         },
         "layout": {
          "annotationdefaults": {
           "arrowcolor": "#2a3f5f",
           "arrowhead": 0,
           "arrowwidth": 1
          },
          "autotypenumbers": "strict",
          "coloraxis": {
           "colorbar": {
            "outlinewidth": 0,
            "ticks": ""
           }
          },
          "colorscale": {
           "diverging": [
            [
             0,
             "#8e0152"
            ],
            [
             0.1,
             "#c51b7d"
            ],
            [
             0.2,
             "#de77ae"
            ],
            [
             0.3,
             "#f1b6da"
            ],
            [
             0.4,
             "#fde0ef"
            ],
            [
             0.5,
             "#f7f7f7"
            ],
            [
             0.6,
             "#e6f5d0"
            ],
            [
             0.7,
             "#b8e186"
            ],
            [
             0.8,
             "#7fbc41"
            ],
            [
             0.9,
             "#4d9221"
            ],
            [
             1,
             "#276419"
            ]
           ],
           "sequential": [
            [
             0,
             "#0d0887"
            ],
            [
             0.1111111111111111,
             "#46039f"
            ],
            [
             0.2222222222222222,
             "#7201a8"
            ],
            [
             0.3333333333333333,
             "#9c179e"
            ],
            [
             0.4444444444444444,
             "#bd3786"
            ],
            [
             0.5555555555555556,
             "#d8576b"
            ],
            [
             0.6666666666666666,
             "#ed7953"
            ],
            [
             0.7777777777777778,
             "#fb9f3a"
            ],
            [
             0.8888888888888888,
             "#fdca26"
            ],
            [
             1,
             "#f0f921"
            ]
           ],
           "sequentialminus": [
            [
             0,
             "#0d0887"
            ],
            [
             0.1111111111111111,
             "#46039f"
            ],
            [
             0.2222222222222222,
             "#7201a8"
            ],
            [
             0.3333333333333333,
             "#9c179e"
            ],
            [
             0.4444444444444444,
             "#bd3786"
            ],
            [
             0.5555555555555556,
             "#d8576b"
            ],
            [
             0.6666666666666666,
             "#ed7953"
            ],
            [
             0.7777777777777778,
             "#fb9f3a"
            ],
            [
             0.8888888888888888,
             "#fdca26"
            ],
            [
             1,
             "#f0f921"
            ]
           ]
          },
          "colorway": [
           "#636efa",
           "#EF553B",
           "#00cc96",
           "#ab63fa",
           "#FFA15A",
           "#19d3f3",
           "#FF6692",
           "#B6E880",
           "#FF97FF",
           "#FECB52"
          ],
          "font": {
           "color": "#2a3f5f"
          },
          "geo": {
           "bgcolor": "white",
           "lakecolor": "white",
           "landcolor": "#E5ECF6",
           "showlakes": true,
           "showland": true,
           "subunitcolor": "white"
          },
          "hoverlabel": {
           "align": "left"
          },
          "hovermode": "closest",
          "mapbox": {
           "style": "light"
          },
          "paper_bgcolor": "white",
          "plot_bgcolor": "#E5ECF6",
          "polar": {
           "angularaxis": {
            "gridcolor": "white",
            "linecolor": "white",
            "ticks": ""
           },
           "bgcolor": "#E5ECF6",
           "radialaxis": {
            "gridcolor": "white",
            "linecolor": "white",
            "ticks": ""
           }
          },
          "scene": {
           "xaxis": {
            "backgroundcolor": "#E5ECF6",
            "gridcolor": "white",
            "gridwidth": 2,
            "linecolor": "white",
            "showbackground": true,
            "ticks": "",
            "zerolinecolor": "white"
           },
           "yaxis": {
            "backgroundcolor": "#E5ECF6",
            "gridcolor": "white",
            "gridwidth": 2,
            "linecolor": "white",
            "showbackground": true,
            "ticks": "",
            "zerolinecolor": "white"
           },
           "zaxis": {
            "backgroundcolor": "#E5ECF6",
            "gridcolor": "white",
            "gridwidth": 2,
            "linecolor": "white",
            "showbackground": true,
            "ticks": "",
            "zerolinecolor": "white"
           }
          },
          "shapedefaults": {
           "line": {
            "color": "#2a3f5f"
           }
          },
          "ternary": {
           "aaxis": {
            "gridcolor": "white",
            "linecolor": "white",
            "ticks": ""
           },
           "baxis": {
            "gridcolor": "white",
            "linecolor": "white",
            "ticks": ""
           },
           "bgcolor": "#E5ECF6",
           "caxis": {
            "gridcolor": "white",
            "linecolor": "white",
            "ticks": ""
           }
          },
          "title": {
           "x": 0.05
          },
          "xaxis": {
           "automargin": true,
           "gridcolor": "white",
           "linecolor": "white",
           "ticks": "",
           "title": {
            "standoff": 15
           },
           "zerolinecolor": "white",
           "zerolinewidth": 2
          },
          "yaxis": {
           "automargin": true,
           "gridcolor": "white",
           "linecolor": "white",
           "ticks": "",
           "title": {
            "standoff": 15
           },
           "zerolinecolor": "white",
           "zerolinewidth": 2
          }
         }
        },
        "title": {
         "text": "Mean Special Attack by Collective Type 1 Pokemons"
        },
        "xaxis": {
         "tickangle": 45,
         "title": {
          "text": "Collective Pokemon Type 1"
         }
        },
        "yaxis": {
         "title": {
          "text": "Mean Special Attack Points"
         }
        }
       }
      }
     },
     "metadata": {},
     "output_type": "display_data"
    }
   ],
   "source": [
    "# Sort grouped_pok by 'Special_attack' descending\n",
    "grouped_pok_sorted_sp_at = grouped_pok.sort_values(by='Special_attack', ascending=False)\n",
    "\n",
    "# Create alternating green and gray colors for the bars to improve visual distinction\n",
    "bar_colors = ['gray' if i % 2 == 0 else 'green' for i in range(len(grouped_pok_sorted_sp_at))]\n",
    "\n",
    "# Create a bar plot using Plotly to show mean 'Hit_points' by Type_1\n",
    "fig = go.Figure(\n",
    "    data=[\n",
    "        go.Bar(\n",
    "            x=grouped_pok_sorted_sp_at.index,            # X-axis: Pokemon Type_1 categories\n",
    "            y=grouped_pok_sorted_sp_at['Special_attack'],    # Y-axis: Mean 'Special_attack' stat for each type\n",
    "            marker_color=bar_colors                # Bar colors: alternating green and gray\n",
    "        )\n",
    "    ]\n",
    ")\n",
    "\n",
    "# Update the layout for better readability and presentation\n",
    "fig.update_layout(\n",
    "    title='Mean Special Attack by Collective Type 1 Pokemons',  # Chart title\n",
    "    xaxis_title='Collective Pokemon Type 1',                # X-axis label\n",
    "    yaxis_title='Mean Special Attack Points',                          # Y-axis label\n",
    "    xaxis_tickangle=45                                      # Rotate x-axis labels for clarity\n",
    ")\n",
    "\n",
    "# Display the plot\n",
    "fig.show()\n",
    "# Summary: The bar chart above displays the mean Special Attack stat for each primary Pokemon type.\n",
    "# Psychic and Dragon types have the highest mean Special Attack, making them strong choices for special offense.\n",
    "# Flying, Electric, and Fire types also have high mean Special Attack values.\n",
    "# Bug and Fighting types have the lowest mean Special Attack, indicating they are less effective with special moves.\n",
    "# This information is valuable for selecting Pokemon with strong special attack capabilities for competitive battles.\n"
   ]
  },
  {
   "cell_type": "code",
   "execution_count": 14,
   "id": "d4784cb7",
   "metadata": {},
   "outputs": [
    {
     "data": {
      "application/vnd.plotly.v1+json": {
       "config": {
        "plotlyServerURL": "https://plot.ly"
       },
       "data": [
        {
         "marker": {
          "color": [
           "gray",
           "green",
           "gray",
           "green",
           "gray",
           "green",
           "gray",
           "green",
           "gray",
           "green",
           "gray",
           "green",
           "gray",
           "green",
           "gray",
           "green",
           "gray",
           "green"
          ]
         },
         "type": "bar",
         "x": [
          "Dragon",
          "Psychic",
          "Fairy",
          "Steel",
          "Ghost",
          "Ice",
          "Rock",
          "Electric",
          "Flying",
          "Fire",
          "Water",
          "Grass",
          "Dark",
          "Bug",
          "Fighting",
          "Poison",
          "Normal",
          "Ground"
         ],
         "y": {
          "bdata": "AAAAAAA2VkAfwX0E95FVQC0tLS0tLVVAhfYS2ksoVEAAAAAAAB5TQKuqqqqqElNAL7roooveUkBddNFFF21SQAAAAAAAIFJA2Ymd2IkNUkCSJEmSJKFRQLdt27Ztm1FAIYQQQghhUUDXDsy1AzNQQNFeQnsJLVBAkiRJkiQZUECn4OUUvNxPQAAAAAAAYE9A",
          "dtype": "f8"
         }
        }
       ],
       "layout": {
        "template": {
         "data": {
          "bar": [
           {
            "error_x": {
             "color": "#2a3f5f"
            },
            "error_y": {
             "color": "#2a3f5f"
            },
            "marker": {
             "line": {
              "color": "#E5ECF6",
              "width": 0.5
             },
             "pattern": {
              "fillmode": "overlay",
              "size": 10,
              "solidity": 0.2
             }
            },
            "type": "bar"
           }
          ],
          "barpolar": [
           {
            "marker": {
             "line": {
              "color": "#E5ECF6",
              "width": 0.5
             },
             "pattern": {
              "fillmode": "overlay",
              "size": 10,
              "solidity": 0.2
             }
            },
            "type": "barpolar"
           }
          ],
          "carpet": [
           {
            "aaxis": {
             "endlinecolor": "#2a3f5f",
             "gridcolor": "white",
             "linecolor": "white",
             "minorgridcolor": "white",
             "startlinecolor": "#2a3f5f"
            },
            "baxis": {
             "endlinecolor": "#2a3f5f",
             "gridcolor": "white",
             "linecolor": "white",
             "minorgridcolor": "white",
             "startlinecolor": "#2a3f5f"
            },
            "type": "carpet"
           }
          ],
          "choropleth": [
           {
            "colorbar": {
             "outlinewidth": 0,
             "ticks": ""
            },
            "type": "choropleth"
           }
          ],
          "contour": [
           {
            "colorbar": {
             "outlinewidth": 0,
             "ticks": ""
            },
            "colorscale": [
             [
              0,
              "#0d0887"
             ],
             [
              0.1111111111111111,
              "#46039f"
             ],
             [
              0.2222222222222222,
              "#7201a8"
             ],
             [
              0.3333333333333333,
              "#9c179e"
             ],
             [
              0.4444444444444444,
              "#bd3786"
             ],
             [
              0.5555555555555556,
              "#d8576b"
             ],
             [
              0.6666666666666666,
              "#ed7953"
             ],
             [
              0.7777777777777778,
              "#fb9f3a"
             ],
             [
              0.8888888888888888,
              "#fdca26"
             ],
             [
              1,
              "#f0f921"
             ]
            ],
            "type": "contour"
           }
          ],
          "contourcarpet": [
           {
            "colorbar": {
             "outlinewidth": 0,
             "ticks": ""
            },
            "type": "contourcarpet"
           }
          ],
          "heatmap": [
           {
            "colorbar": {
             "outlinewidth": 0,
             "ticks": ""
            },
            "colorscale": [
             [
              0,
              "#0d0887"
             ],
             [
              0.1111111111111111,
              "#46039f"
             ],
             [
              0.2222222222222222,
              "#7201a8"
             ],
             [
              0.3333333333333333,
              "#9c179e"
             ],
             [
              0.4444444444444444,
              "#bd3786"
             ],
             [
              0.5555555555555556,
              "#d8576b"
             ],
             [
              0.6666666666666666,
              "#ed7953"
             ],
             [
              0.7777777777777778,
              "#fb9f3a"
             ],
             [
              0.8888888888888888,
              "#fdca26"
             ],
             [
              1,
              "#f0f921"
             ]
            ],
            "type": "heatmap"
           }
          ],
          "histogram": [
           {
            "marker": {
             "pattern": {
              "fillmode": "overlay",
              "size": 10,
              "solidity": 0.2
             }
            },
            "type": "histogram"
           }
          ],
          "histogram2d": [
           {
            "colorbar": {
             "outlinewidth": 0,
             "ticks": ""
            },
            "colorscale": [
             [
              0,
              "#0d0887"
             ],
             [
              0.1111111111111111,
              "#46039f"
             ],
             [
              0.2222222222222222,
              "#7201a8"
             ],
             [
              0.3333333333333333,
              "#9c179e"
             ],
             [
              0.4444444444444444,
              "#bd3786"
             ],
             [
              0.5555555555555556,
              "#d8576b"
             ],
             [
              0.6666666666666666,
              "#ed7953"
             ],
             [
              0.7777777777777778,
              "#fb9f3a"
             ],
             [
              0.8888888888888888,
              "#fdca26"
             ],
             [
              1,
              "#f0f921"
             ]
            ],
            "type": "histogram2d"
           }
          ],
          "histogram2dcontour": [
           {
            "colorbar": {
             "outlinewidth": 0,
             "ticks": ""
            },
            "colorscale": [
             [
              0,
              "#0d0887"
             ],
             [
              0.1111111111111111,
              "#46039f"
             ],
             [
              0.2222222222222222,
              "#7201a8"
             ],
             [
              0.3333333333333333,
              "#9c179e"
             ],
             [
              0.4444444444444444,
              "#bd3786"
             ],
             [
              0.5555555555555556,
              "#d8576b"
             ],
             [
              0.6666666666666666,
              "#ed7953"
             ],
             [
              0.7777777777777778,
              "#fb9f3a"
             ],
             [
              0.8888888888888888,
              "#fdca26"
             ],
             [
              1,
              "#f0f921"
             ]
            ],
            "type": "histogram2dcontour"
           }
          ],
          "mesh3d": [
           {
            "colorbar": {
             "outlinewidth": 0,
             "ticks": ""
            },
            "type": "mesh3d"
           }
          ],
          "parcoords": [
           {
            "line": {
             "colorbar": {
              "outlinewidth": 0,
              "ticks": ""
             }
            },
            "type": "parcoords"
           }
          ],
          "pie": [
           {
            "automargin": true,
            "type": "pie"
           }
          ],
          "scatter": [
           {
            "fillpattern": {
             "fillmode": "overlay",
             "size": 10,
             "solidity": 0.2
            },
            "type": "scatter"
           }
          ],
          "scatter3d": [
           {
            "line": {
             "colorbar": {
              "outlinewidth": 0,
              "ticks": ""
             }
            },
            "marker": {
             "colorbar": {
              "outlinewidth": 0,
              "ticks": ""
             }
            },
            "type": "scatter3d"
           }
          ],
          "scattercarpet": [
           {
            "marker": {
             "colorbar": {
              "outlinewidth": 0,
              "ticks": ""
             }
            },
            "type": "scattercarpet"
           }
          ],
          "scattergeo": [
           {
            "marker": {
             "colorbar": {
              "outlinewidth": 0,
              "ticks": ""
             }
            },
            "type": "scattergeo"
           }
          ],
          "scattergl": [
           {
            "marker": {
             "colorbar": {
              "outlinewidth": 0,
              "ticks": ""
             }
            },
            "type": "scattergl"
           }
          ],
          "scattermap": [
           {
            "marker": {
             "colorbar": {
              "outlinewidth": 0,
              "ticks": ""
             }
            },
            "type": "scattermap"
           }
          ],
          "scattermapbox": [
           {
            "marker": {
             "colorbar": {
              "outlinewidth": 0,
              "ticks": ""
             }
            },
            "type": "scattermapbox"
           }
          ],
          "scatterpolar": [
           {
            "marker": {
             "colorbar": {
              "outlinewidth": 0,
              "ticks": ""
             }
            },
            "type": "scatterpolar"
           }
          ],
          "scatterpolargl": [
           {
            "marker": {
             "colorbar": {
              "outlinewidth": 0,
              "ticks": ""
             }
            },
            "type": "scatterpolargl"
           }
          ],
          "scatterternary": [
           {
            "marker": {
             "colorbar": {
              "outlinewidth": 0,
              "ticks": ""
             }
            },
            "type": "scatterternary"
           }
          ],
          "surface": [
           {
            "colorbar": {
             "outlinewidth": 0,
             "ticks": ""
            },
            "colorscale": [
             [
              0,
              "#0d0887"
             ],
             [
              0.1111111111111111,
              "#46039f"
             ],
             [
              0.2222222222222222,
              "#7201a8"
             ],
             [
              0.3333333333333333,
              "#9c179e"
             ],
             [
              0.4444444444444444,
              "#bd3786"
             ],
             [
              0.5555555555555556,
              "#d8576b"
             ],
             [
              0.6666666666666666,
              "#ed7953"
             ],
             [
              0.7777777777777778,
              "#fb9f3a"
             ],
             [
              0.8888888888888888,
              "#fdca26"
             ],
             [
              1,
              "#f0f921"
             ]
            ],
            "type": "surface"
           }
          ],
          "table": [
           {
            "cells": {
             "fill": {
              "color": "#EBF0F8"
             },
             "line": {
              "color": "white"
             }
            },
            "header": {
             "fill": {
              "color": "#C8D4E3"
             },
             "line": {
              "color": "white"
             }
            },
            "type": "table"
           }
          ]
         },
         "layout": {
          "annotationdefaults": {
           "arrowcolor": "#2a3f5f",
           "arrowhead": 0,
           "arrowwidth": 1
          },
          "autotypenumbers": "strict",
          "coloraxis": {
           "colorbar": {
            "outlinewidth": 0,
            "ticks": ""
           }
          },
          "colorscale": {
           "diverging": [
            [
             0,
             "#8e0152"
            ],
            [
             0.1,
             "#c51b7d"
            ],
            [
             0.2,
             "#de77ae"
            ],
            [
             0.3,
             "#f1b6da"
            ],
            [
             0.4,
             "#fde0ef"
            ],
            [
             0.5,
             "#f7f7f7"
            ],
            [
             0.6,
             "#e6f5d0"
            ],
            [
             0.7,
             "#b8e186"
            ],
            [
             0.8,
             "#7fbc41"
            ],
            [
             0.9,
             "#4d9221"
            ],
            [
             1,
             "#276419"
            ]
           ],
           "sequential": [
            [
             0,
             "#0d0887"
            ],
            [
             0.1111111111111111,
             "#46039f"
            ],
            [
             0.2222222222222222,
             "#7201a8"
            ],
            [
             0.3333333333333333,
             "#9c179e"
            ],
            [
             0.4444444444444444,
             "#bd3786"
            ],
            [
             0.5555555555555556,
             "#d8576b"
            ],
            [
             0.6666666666666666,
             "#ed7953"
            ],
            [
             0.7777777777777778,
             "#fb9f3a"
            ],
            [
             0.8888888888888888,
             "#fdca26"
            ],
            [
             1,
             "#f0f921"
            ]
           ],
           "sequentialminus": [
            [
             0,
             "#0d0887"
            ],
            [
             0.1111111111111111,
             "#46039f"
            ],
            [
             0.2222222222222222,
             "#7201a8"
            ],
            [
             0.3333333333333333,
             "#9c179e"
            ],
            [
             0.4444444444444444,
             "#bd3786"
            ],
            [
             0.5555555555555556,
             "#d8576b"
            ],
            [
             0.6666666666666666,
             "#ed7953"
            ],
            [
             0.7777777777777778,
             "#fb9f3a"
            ],
            [
             0.8888888888888888,
             "#fdca26"
            ],
            [
             1,
             "#f0f921"
            ]
           ]
          },
          "colorway": [
           "#636efa",
           "#EF553B",
           "#00cc96",
           "#ab63fa",
           "#FFA15A",
           "#19d3f3",
           "#FF6692",
           "#B6E880",
           "#FF97FF",
           "#FECB52"
          ],
          "font": {
           "color": "#2a3f5f"
          },
          "geo": {
           "bgcolor": "white",
           "lakecolor": "white",
           "landcolor": "#E5ECF6",
           "showlakes": true,
           "showland": true,
           "subunitcolor": "white"
          },
          "hoverlabel": {
           "align": "left"
          },
          "hovermode": "closest",
          "mapbox": {
           "style": "light"
          },
          "paper_bgcolor": "white",
          "plot_bgcolor": "#E5ECF6",
          "polar": {
           "angularaxis": {
            "gridcolor": "white",
            "linecolor": "white",
            "ticks": ""
           },
           "bgcolor": "#E5ECF6",
           "radialaxis": {
            "gridcolor": "white",
            "linecolor": "white",
            "ticks": ""
           }
          },
          "scene": {
           "xaxis": {
            "backgroundcolor": "#E5ECF6",
            "gridcolor": "white",
            "gridwidth": 2,
            "linecolor": "white",
            "showbackground": true,
            "ticks": "",
            "zerolinecolor": "white"
           },
           "yaxis": {
            "backgroundcolor": "#E5ECF6",
            "gridcolor": "white",
            "gridwidth": 2,
            "linecolor": "white",
            "showbackground": true,
            "ticks": "",
            "zerolinecolor": "white"
           },
           "zaxis": {
            "backgroundcolor": "#E5ECF6",
            "gridcolor": "white",
            "gridwidth": 2,
            "linecolor": "white",
            "showbackground": true,
            "ticks": "",
            "zerolinecolor": "white"
           }
          },
          "shapedefaults": {
           "line": {
            "color": "#2a3f5f"
           }
          },
          "ternary": {
           "aaxis": {
            "gridcolor": "white",
            "linecolor": "white",
            "ticks": ""
           },
           "baxis": {
            "gridcolor": "white",
            "linecolor": "white",
            "ticks": ""
           },
           "bgcolor": "#E5ECF6",
           "caxis": {
            "gridcolor": "white",
            "linecolor": "white",
            "ticks": ""
           }
          },
          "title": {
           "x": 0.05
          },
          "xaxis": {
           "automargin": true,
           "gridcolor": "white",
           "linecolor": "white",
           "ticks": "",
           "title": {
            "standoff": 15
           },
           "zerolinecolor": "white",
           "zerolinewidth": 2
          },
          "yaxis": {
           "automargin": true,
           "gridcolor": "white",
           "linecolor": "white",
           "ticks": "",
           "title": {
            "standoff": 15
           },
           "zerolinecolor": "white",
           "zerolinewidth": 2
          }
         }
        },
        "title": {
         "text": "Mean Special Defense by Collective Type 1 Pokemons"
        },
        "xaxis": {
         "tickangle": 45,
         "title": {
          "text": "Collective Pokemon Type 1"
         }
        },
        "yaxis": {
         "title": {
          "text": "Mean Special Defense Points"
         }
        }
       }
      }
     },
     "metadata": {},
     "output_type": "display_data"
    }
   ],
   "source": [
    "# Sort grouped_pok by 'Special_defense' descending\n",
    "grouped_pok_sorted_sp_de = grouped_pok.sort_values(by='Special_defense', ascending=False)\n",
    "\n",
    "# Create alternating green and gray colors for the bars to improve visual distinction\n",
    "bar_colors = ['gray' if i % 2 == 0 else 'green' for i in range(len(grouped_pok_sorted_sp_de))]\n",
    "\n",
    "# Create a bar plot using Plotly to show mean 'Hit_points' by Type_1\n",
    "fig = go.Figure(\n",
    "    data=[\n",
    "        go.Bar(\n",
    "            x=grouped_pok_sorted_sp_de.index,            # X-axis: Pokemon Type_1 categories\n",
    "            y=grouped_pok_sorted_sp_de['Special_defense'],    # Y-axis: Mean 'Special_defense' stat for each type\n",
    "            marker_color=bar_colors                # Bar colors: alternating green and gray\n",
    "        )\n",
    "    ]\n",
    ")\n",
    "\n",
    "# Update the layout for better readability and presentation\n",
    "fig.update_layout(\n",
    "    title='Mean Special Defense by Collective Type 1 Pokemons',  # Chart title\n",
    "    xaxis_title='Collective Pokemon Type 1',                # X-axis label\n",
    "    yaxis_title='Mean Special Defense Points',                          # Y-axis label\n",
    "    xaxis_tickangle=45                                      # Rotate x-axis labels for clarity\n",
    ")\n",
    "\n",
    "# Display the plot\n",
    "fig.show()\n",
    "# Summary: The bar chart above displays the mean Special Defense stat for each primary Pokemon type.\n",
    "# Dragon, Psychic, and Fairy types have the highest mean Special Defense, making them more resilient against special attacks.\n",
    "# Bug, Fighting, and Poison types have the lowest mean Special Defense, indicating a vulnerability to special moves.\n",
    "# This information is useful for team building and strategy, especially when anticipating opponents who rely on special attacks.\n"
   ]
  },
  {
   "cell_type": "code",
   "execution_count": 86,
   "id": "241995fa",
   "metadata": {},
   "outputs": [
    {
     "data": {
      "application/vnd.plotly.v1+json": {
       "config": {
        "plotlyServerURL": "https://plot.ly"
       },
       "data": [
        {
         "marker": {
          "color": [
           "gray",
           "green",
           "gray",
           "green",
           "gray",
           "green",
           "gray",
           "green",
           "gray",
           "green",
           "gray",
           "green",
           "gray",
           "green",
           "gray",
           "green",
           "gray",
           "green"
          ]
         },
         "type": "bar",
         "x": [
          "Flying",
          "Electric",
          "Dragon",
          "Psychic",
          "Dark",
          "Fire",
          "Normal",
          "Fighting",
          "Water",
          "Ghost",
          "Ground",
          "Poison",
          "Ice",
          "Grass",
          "Bug",
          "Rock",
          "Steel",
          "Fairy"
         ],
         "y": {
          "bdata": "AAAAAACgWUAAAAAAACBVQAAAAAAAwlRA9xHcR3BfVEBKKaWUUgpTQMVO7MROnFJAWR8a60PjUUBMaC+hvYRQQNu2bdu2fVBAAAAAAAAWUEAAAAAAAPRPQJIkSZIkyU9Aq6qqqqq6T0Bu27Zt2/ZOQO3AXDsw105AdNFFF130S0AT2ktoL6FLQEtLS0tLS0hA",
          "dtype": "f8"
         }
        }
       ],
       "layout": {
        "template": {
         "data": {
          "bar": [
           {
            "error_x": {
             "color": "#2a3f5f"
            },
            "error_y": {
             "color": "#2a3f5f"
            },
            "marker": {
             "line": {
              "color": "#E5ECF6",
              "width": 0.5
             },
             "pattern": {
              "fillmode": "overlay",
              "size": 10,
              "solidity": 0.2
             }
            },
            "type": "bar"
           }
          ],
          "barpolar": [
           {
            "marker": {
             "line": {
              "color": "#E5ECF6",
              "width": 0.5
             },
             "pattern": {
              "fillmode": "overlay",
              "size": 10,
              "solidity": 0.2
             }
            },
            "type": "barpolar"
           }
          ],
          "carpet": [
           {
            "aaxis": {
             "endlinecolor": "#2a3f5f",
             "gridcolor": "white",
             "linecolor": "white",
             "minorgridcolor": "white",
             "startlinecolor": "#2a3f5f"
            },
            "baxis": {
             "endlinecolor": "#2a3f5f",
             "gridcolor": "white",
             "linecolor": "white",
             "minorgridcolor": "white",
             "startlinecolor": "#2a3f5f"
            },
            "type": "carpet"
           }
          ],
          "choropleth": [
           {
            "colorbar": {
             "outlinewidth": 0,
             "ticks": ""
            },
            "type": "choropleth"
           }
          ],
          "contour": [
           {
            "colorbar": {
             "outlinewidth": 0,
             "ticks": ""
            },
            "colorscale": [
             [
              0,
              "#0d0887"
             ],
             [
              0.1111111111111111,
              "#46039f"
             ],
             [
              0.2222222222222222,
              "#7201a8"
             ],
             [
              0.3333333333333333,
              "#9c179e"
             ],
             [
              0.4444444444444444,
              "#bd3786"
             ],
             [
              0.5555555555555556,
              "#d8576b"
             ],
             [
              0.6666666666666666,
              "#ed7953"
             ],
             [
              0.7777777777777778,
              "#fb9f3a"
             ],
             [
              0.8888888888888888,
              "#fdca26"
             ],
             [
              1,
              "#f0f921"
             ]
            ],
            "type": "contour"
           }
          ],
          "contourcarpet": [
           {
            "colorbar": {
             "outlinewidth": 0,
             "ticks": ""
            },
            "type": "contourcarpet"
           }
          ],
          "heatmap": [
           {
            "colorbar": {
             "outlinewidth": 0,
             "ticks": ""
            },
            "colorscale": [
             [
              0,
              "#0d0887"
             ],
             [
              0.1111111111111111,
              "#46039f"
             ],
             [
              0.2222222222222222,
              "#7201a8"
             ],
             [
              0.3333333333333333,
              "#9c179e"
             ],
             [
              0.4444444444444444,
              "#bd3786"
             ],
             [
              0.5555555555555556,
              "#d8576b"
             ],
             [
              0.6666666666666666,
              "#ed7953"
             ],
             [
              0.7777777777777778,
              "#fb9f3a"
             ],
             [
              0.8888888888888888,
              "#fdca26"
             ],
             [
              1,
              "#f0f921"
             ]
            ],
            "type": "heatmap"
           }
          ],
          "histogram": [
           {
            "marker": {
             "pattern": {
              "fillmode": "overlay",
              "size": 10,
              "solidity": 0.2
             }
            },
            "type": "histogram"
           }
          ],
          "histogram2d": [
           {
            "colorbar": {
             "outlinewidth": 0,
             "ticks": ""
            },
            "colorscale": [
             [
              0,
              "#0d0887"
             ],
             [
              0.1111111111111111,
              "#46039f"
             ],
             [
              0.2222222222222222,
              "#7201a8"
             ],
             [
              0.3333333333333333,
              "#9c179e"
             ],
             [
              0.4444444444444444,
              "#bd3786"
             ],
             [
              0.5555555555555556,
              "#d8576b"
             ],
             [
              0.6666666666666666,
              "#ed7953"
             ],
             [
              0.7777777777777778,
              "#fb9f3a"
             ],
             [
              0.8888888888888888,
              "#fdca26"
             ],
             [
              1,
              "#f0f921"
             ]
            ],
            "type": "histogram2d"
           }
          ],
          "histogram2dcontour": [
           {
            "colorbar": {
             "outlinewidth": 0,
             "ticks": ""
            },
            "colorscale": [
             [
              0,
              "#0d0887"
             ],
             [
              0.1111111111111111,
              "#46039f"
             ],
             [
              0.2222222222222222,
              "#7201a8"
             ],
             [
              0.3333333333333333,
              "#9c179e"
             ],
             [
              0.4444444444444444,
              "#bd3786"
             ],
             [
              0.5555555555555556,
              "#d8576b"
             ],
             [
              0.6666666666666666,
              "#ed7953"
             ],
             [
              0.7777777777777778,
              "#fb9f3a"
             ],
             [
              0.8888888888888888,
              "#fdca26"
             ],
             [
              1,
              "#f0f921"
             ]
            ],
            "type": "histogram2dcontour"
           }
          ],
          "mesh3d": [
           {
            "colorbar": {
             "outlinewidth": 0,
             "ticks": ""
            },
            "type": "mesh3d"
           }
          ],
          "parcoords": [
           {
            "line": {
             "colorbar": {
              "outlinewidth": 0,
              "ticks": ""
             }
            },
            "type": "parcoords"
           }
          ],
          "pie": [
           {
            "automargin": true,
            "type": "pie"
           }
          ],
          "scatter": [
           {
            "fillpattern": {
             "fillmode": "overlay",
             "size": 10,
             "solidity": 0.2
            },
            "type": "scatter"
           }
          ],
          "scatter3d": [
           {
            "line": {
             "colorbar": {
              "outlinewidth": 0,
              "ticks": ""
             }
            },
            "marker": {
             "colorbar": {
              "outlinewidth": 0,
              "ticks": ""
             }
            },
            "type": "scatter3d"
           }
          ],
          "scattercarpet": [
           {
            "marker": {
             "colorbar": {
              "outlinewidth": 0,
              "ticks": ""
             }
            },
            "type": "scattercarpet"
           }
          ],
          "scattergeo": [
           {
            "marker": {
             "colorbar": {
              "outlinewidth": 0,
              "ticks": ""
             }
            },
            "type": "scattergeo"
           }
          ],
          "scattergl": [
           {
            "marker": {
             "colorbar": {
              "outlinewidth": 0,
              "ticks": ""
             }
            },
            "type": "scattergl"
           }
          ],
          "scattermap": [
           {
            "marker": {
             "colorbar": {
              "outlinewidth": 0,
              "ticks": ""
             }
            },
            "type": "scattermap"
           }
          ],
          "scattermapbox": [
           {
            "marker": {
             "colorbar": {
              "outlinewidth": 0,
              "ticks": ""
             }
            },
            "type": "scattermapbox"
           }
          ],
          "scatterpolar": [
           {
            "marker": {
             "colorbar": {
              "outlinewidth": 0,
              "ticks": ""
             }
            },
            "type": "scatterpolar"
           }
          ],
          "scatterpolargl": [
           {
            "marker": {
             "colorbar": {
              "outlinewidth": 0,
              "ticks": ""
             }
            },
            "type": "scatterpolargl"
           }
          ],
          "scatterternary": [
           {
            "marker": {
             "colorbar": {
              "outlinewidth": 0,
              "ticks": ""
             }
            },
            "type": "scatterternary"
           }
          ],
          "surface": [
           {
            "colorbar": {
             "outlinewidth": 0,
             "ticks": ""
            },
            "colorscale": [
             [
              0,
              "#0d0887"
             ],
             [
              0.1111111111111111,
              "#46039f"
             ],
             [
              0.2222222222222222,
              "#7201a8"
             ],
             [
              0.3333333333333333,
              "#9c179e"
             ],
             [
              0.4444444444444444,
              "#bd3786"
             ],
             [
              0.5555555555555556,
              "#d8576b"
             ],
             [
              0.6666666666666666,
              "#ed7953"
             ],
             [
              0.7777777777777778,
              "#fb9f3a"
             ],
             [
              0.8888888888888888,
              "#fdca26"
             ],
             [
              1,
              "#f0f921"
             ]
            ],
            "type": "surface"
           }
          ],
          "table": [
           {
            "cells": {
             "fill": {
              "color": "#EBF0F8"
             },
             "line": {
              "color": "white"
             }
            },
            "header": {
             "fill": {
              "color": "#C8D4E3"
             },
             "line": {
              "color": "white"
             }
            },
            "type": "table"
           }
          ]
         },
         "layout": {
          "annotationdefaults": {
           "arrowcolor": "#2a3f5f",
           "arrowhead": 0,
           "arrowwidth": 1
          },
          "autotypenumbers": "strict",
          "coloraxis": {
           "colorbar": {
            "outlinewidth": 0,
            "ticks": ""
           }
          },
          "colorscale": {
           "diverging": [
            [
             0,
             "#8e0152"
            ],
            [
             0.1,
             "#c51b7d"
            ],
            [
             0.2,
             "#de77ae"
            ],
            [
             0.3,
             "#f1b6da"
            ],
            [
             0.4,
             "#fde0ef"
            ],
            [
             0.5,
             "#f7f7f7"
            ],
            [
             0.6,
             "#e6f5d0"
            ],
            [
             0.7,
             "#b8e186"
            ],
            [
             0.8,
             "#7fbc41"
            ],
            [
             0.9,
             "#4d9221"
            ],
            [
             1,
             "#276419"
            ]
           ],
           "sequential": [
            [
             0,
             "#0d0887"
            ],
            [
             0.1111111111111111,
             "#46039f"
            ],
            [
             0.2222222222222222,
             "#7201a8"
            ],
            [
             0.3333333333333333,
             "#9c179e"
            ],
            [
             0.4444444444444444,
             "#bd3786"
            ],
            [
             0.5555555555555556,
             "#d8576b"
            ],
            [
             0.6666666666666666,
             "#ed7953"
            ],
            [
             0.7777777777777778,
             "#fb9f3a"
            ],
            [
             0.8888888888888888,
             "#fdca26"
            ],
            [
             1,
             "#f0f921"
            ]
           ],
           "sequentialminus": [
            [
             0,
             "#0d0887"
            ],
            [
             0.1111111111111111,
             "#46039f"
            ],
            [
             0.2222222222222222,
             "#7201a8"
            ],
            [
             0.3333333333333333,
             "#9c179e"
            ],
            [
             0.4444444444444444,
             "#bd3786"
            ],
            [
             0.5555555555555556,
             "#d8576b"
            ],
            [
             0.6666666666666666,
             "#ed7953"
            ],
            [
             0.7777777777777778,
             "#fb9f3a"
            ],
            [
             0.8888888888888888,
             "#fdca26"
            ],
            [
             1,
             "#f0f921"
            ]
           ]
          },
          "colorway": [
           "#636efa",
           "#EF553B",
           "#00cc96",
           "#ab63fa",
           "#FFA15A",
           "#19d3f3",
           "#FF6692",
           "#B6E880",
           "#FF97FF",
           "#FECB52"
          ],
          "font": {
           "color": "#2a3f5f"
          },
          "geo": {
           "bgcolor": "white",
           "lakecolor": "white",
           "landcolor": "#E5ECF6",
           "showlakes": true,
           "showland": true,
           "subunitcolor": "white"
          },
          "hoverlabel": {
           "align": "left"
          },
          "hovermode": "closest",
          "mapbox": {
           "style": "light"
          },
          "paper_bgcolor": "white",
          "plot_bgcolor": "#E5ECF6",
          "polar": {
           "angularaxis": {
            "gridcolor": "white",
            "linecolor": "white",
            "ticks": ""
           },
           "bgcolor": "#E5ECF6",
           "radialaxis": {
            "gridcolor": "white",
            "linecolor": "white",
            "ticks": ""
           }
          },
          "scene": {
           "xaxis": {
            "backgroundcolor": "#E5ECF6",
            "gridcolor": "white",
            "gridwidth": 2,
            "linecolor": "white",
            "showbackground": true,
            "ticks": "",
            "zerolinecolor": "white"
           },
           "yaxis": {
            "backgroundcolor": "#E5ECF6",
            "gridcolor": "white",
            "gridwidth": 2,
            "linecolor": "white",
            "showbackground": true,
            "ticks": "",
            "zerolinecolor": "white"
           },
           "zaxis": {
            "backgroundcolor": "#E5ECF6",
            "gridcolor": "white",
            "gridwidth": 2,
            "linecolor": "white",
            "showbackground": true,
            "ticks": "",
            "zerolinecolor": "white"
           }
          },
          "shapedefaults": {
           "line": {
            "color": "#2a3f5f"
           }
          },
          "ternary": {
           "aaxis": {
            "gridcolor": "white",
            "linecolor": "white",
            "ticks": ""
           },
           "baxis": {
            "gridcolor": "white",
            "linecolor": "white",
            "ticks": ""
           },
           "bgcolor": "#E5ECF6",
           "caxis": {
            "gridcolor": "white",
            "linecolor": "white",
            "ticks": ""
           }
          },
          "title": {
           "x": 0.05
          },
          "xaxis": {
           "automargin": true,
           "gridcolor": "white",
           "linecolor": "white",
           "ticks": "",
           "title": {
            "standoff": 15
           },
           "zerolinecolor": "white",
           "zerolinewidth": 2
          },
          "yaxis": {
           "automargin": true,
           "gridcolor": "white",
           "linecolor": "white",
           "ticks": "",
           "title": {
            "standoff": 15
           },
           "zerolinecolor": "white",
           "zerolinewidth": 2
          }
         }
        },
        "title": {
         "text": "Mean Speed by Collective Type 1 Pokemons"
        },
        "xaxis": {
         "tickangle": 45,
         "title": {
          "text": "Collective Pokemon Type 1"
         }
        },
        "yaxis": {
         "title": {
          "text": "Mean Speed Points"
         }
        }
       }
      }
     },
     "metadata": {},
     "output_type": "display_data"
    }
   ],
   "source": [
    "# Sort grouped_pok by 'Speed' descending\n",
    "grouped_pok_sorted_speed = grouped_pok.sort_values(by='Speed', ascending=False)\n",
    "\n",
    "# Create alternating green and gray colors for the bars to improve visual distinction\n",
    "bar_colors = ['gray' if i % 2 == 0 else 'green' for i in range(len(grouped_pok_sorted_speed))]\n",
    "\n",
    "# Create a bar plot using Plotly to show mean 'Hit_points' by Type_1\n",
    "fig = go.Figure(\n",
    "    data=[\n",
    "        go.Bar(\n",
    "            x=grouped_pok_sorted_speed.index,            # X-axis: Pokemon Type_1 categories\n",
    "            y=grouped_pok_sorted_speed['Speed'],    # Y-axis: Mean 'Speed' stat for each type\n",
    "            marker_color=bar_colors                # Bar colors: alternating green and gray\n",
    "        )\n",
    "    ]\n",
    ")\n",
    "\n",
    "# Update the layout for better readability and presentation\n",
    "fig.update_layout(\n",
    "    title='Mean Speed by Collective Type 1 Pokemons',  # Chart title\n",
    "    xaxis_title='Collective Pokemon Type 1',                # X-axis label\n",
    "    yaxis_title='Mean Speed Points',                          # Y-axis label\n",
    "    xaxis_tickangle=45                                      # Rotate x-axis labels for clarity\n",
    ")\n",
    "\n",
    "# Display the plot\n",
    "fig.show()"
   ]
  },
  {
   "cell_type": "code",
   "execution_count": 15,
   "id": "2708e2bc",
   "metadata": {},
   "outputs": [
    {
     "data": {
      "application/vnd.plotly.v1+json": {
       "config": {
        "plotlyServerURL": "https://plot.ly"
       },
       "data": [
        {
         "domain": {
          "x": [
           0,
           1
          ],
          "y": [
           0,
           1
          ]
         },
         "hovertemplate": "label=%{label}<br>value=%{value}<extra></extra>",
         "labels": [
          "Has_type_2",
          "No Type 2"
         ],
         "legendgroup": "",
         "name": "",
         "showlegend": true,
         "type": "pie",
         "values": {
          "bdata": "ngGCAQ==",
          "dtype": "i2"
         }
        }
       ],
       "layout": {
        "legend": {
         "tracegroupgap": 0
        },
        "template": {
         "data": {
          "bar": [
           {
            "error_x": {
             "color": "#2a3f5f"
            },
            "error_y": {
             "color": "#2a3f5f"
            },
            "marker": {
             "line": {
              "color": "#E5ECF6",
              "width": 0.5
             },
             "pattern": {
              "fillmode": "overlay",
              "size": 10,
              "solidity": 0.2
             }
            },
            "type": "bar"
           }
          ],
          "barpolar": [
           {
            "marker": {
             "line": {
              "color": "#E5ECF6",
              "width": 0.5
             },
             "pattern": {
              "fillmode": "overlay",
              "size": 10,
              "solidity": 0.2
             }
            },
            "type": "barpolar"
           }
          ],
          "carpet": [
           {
            "aaxis": {
             "endlinecolor": "#2a3f5f",
             "gridcolor": "white",
             "linecolor": "white",
             "minorgridcolor": "white",
             "startlinecolor": "#2a3f5f"
            },
            "baxis": {
             "endlinecolor": "#2a3f5f",
             "gridcolor": "white",
             "linecolor": "white",
             "minorgridcolor": "white",
             "startlinecolor": "#2a3f5f"
            },
            "type": "carpet"
           }
          ],
          "choropleth": [
           {
            "colorbar": {
             "outlinewidth": 0,
             "ticks": ""
            },
            "type": "choropleth"
           }
          ],
          "contour": [
           {
            "colorbar": {
             "outlinewidth": 0,
             "ticks": ""
            },
            "colorscale": [
             [
              0,
              "#0d0887"
             ],
             [
              0.1111111111111111,
              "#46039f"
             ],
             [
              0.2222222222222222,
              "#7201a8"
             ],
             [
              0.3333333333333333,
              "#9c179e"
             ],
             [
              0.4444444444444444,
              "#bd3786"
             ],
             [
              0.5555555555555556,
              "#d8576b"
             ],
             [
              0.6666666666666666,
              "#ed7953"
             ],
             [
              0.7777777777777778,
              "#fb9f3a"
             ],
             [
              0.8888888888888888,
              "#fdca26"
             ],
             [
              1,
              "#f0f921"
             ]
            ],
            "type": "contour"
           }
          ],
          "contourcarpet": [
           {
            "colorbar": {
             "outlinewidth": 0,
             "ticks": ""
            },
            "type": "contourcarpet"
           }
          ],
          "heatmap": [
           {
            "colorbar": {
             "outlinewidth": 0,
             "ticks": ""
            },
            "colorscale": [
             [
              0,
              "#0d0887"
             ],
             [
              0.1111111111111111,
              "#46039f"
             ],
             [
              0.2222222222222222,
              "#7201a8"
             ],
             [
              0.3333333333333333,
              "#9c179e"
             ],
             [
              0.4444444444444444,
              "#bd3786"
             ],
             [
              0.5555555555555556,
              "#d8576b"
             ],
             [
              0.6666666666666666,
              "#ed7953"
             ],
             [
              0.7777777777777778,
              "#fb9f3a"
             ],
             [
              0.8888888888888888,
              "#fdca26"
             ],
             [
              1,
              "#f0f921"
             ]
            ],
            "type": "heatmap"
           }
          ],
          "histogram": [
           {
            "marker": {
             "pattern": {
              "fillmode": "overlay",
              "size": 10,
              "solidity": 0.2
             }
            },
            "type": "histogram"
           }
          ],
          "histogram2d": [
           {
            "colorbar": {
             "outlinewidth": 0,
             "ticks": ""
            },
            "colorscale": [
             [
              0,
              "#0d0887"
             ],
             [
              0.1111111111111111,
              "#46039f"
             ],
             [
              0.2222222222222222,
              "#7201a8"
             ],
             [
              0.3333333333333333,
              "#9c179e"
             ],
             [
              0.4444444444444444,
              "#bd3786"
             ],
             [
              0.5555555555555556,
              "#d8576b"
             ],
             [
              0.6666666666666666,
              "#ed7953"
             ],
             [
              0.7777777777777778,
              "#fb9f3a"
             ],
             [
              0.8888888888888888,
              "#fdca26"
             ],
             [
              1,
              "#f0f921"
             ]
            ],
            "type": "histogram2d"
           }
          ],
          "histogram2dcontour": [
           {
            "colorbar": {
             "outlinewidth": 0,
             "ticks": ""
            },
            "colorscale": [
             [
              0,
              "#0d0887"
             ],
             [
              0.1111111111111111,
              "#46039f"
             ],
             [
              0.2222222222222222,
              "#7201a8"
             ],
             [
              0.3333333333333333,
              "#9c179e"
             ],
             [
              0.4444444444444444,
              "#bd3786"
             ],
             [
              0.5555555555555556,
              "#d8576b"
             ],
             [
              0.6666666666666666,
              "#ed7953"
             ],
             [
              0.7777777777777778,
              "#fb9f3a"
             ],
             [
              0.8888888888888888,
              "#fdca26"
             ],
             [
              1,
              "#f0f921"
             ]
            ],
            "type": "histogram2dcontour"
           }
          ],
          "mesh3d": [
           {
            "colorbar": {
             "outlinewidth": 0,
             "ticks": ""
            },
            "type": "mesh3d"
           }
          ],
          "parcoords": [
           {
            "line": {
             "colorbar": {
              "outlinewidth": 0,
              "ticks": ""
             }
            },
            "type": "parcoords"
           }
          ],
          "pie": [
           {
            "automargin": true,
            "type": "pie"
           }
          ],
          "scatter": [
           {
            "fillpattern": {
             "fillmode": "overlay",
             "size": 10,
             "solidity": 0.2
            },
            "type": "scatter"
           }
          ],
          "scatter3d": [
           {
            "line": {
             "colorbar": {
              "outlinewidth": 0,
              "ticks": ""
             }
            },
            "marker": {
             "colorbar": {
              "outlinewidth": 0,
              "ticks": ""
             }
            },
            "type": "scatter3d"
           }
          ],
          "scattercarpet": [
           {
            "marker": {
             "colorbar": {
              "outlinewidth": 0,
              "ticks": ""
             }
            },
            "type": "scattercarpet"
           }
          ],
          "scattergeo": [
           {
            "marker": {
             "colorbar": {
              "outlinewidth": 0,
              "ticks": ""
             }
            },
            "type": "scattergeo"
           }
          ],
          "scattergl": [
           {
            "marker": {
             "colorbar": {
              "outlinewidth": 0,
              "ticks": ""
             }
            },
            "type": "scattergl"
           }
          ],
          "scattermap": [
           {
            "marker": {
             "colorbar": {
              "outlinewidth": 0,
              "ticks": ""
             }
            },
            "type": "scattermap"
           }
          ],
          "scattermapbox": [
           {
            "marker": {
             "colorbar": {
              "outlinewidth": 0,
              "ticks": ""
             }
            },
            "type": "scattermapbox"
           }
          ],
          "scatterpolar": [
           {
            "marker": {
             "colorbar": {
              "outlinewidth": 0,
              "ticks": ""
             }
            },
            "type": "scatterpolar"
           }
          ],
          "scatterpolargl": [
           {
            "marker": {
             "colorbar": {
              "outlinewidth": 0,
              "ticks": ""
             }
            },
            "type": "scatterpolargl"
           }
          ],
          "scatterternary": [
           {
            "marker": {
             "colorbar": {
              "outlinewidth": 0,
              "ticks": ""
             }
            },
            "type": "scatterternary"
           }
          ],
          "surface": [
           {
            "colorbar": {
             "outlinewidth": 0,
             "ticks": ""
            },
            "colorscale": [
             [
              0,
              "#0d0887"
             ],
             [
              0.1111111111111111,
              "#46039f"
             ],
             [
              0.2222222222222222,
              "#7201a8"
             ],
             [
              0.3333333333333333,
              "#9c179e"
             ],
             [
              0.4444444444444444,
              "#bd3786"
             ],
             [
              0.5555555555555556,
              "#d8576b"
             ],
             [
              0.6666666666666666,
              "#ed7953"
             ],
             [
              0.7777777777777778,
              "#fb9f3a"
             ],
             [
              0.8888888888888888,
              "#fdca26"
             ],
             [
              1,
              "#f0f921"
             ]
            ],
            "type": "surface"
           }
          ],
          "table": [
           {
            "cells": {
             "fill": {
              "color": "#EBF0F8"
             },
             "line": {
              "color": "white"
             }
            },
            "header": {
             "fill": {
              "color": "#C8D4E3"
             },
             "line": {
              "color": "white"
             }
            },
            "type": "table"
           }
          ]
         },
         "layout": {
          "annotationdefaults": {
           "arrowcolor": "#2a3f5f",
           "arrowhead": 0,
           "arrowwidth": 1
          },
          "autotypenumbers": "strict",
          "coloraxis": {
           "colorbar": {
            "outlinewidth": 0,
            "ticks": ""
           }
          },
          "colorscale": {
           "diverging": [
            [
             0,
             "#8e0152"
            ],
            [
             0.1,
             "#c51b7d"
            ],
            [
             0.2,
             "#de77ae"
            ],
            [
             0.3,
             "#f1b6da"
            ],
            [
             0.4,
             "#fde0ef"
            ],
            [
             0.5,
             "#f7f7f7"
            ],
            [
             0.6,
             "#e6f5d0"
            ],
            [
             0.7,
             "#b8e186"
            ],
            [
             0.8,
             "#7fbc41"
            ],
            [
             0.9,
             "#4d9221"
            ],
            [
             1,
             "#276419"
            ]
           ],
           "sequential": [
            [
             0,
             "#0d0887"
            ],
            [
             0.1111111111111111,
             "#46039f"
            ],
            [
             0.2222222222222222,
             "#7201a8"
            ],
            [
             0.3333333333333333,
             "#9c179e"
            ],
            [
             0.4444444444444444,
             "#bd3786"
            ],
            [
             0.5555555555555556,
             "#d8576b"
            ],
            [
             0.6666666666666666,
             "#ed7953"
            ],
            [
             0.7777777777777778,
             "#fb9f3a"
            ],
            [
             0.8888888888888888,
             "#fdca26"
            ],
            [
             1,
             "#f0f921"
            ]
           ],
           "sequentialminus": [
            [
             0,
             "#0d0887"
            ],
            [
             0.1111111111111111,
             "#46039f"
            ],
            [
             0.2222222222222222,
             "#7201a8"
            ],
            [
             0.3333333333333333,
             "#9c179e"
            ],
            [
             0.4444444444444444,
             "#bd3786"
            ],
            [
             0.5555555555555556,
             "#d8576b"
            ],
            [
             0.6666666666666666,
             "#ed7953"
            ],
            [
             0.7777777777777778,
             "#fb9f3a"
            ],
            [
             0.8888888888888888,
             "#fdca26"
            ],
            [
             1,
             "#f0f921"
            ]
           ]
          },
          "colorway": [
           "#636efa",
           "#EF553B",
           "#00cc96",
           "#ab63fa",
           "#FFA15A",
           "#19d3f3",
           "#FF6692",
           "#B6E880",
           "#FF97FF",
           "#FECB52"
          ],
          "font": {
           "color": "#2a3f5f"
          },
          "geo": {
           "bgcolor": "white",
           "lakecolor": "white",
           "landcolor": "#E5ECF6",
           "showlakes": true,
           "showland": true,
           "subunitcolor": "white"
          },
          "hoverlabel": {
           "align": "left"
          },
          "hovermode": "closest",
          "mapbox": {
           "style": "light"
          },
          "paper_bgcolor": "white",
          "plot_bgcolor": "#E5ECF6",
          "polar": {
           "angularaxis": {
            "gridcolor": "white",
            "linecolor": "white",
            "ticks": ""
           },
           "bgcolor": "#E5ECF6",
           "radialaxis": {
            "gridcolor": "white",
            "linecolor": "white",
            "ticks": ""
           }
          },
          "scene": {
           "xaxis": {
            "backgroundcolor": "#E5ECF6",
            "gridcolor": "white",
            "gridwidth": 2,
            "linecolor": "white",
            "showbackground": true,
            "ticks": "",
            "zerolinecolor": "white"
           },
           "yaxis": {
            "backgroundcolor": "#E5ECF6",
            "gridcolor": "white",
            "gridwidth": 2,
            "linecolor": "white",
            "showbackground": true,
            "ticks": "",
            "zerolinecolor": "white"
           },
           "zaxis": {
            "backgroundcolor": "#E5ECF6",
            "gridcolor": "white",
            "gridwidth": 2,
            "linecolor": "white",
            "showbackground": true,
            "ticks": "",
            "zerolinecolor": "white"
           }
          },
          "shapedefaults": {
           "line": {
            "color": "#2a3f5f"
           }
          },
          "ternary": {
           "aaxis": {
            "gridcolor": "white",
            "linecolor": "white",
            "ticks": ""
           },
           "baxis": {
            "gridcolor": "white",
            "linecolor": "white",
            "ticks": ""
           },
           "bgcolor": "#E5ECF6",
           "caxis": {
            "gridcolor": "white",
            "linecolor": "white",
            "ticks": ""
           }
          },
          "title": {
           "x": 0.05
          },
          "xaxis": {
           "automargin": true,
           "gridcolor": "white",
           "linecolor": "white",
           "ticks": "",
           "title": {
            "standoff": 15
           },
           "zerolinecolor": "white",
           "zerolinewidth": 2
          },
          "yaxis": {
           "automargin": true,
           "gridcolor": "white",
           "linecolor": "white",
           "ticks": "",
           "title": {
            "standoff": 15
           },
           "zerolinecolor": "white",
           "zerolinewidth": 2
          }
         }
        },
        "title": {
         "text": "How many Pokemons has a Type 2 ability?"
        }
       }
      }
     },
     "metadata": {},
     "output_type": "display_data"
    }
   ],
   "source": [
    "\n",
    "# Count occurrences of each value in 'Has Type 2'\n",
    "has_type2_counts = df_pok['Has_type_2'].value_counts()\n",
    "\n",
    "# Plot pie chart\n",
    "fig = px.pie(\n",
    "    names=['No Type 2' if val == 0 else 'Has_type_2' for val in has_type2_counts.index],\n",
    "    values=has_type2_counts.values,\n",
    "    title='How many Pokemons has a Type 2 ability?'\n",
    ")\n",
    "fig.show()\n",
    "# Summary: The pie chart shows the proportion of Pokemons that have a secondary type (Type 2) versus those that do not.\n",
    "# In this dataset, slightly more than half of the Pokemons have a Type 2 ability (414 out of 800), while 386 do not.\n",
    "# Having a secondary type can provide additional strengths and weaknesses in battles, making these Pokemons more versatile.\n",
    "# However, single-type Pokemons may have fewer weaknesses and can be easier to strategize with.\n"
   ]
  },
  {
   "cell_type": "code",
   "execution_count": 16,
   "id": "5f0dad37",
   "metadata": {},
   "outputs": [
    {
     "data": {
      "image/png": "[encoded data removed]",
      "text/plain": [
       "<Figure size 1600x800 with 1 Axes>"
      ]
     },
     "metadata": {},
     "output_type": "display_data"
    }
   ],
   "source": [
    "plt.figure(figsize=(16, 8))\n",
    "sns.histplot(\n",
    "    data=df_pok,\n",
    "    x='Type_1',\n",
    "    hue='Has_type_2',\n",
    "    multiple='dodge',\n",
    "    shrink=0.8,\n",
    "    palette='Set2',\n",
    "    discrete=True\n",
    ")\n",
    "plt.title('Which Group Type pokemons has both characteristics', fontsize=26)\n",
    "plt.xlabel('Type 1', fontsize=20)\n",
    "plt.ylabel('Count', fontsize=20)\n",
    "plt.xticks(rotation=45, fontsize=16)\n",
    "plt.yticks(fontsize=16)\n",
    "plt.legend(title='Has Type 2', labels=['No', 'Yes'], fontsize=16, title_fontsize=18)\n",
    "plt.tight_layout()\n",
    "plt.show()"
   ]
  },
  {
   "cell_type": "code",
   "execution_count": 24,
   "id": "94fe086d",
   "metadata": {},
   "outputs": [
    {
     "data": {
      "image/png": "[encoded data removed]",
      "text/plain": [
       "<Figure size 1800x1200 with 1 Axes>"
      ]
     },
     "metadata": {},
     "output_type": "display_data"
    }
   ],
   "source": [
    "grouped_pok_no_tot = grouped_pok.drop(columns=['Total', 'Has_type_2'])\n",
    "\n",
    "# Calculate the mean of each column in grouped_pok_no_tot, grouped by Has_type_2\n",
    "means_by_type2 = df_pok.groupby('Has_type_2')[grouped_pok_no_tot.columns].mean().T\n",
    "means_by_type2.columns = ['No', 'Yes']\n",
    "\n",
    "# Plot the means as a grouped bar chart (histogram style)\n",
    "means_by_type2.plot(\n",
    "    kind='bar',\n",
    "    figsize=(18, 12),\n",
    "    color=['#66c2a5', '#fc8d62']\n",
    ")\n",
    "plt.title('Mean of Each Stat that has Type 2', fontsize=29)\n",
    "plt.xlabel('Stat', fontsize=24)\n",
    "plt.ylabel('Mean Value', fontsize=24)\n",
    "plt.xticks(rotation=45, fontsize=24)\n",
    "plt.yticks(fontsize=22)\n",
    "plt.legend(title='Has Type 2', fontsize=22, title_fontsize=22)\n",
    "plt.tight_layout()\n",
    "plt.show()\n",
    "# Summary: The grouped bar chart compares the mean values of each stat for Pokemons with and without a secondary type (Type 2).\n",
    "# Pokemons with a Type 2 ability (\"Yes\") have higher mean values across all stats compared to those without (\"No\").\n",
    "# The largest differences are observed in Attack and Defense, suggesting that dual-type Pokemons tend to be stronger overall.\n",
    "# This supports the idea that having a secondary type may provide not only more versatility but also generally better base stats.\n"
   ]
  },
  {
   "cell_type": "markdown",
   "id": "f0c1cf27",
   "metadata": {},
   "source": [
    "## Preparing tables for Left Join"
   ]
  },
  {
   "cell_type": "code",
   "execution_count": 107,
   "id": "90b1acf7",
   "metadata": {},
   "outputs": [
    {
     "data": {
      "text/html": [
       "<div>\n",
       "<style scoped>\n",
       "    .dataframe tbody tr th:only-of-type {\n",
       "        vertical-align: middle;\n",
       "    }\n",
       "\n",
       "    .dataframe tbody tr th {\n",
       "        vertical-align: top;\n",
       "    }\n",
       "\n",
       "    .dataframe thead th {\n",
       "        text-align: right;\n",
       "    }\n",
       "</style>\n",
       "<table border=\"1\" class=\"dataframe\">\n",
       "  <thead>\n",
       "    <tr style=\"text-align: right;\">\n",
       "      <th></th>\n",
       "      <th>Name</th>\n",
       "      <th>Type_1</th>\n",
       "      <th>Type_2</th>\n",
       "      <th>Total</th>\n",
       "      <th>Hit_points</th>\n",
       "      <th>Attack</th>\n",
       "      <th>Defense</th>\n",
       "      <th>Special_attack</th>\n",
       "      <th>Special_defense</th>\n",
       "      <th>Speed</th>\n",
       "      <th>Has_type_2</th>\n",
       "      <th>Mean_Stats</th>\n",
       "      <th>id</th>\n",
       "    </tr>\n",
       "  </thead>\n",
       "  <tbody>\n",
       "    <tr>\n",
       "      <th>0</th>\n",
       "      <td>Bulbasaur</td>\n",
       "      <td>Grass</td>\n",
       "      <td>Poison</td>\n",
       "      <td>318</td>\n",
       "      <td>45</td>\n",
       "      <td>49</td>\n",
       "      <td>49</td>\n",
       "      <td>65</td>\n",
       "      <td>65</td>\n",
       "      <td>45</td>\n",
       "      <td>True</td>\n",
       "      <td>45.571429</td>\n",
       "      <td>1</td>\n",
       "    </tr>\n",
       "    <tr>\n",
       "      <th>1</th>\n",
       "      <td>Ivysaur</td>\n",
       "      <td>Grass</td>\n",
       "      <td>Poison</td>\n",
       "      <td>405</td>\n",
       "      <td>60</td>\n",
       "      <td>62</td>\n",
       "      <td>63</td>\n",
       "      <td>80</td>\n",
       "      <td>80</td>\n",
       "      <td>60</td>\n",
       "      <td>True</td>\n",
       "      <td>58.0</td>\n",
       "      <td>2</td>\n",
       "    </tr>\n",
       "    <tr>\n",
       "      <th>2</th>\n",
       "      <td>Venusaur</td>\n",
       "      <td>Grass</td>\n",
       "      <td>Poison</td>\n",
       "      <td>525</td>\n",
       "      <td>80</td>\n",
       "      <td>82</td>\n",
       "      <td>83</td>\n",
       "      <td>100</td>\n",
       "      <td>100</td>\n",
       "      <td>80</td>\n",
       "      <td>True</td>\n",
       "      <td>75.142857</td>\n",
       "      <td>3</td>\n",
       "    </tr>\n",
       "    <tr>\n",
       "      <th>3</th>\n",
       "      <td>VenusaurMega Venusaur</td>\n",
       "      <td>Grass</td>\n",
       "      <td>Poison</td>\n",
       "      <td>625</td>\n",
       "      <td>80</td>\n",
       "      <td>100</td>\n",
       "      <td>123</td>\n",
       "      <td>122</td>\n",
       "      <td>120</td>\n",
       "      <td>80</td>\n",
       "      <td>True</td>\n",
       "      <td>89.428571</td>\n",
       "      <td>4</td>\n",
       "    </tr>\n",
       "    <tr>\n",
       "      <th>4</th>\n",
       "      <td>Charmander</td>\n",
       "      <td>Fire</td>\n",
       "      <td>NaN</td>\n",
       "      <td>309</td>\n",
       "      <td>39</td>\n",
       "      <td>52</td>\n",
       "      <td>43</td>\n",
       "      <td>60</td>\n",
       "      <td>50</td>\n",
       "      <td>65</td>\n",
       "      <td>False</td>\n",
       "      <td>44.142857</td>\n",
       "      <td>5</td>\n",
       "    </tr>\n",
       "    <tr>\n",
       "      <th>...</th>\n",
       "      <td>...</td>\n",
       "      <td>...</td>\n",
       "      <td>...</td>\n",
       "      <td>...</td>\n",
       "      <td>...</td>\n",
       "      <td>...</td>\n",
       "      <td>...</td>\n",
       "      <td>...</td>\n",
       "      <td>...</td>\n",
       "      <td>...</td>\n",
       "      <td>...</td>\n",
       "      <td>...</td>\n",
       "      <td>...</td>\n",
       "    </tr>\n",
       "    <tr>\n",
       "      <th>795</th>\n",
       "      <td>Diancie</td>\n",
       "      <td>Rock</td>\n",
       "      <td>Fairy</td>\n",
       "      <td>600</td>\n",
       "      <td>50</td>\n",
       "      <td>100</td>\n",
       "      <td>150</td>\n",
       "      <td>100</td>\n",
       "      <td>150</td>\n",
       "      <td>50</td>\n",
       "      <td>True</td>\n",
       "      <td>85.857143</td>\n",
       "      <td>796</td>\n",
       "    </tr>\n",
       "    <tr>\n",
       "      <th>796</th>\n",
       "      <td>DiancieMega Diancie</td>\n",
       "      <td>Rock</td>\n",
       "      <td>Fairy</td>\n",
       "      <td>700</td>\n",
       "      <td>50</td>\n",
       "      <td>160</td>\n",
       "      <td>110</td>\n",
       "      <td>160</td>\n",
       "      <td>110</td>\n",
       "      <td>110</td>\n",
       "      <td>True</td>\n",
       "      <td>100.142857</td>\n",
       "      <td>797</td>\n",
       "    </tr>\n",
       "    <tr>\n",
       "      <th>797</th>\n",
       "      <td>HoopaHoopa Confined</td>\n",
       "      <td>Psychic</td>\n",
       "      <td>Ghost</td>\n",
       "      <td>600</td>\n",
       "      <td>80</td>\n",
       "      <td>110</td>\n",
       "      <td>60</td>\n",
       "      <td>150</td>\n",
       "      <td>130</td>\n",
       "      <td>70</td>\n",
       "      <td>True</td>\n",
       "      <td>85.857143</td>\n",
       "      <td>798</td>\n",
       "    </tr>\n",
       "    <tr>\n",
       "      <th>798</th>\n",
       "      <td>HoopaHoopa Unbound</td>\n",
       "      <td>Psychic</td>\n",
       "      <td>Dark</td>\n",
       "      <td>680</td>\n",
       "      <td>80</td>\n",
       "      <td>160</td>\n",
       "      <td>60</td>\n",
       "      <td>170</td>\n",
       "      <td>130</td>\n",
       "      <td>80</td>\n",
       "      <td>True</td>\n",
       "      <td>97.285714</td>\n",
       "      <td>799</td>\n",
       "    </tr>\n",
       "    <tr>\n",
       "      <th>799</th>\n",
       "      <td>Volcanion</td>\n",
       "      <td>Fire</td>\n",
       "      <td>Water</td>\n",
       "      <td>600</td>\n",
       "      <td>80</td>\n",
       "      <td>110</td>\n",
       "      <td>120</td>\n",
       "      <td>130</td>\n",
       "      <td>90</td>\n",
       "      <td>70</td>\n",
       "      <td>True</td>\n",
       "      <td>85.857143</td>\n",
       "      <td>800</td>\n",
       "    </tr>\n",
       "  </tbody>\n",
       "</table>\n",
       "<p>800 rows × 13 columns</p>\n",
       "</div>"
      ],
      "text/plain": [
       "                      Name   Type_1  Type_2  Total  Hit_points  Attack  \\\n",
       "0                Bulbasaur    Grass  Poison    318          45      49   \n",
       "1                  Ivysaur    Grass  Poison    405          60      62   \n",
       "2                 Venusaur    Grass  Poison    525          80      82   \n",
       "3    VenusaurMega Venusaur    Grass  Poison    625          80     100   \n",
       "4               Charmander     Fire     NaN    309          39      52   \n",
       "..                     ...      ...     ...    ...         ...     ...   \n",
       "795                Diancie     Rock   Fairy    600          50     100   \n",
       "796    DiancieMega Diancie     Rock   Fairy    700          50     160   \n",
       "797    HoopaHoopa Confined  Psychic   Ghost    600          80     110   \n",
       "798     HoopaHoopa Unbound  Psychic    Dark    680          80     160   \n",
       "799              Volcanion     Fire   Water    600          80     110   \n",
       "\n",
       "     Defense  Special_attack  Special_defense  Speed  Has_type_2  Mean_Stats  \\\n",
       "0         49              65               65     45        True   45.571429   \n",
       "1         63              80               80     60        True        58.0   \n",
       "2         83             100              100     80        True   75.142857   \n",
       "3        123             122              120     80        True   89.428571   \n",
       "4         43              60               50     65       False   44.142857   \n",
       "..       ...             ...              ...    ...         ...         ...   \n",
       "795      150             100              150     50        True   85.857143   \n",
       "796      110             160              110    110        True  100.142857   \n",
       "797       60             150              130     70        True   85.857143   \n",
       "798       60             170              130     80        True   97.285714   \n",
       "799      120             130               90     70        True   85.857143   \n",
       "\n",
       "      id  \n",
       "0      1  \n",
       "1      2  \n",
       "2      3  \n",
       "3      4  \n",
       "4      5  \n",
       "..   ...  \n",
       "795  796  \n",
       "796  797  \n",
       "797  798  \n",
       "798  799  \n",
       "799  800  \n",
       "\n",
       "[800 rows x 13 columns]"
      ]
     },
     "execution_count": 107,
     "metadata": {},
     "output_type": "execute_result"
    }
   ],
   "source": [
    "# To make more sense of the comboats dataset, we need to join the tables\n",
    "# Add a new column called 'id' starting at 1 and ending at the last row number\n",
    "df_pok['id'] = range(1, len(df_pok) + 1)\n",
    "df_pok"
   ]
  },
  {
   "cell_type": "code",
   "execution_count": null,
   "id": "f8e6ef77",
   "metadata": {},
   "outputs": [
    {
     "data": {
      "text/html": [
       "<div>\n",
       "<style scoped>\n",
       "    .dataframe tbody tr th:only-of-type {\n",
       "        vertical-align: middle;\n",
       "    }\n",
       "\n",
       "    .dataframe tbody tr th {\n",
       "        vertical-align: top;\n",
       "    }\n",
       "\n",
       "    .dataframe thead th {\n",
       "        text-align: right;\n",
       "    }\n",
       "</style>\n",
       "<table border=\"1\" class=\"dataframe\">\n",
       "  <thead>\n",
       "    <tr style=\"text-align: right;\">\n",
       "      <th></th>\n",
       "      <th>id</th>\n",
       "      <th>Name</th>\n",
       "      <th>Type_1</th>\n",
       "      <th>Total</th>\n",
       "      <th>Hit_points</th>\n",
       "      <th>Attack</th>\n",
       "      <th>Defense</th>\n",
       "      <th>Special_attack</th>\n",
       "      <th>Special_defense</th>\n",
       "      <th>Speed</th>\n",
       "    </tr>\n",
       "  </thead>\n",
       "  <tbody>\n",
       "    <tr>\n",
       "      <th>0</th>\n",
       "      <td>1</td>\n",
       "      <td>Bulbasaur</td>\n",
       "      <td>Grass</td>\n",
       "      <td>318</td>\n",
       "      <td>45</td>\n",
       "      <td>49</td>\n",
       "      <td>49</td>\n",
       "      <td>65</td>\n",
       "      <td>65</td>\n",
       "      <td>45</td>\n",
       "    </tr>\n",
       "    <tr>\n",
       "      <th>1</th>\n",
       "      <td>2</td>\n",
       "      <td>Ivysaur</td>\n",
       "      <td>Grass</td>\n",
       "      <td>405</td>\n",
       "      <td>60</td>\n",
       "      <td>62</td>\n",
       "      <td>63</td>\n",
       "      <td>80</td>\n",
       "      <td>80</td>\n",
       "      <td>60</td>\n",
       "    </tr>\n",
       "    <tr>\n",
       "      <th>2</th>\n",
       "      <td>3</td>\n",
       "      <td>Venusaur</td>\n",
       "      <td>Grass</td>\n",
       "      <td>525</td>\n",
       "      <td>80</td>\n",
       "      <td>82</td>\n",
       "      <td>83</td>\n",
       "      <td>100</td>\n",
       "      <td>100</td>\n",
       "      <td>80</td>\n",
       "    </tr>\n",
       "    <tr>\n",
       "      <th>3</th>\n",
       "      <td>4</td>\n",
       "      <td>VenusaurMega Venusaur</td>\n",
       "      <td>Grass</td>\n",
       "      <td>625</td>\n",
       "      <td>80</td>\n",
       "      <td>100</td>\n",
       "      <td>123</td>\n",
       "      <td>122</td>\n",
       "      <td>120</td>\n",
       "      <td>80</td>\n",
       "    </tr>\n",
       "    <tr>\n",
       "      <th>4</th>\n",
       "      <td>5</td>\n",
       "      <td>Charmander</td>\n",
       "      <td>Fire</td>\n",
       "      <td>309</td>\n",
       "      <td>39</td>\n",
       "      <td>52</td>\n",
       "      <td>43</td>\n",
       "      <td>60</td>\n",
       "      <td>50</td>\n",
       "      <td>65</td>\n",
       "    </tr>\n",
       "    <tr>\n",
       "      <th>...</th>\n",
       "      <td>...</td>\n",
       "      <td>...</td>\n",
       "      <td>...</td>\n",
       "      <td>...</td>\n",
       "      <td>...</td>\n",
       "      <td>...</td>\n",
       "      <td>...</td>\n",
       "      <td>...</td>\n",
       "      <td>...</td>\n",
       "      <td>...</td>\n",
       "    </tr>\n",
       "    <tr>\n",
       "      <th>795</th>\n",
       "      <td>796</td>\n",
       "      <td>Diancie</td>\n",
       "      <td>Rock</td>\n",
       "      <td>600</td>\n",
       "      <td>50</td>\n",
       "      <td>100</td>\n",
       "      <td>150</td>\n",
       "      <td>100</td>\n",
       "      <td>150</td>\n",
       "      <td>50</td>\n",
       "    </tr>\n",
       "    <tr>\n",
       "      <th>796</th>\n",
       "      <td>797</td>\n",
       "      <td>DiancieMega Diancie</td>\n",
       "      <td>Rock</td>\n",
       "      <td>700</td>\n",
       "      <td>50</td>\n",
       "      <td>160</td>\n",
       "      <td>110</td>\n",
       "      <td>160</td>\n",
       "      <td>110</td>\n",
       "      <td>110</td>\n",
       "    </tr>\n",
       "    <tr>\n",
       "      <th>797</th>\n",
       "      <td>798</td>\n",
       "      <td>HoopaHoopa Confined</td>\n",
       "      <td>Psychic</td>\n",
       "      <td>600</td>\n",
       "      <td>80</td>\n",
       "      <td>110</td>\n",
       "      <td>60</td>\n",
       "      <td>150</td>\n",
       "      <td>130</td>\n",
       "      <td>70</td>\n",
       "    </tr>\n",
       "    <tr>\n",
       "      <th>798</th>\n",
       "      <td>799</td>\n",
       "      <td>HoopaHoopa Unbound</td>\n",
       "      <td>Psychic</td>\n",
       "      <td>680</td>\n",
       "      <td>80</td>\n",
       "      <td>160</td>\n",
       "      <td>60</td>\n",
       "      <td>170</td>\n",
       "      <td>130</td>\n",
       "      <td>80</td>\n",
       "    </tr>\n",
       "    <tr>\n",
       "      <th>799</th>\n",
       "      <td>800</td>\n",
       "      <td>Volcanion</td>\n",
       "      <td>Fire</td>\n",
       "      <td>600</td>\n",
       "      <td>80</td>\n",
       "      <td>110</td>\n",
       "      <td>120</td>\n",
       "      <td>130</td>\n",
       "      <td>90</td>\n",
       "      <td>70</td>\n",
       "    </tr>\n",
       "  </tbody>\n",
       "</table>\n",
       "<p>800 rows × 10 columns</p>\n",
       "</div>"
      ],
      "text/plain": [
       "      id                   Name   Type_1  Total  Hit_points  Attack  Defense  \\\n",
       "0      1              Bulbasaur    Grass    318          45      49       49   \n",
       "1      2                Ivysaur    Grass    405          60      62       63   \n",
       "2      3               Venusaur    Grass    525          80      82       83   \n",
       "3      4  VenusaurMega Venusaur    Grass    625          80     100      123   \n",
       "4      5             Charmander     Fire    309          39      52       43   \n",
       "..   ...                    ...      ...    ...         ...     ...      ...   \n",
       "795  796                Diancie     Rock    600          50     100      150   \n",
       "796  797    DiancieMega Diancie     Rock    700          50     160      110   \n",
       "797  798    HoopaHoopa Confined  Psychic    600          80     110       60   \n",
       "798  799     HoopaHoopa Unbound  Psychic    680          80     160       60   \n",
       "799  800              Volcanion     Fire    600          80     110      120   \n",
       "\n",
       "     Special_attack  Special_defense  Speed  \n",
       "0                65               65     45  \n",
       "1                80               80     60  \n",
       "2               100              100     80  \n",
       "3               122              120     80  \n",
       "4                60               50     65  \n",
       "..              ...              ...    ...  \n",
       "795             100              150     50  \n",
       "796             160              110    110  \n",
       "797             150              130     70  \n",
       "798             170              130     80  \n",
       "799             130               90     70  \n",
       "\n",
       "[800 rows x 10 columns]"
      ]
     },
     "execution_count": 108,
     "metadata": {},
     "output_type": "execute_result"
    }
   ],
   "source": [
    "df_pok_char = df_pok[['id', 'Name', 'Type_1', 'Total', 'Hit_points', 'Attack', 'Defense', 'Special_attack', 'Special_defense', 'Speed']]\n",
    "df_pok_char\n",
    "\n",
    "#preparing table just using type 1's characteristics with no Type 2, this is done to prepare the table when merging with first pokemon and second pokemon of combats table"
   ]
  },
  {
   "cell_type": "code",
   "execution_count": null,
   "id": "c8018bf0",
   "metadata": {},
   "outputs": [
    {
     "data": {
      "text/html": [
       "<div>\n",
       "<style scoped>\n",
       "    .dataframe tbody tr th:only-of-type {\n",
       "        vertical-align: middle;\n",
       "    }\n",
       "\n",
       "    .dataframe tbody tr th {\n",
       "        vertical-align: top;\n",
       "    }\n",
       "\n",
       "    .dataframe thead th {\n",
       "        text-align: right;\n",
       "    }\n",
       "</style>\n",
       "<table border=\"1\" class=\"dataframe\">\n",
       "  <thead>\n",
       "    <tr style=\"text-align: right;\">\n",
       "      <th></th>\n",
       "      <th>First_pokemon</th>\n",
       "      <th>Second_pokemon</th>\n",
       "      <th>Winner</th>\n",
       "      <th>id</th>\n",
       "      <th>Name</th>\n",
       "      <th>Type_1</th>\n",
       "      <th>Total</th>\n",
       "      <th>Hit_points</th>\n",
       "      <th>Attack</th>\n",
       "      <th>Defense</th>\n",
       "      <th>Special_attack</th>\n",
       "      <th>Special_defense</th>\n",
       "      <th>Speed</th>\n",
       "    </tr>\n",
       "  </thead>\n",
       "  <tbody>\n",
       "    <tr>\n",
       "      <th>0</th>\n",
       "      <td>266</td>\n",
       "      <td>298</td>\n",
       "      <td>298</td>\n",
       "      <td>266</td>\n",
       "      <td>Larvitar</td>\n",
       "      <td>Rock</td>\n",
       "      <td>300</td>\n",
       "      <td>50</td>\n",
       "      <td>64</td>\n",
       "      <td>50</td>\n",
       "      <td>45</td>\n",
       "      <td>50</td>\n",
       "      <td>41</td>\n",
       "    </tr>\n",
       "    <tr>\n",
       "      <th>1</th>\n",
       "      <td>702</td>\n",
       "      <td>701</td>\n",
       "      <td>701</td>\n",
       "      <td>702</td>\n",
       "      <td>Virizion</td>\n",
       "      <td>Grass</td>\n",
       "      <td>580</td>\n",
       "      <td>91</td>\n",
       "      <td>90</td>\n",
       "      <td>72</td>\n",
       "      <td>90</td>\n",
       "      <td>129</td>\n",
       "      <td>108</td>\n",
       "    </tr>\n",
       "    <tr>\n",
       "      <th>2</th>\n",
       "      <td>191</td>\n",
       "      <td>668</td>\n",
       "      <td>668</td>\n",
       "      <td>191</td>\n",
       "      <td>Togetic</td>\n",
       "      <td>Fairy</td>\n",
       "      <td>405</td>\n",
       "      <td>55</td>\n",
       "      <td>40</td>\n",
       "      <td>85</td>\n",
       "      <td>80</td>\n",
       "      <td>105</td>\n",
       "      <td>40</td>\n",
       "    </tr>\n",
       "    <tr>\n",
       "      <th>3</th>\n",
       "      <td>237</td>\n",
       "      <td>683</td>\n",
       "      <td>683</td>\n",
       "      <td>237</td>\n",
       "      <td>Slugma</td>\n",
       "      <td>Fire</td>\n",
       "      <td>250</td>\n",
       "      <td>40</td>\n",
       "      <td>40</td>\n",
       "      <td>40</td>\n",
       "      <td>70</td>\n",
       "      <td>40</td>\n",
       "      <td>20</td>\n",
       "    </tr>\n",
       "    <tr>\n",
       "      <th>4</th>\n",
       "      <td>151</td>\n",
       "      <td>231</td>\n",
       "      <td>151</td>\n",
       "      <td>151</td>\n",
       "      <td>Omastar</td>\n",
       "      <td>Rock</td>\n",
       "      <td>495</td>\n",
       "      <td>70</td>\n",
       "      <td>60</td>\n",
       "      <td>125</td>\n",
       "      <td>115</td>\n",
       "      <td>70</td>\n",
       "      <td>55</td>\n",
       "    </tr>\n",
       "    <tr>\n",
       "      <th>...</th>\n",
       "      <td>...</td>\n",
       "      <td>...</td>\n",
       "      <td>...</td>\n",
       "      <td>...</td>\n",
       "      <td>...</td>\n",
       "      <td>...</td>\n",
       "      <td>...</td>\n",
       "      <td>...</td>\n",
       "      <td>...</td>\n",
       "      <td>...</td>\n",
       "      <td>...</td>\n",
       "      <td>...</td>\n",
       "      <td>...</td>\n",
       "    </tr>\n",
       "    <tr>\n",
       "      <th>48043</th>\n",
       "      <td>657</td>\n",
       "      <td>681</td>\n",
       "      <td>681</td>\n",
       "      <td>657</td>\n",
       "      <td>Joltik</td>\n",
       "      <td>Bug</td>\n",
       "      <td>319</td>\n",
       "      <td>50</td>\n",
       "      <td>47</td>\n",
       "      <td>50</td>\n",
       "      <td>57</td>\n",
       "      <td>50</td>\n",
       "      <td>65</td>\n",
       "    </tr>\n",
       "    <tr>\n",
       "      <th>48044</th>\n",
       "      <td>707</td>\n",
       "      <td>126</td>\n",
       "      <td>707</td>\n",
       "      <td>707</td>\n",
       "      <td>Reshiram</td>\n",
       "      <td>Dragon</td>\n",
       "      <td>680</td>\n",
       "      <td>100</td>\n",
       "      <td>120</td>\n",
       "      <td>100</td>\n",
       "      <td>150</td>\n",
       "      <td>120</td>\n",
       "      <td>90</td>\n",
       "    </tr>\n",
       "    <tr>\n",
       "      <th>48045</th>\n",
       "      <td>589</td>\n",
       "      <td>664</td>\n",
       "      <td>589</td>\n",
       "      <td>589</td>\n",
       "      <td>Drilbur</td>\n",
       "      <td>Ground</td>\n",
       "      <td>328</td>\n",
       "      <td>60</td>\n",
       "      <td>85</td>\n",
       "      <td>40</td>\n",
       "      <td>30</td>\n",
       "      <td>45</td>\n",
       "      <td>68</td>\n",
       "    </tr>\n",
       "    <tr>\n",
       "      <th>48046</th>\n",
       "      <td>109</td>\n",
       "      <td>89</td>\n",
       "      <td>109</td>\n",
       "      <td>109</td>\n",
       "      <td>Voltorb</td>\n",
       "      <td>Electric</td>\n",
       "      <td>330</td>\n",
       "      <td>40</td>\n",
       "      <td>30</td>\n",
       "      <td>50</td>\n",
       "      <td>55</td>\n",
       "      <td>55</td>\n",
       "      <td>100</td>\n",
       "    </tr>\n",
       "    <tr>\n",
       "      <th>48047</th>\n",
       "      <td>9</td>\n",
       "      <td>73</td>\n",
       "      <td>9</td>\n",
       "      <td>9</td>\n",
       "      <td>CharizardMega Charizard Y</td>\n",
       "      <td>Fire</td>\n",
       "      <td>634</td>\n",
       "      <td>78</td>\n",
       "      <td>104</td>\n",
       "      <td>78</td>\n",
       "      <td>159</td>\n",
       "      <td>115</td>\n",
       "      <td>100</td>\n",
       "    </tr>\n",
       "  </tbody>\n",
       "</table>\n",
       "<p>48048 rows × 13 columns</p>\n",
       "</div>"
      ],
      "text/plain": [
       "       First_pokemon  Second_pokemon  Winner   id                       Name  \\\n",
       "0                266             298     298  266                   Larvitar   \n",
       "1                702             701     701  702                   Virizion   \n",
       "2                191             668     668  191                    Togetic   \n",
       "3                237             683     683  237                     Slugma   \n",
       "4                151             231     151  151                    Omastar   \n",
       "...              ...             ...     ...  ...                        ...   \n",
       "48043            657             681     681  657                     Joltik   \n",
       "48044            707             126     707  707                   Reshiram   \n",
       "48045            589             664     589  589                    Drilbur   \n",
       "48046            109              89     109  109                    Voltorb   \n",
       "48047              9              73       9    9  CharizardMega Charizard Y   \n",
       "\n",
       "         Type_1  Total  Hit_points  Attack  Defense  Special_attack  \\\n",
       "0          Rock    300          50      64       50              45   \n",
       "1         Grass    580          91      90       72              90   \n",
       "2         Fairy    405          55      40       85              80   \n",
       "3          Fire    250          40      40       40              70   \n",
       "4          Rock    495          70      60      125             115   \n",
       "...         ...    ...         ...     ...      ...             ...   \n",
       "48043       Bug    319          50      47       50              57   \n",
       "48044    Dragon    680         100     120      100             150   \n",
       "48045    Ground    328          60      85       40              30   \n",
       "48046  Electric    330          40      30       50              55   \n",
       "48047      Fire    634          78     104       78             159   \n",
       "\n",
       "       Special_defense  Speed  \n",
       "0                   50     41  \n",
       "1                  129    108  \n",
       "2                  105     40  \n",
       "3                   40     20  \n",
       "4                   70     55  \n",
       "...                ...    ...  \n",
       "48043               50     65  \n",
       "48044              120     90  \n",
       "48045               45     68  \n",
       "48046               55    100  \n",
       "48047              115    100  \n",
       "\n",
       "[48048 rows x 13 columns]"
      ]
     },
     "execution_count": 109,
     "metadata": {},
     "output_type": "execute_result"
    }
   ],
   "source": [
    "# Perform a left join between the combats dataset and the selected Pokemon characteristics\n",
    "# This merges the characteristics of the first Pokemon in each combat into the combats dataframe\n",
    "df_joined_type1 = df_com.merge(df_pok_char, left_on='First_pokemon', right_on='id', how='left')\n",
    "df_joined_type1"
   ]
  },
  {
   "cell_type": "code",
   "execution_count": 110,
   "id": "42fbd510",
   "metadata": {},
   "outputs": [
    {
     "data": {
      "text/html": [
       "<div>\n",
       "<style scoped>\n",
       "    .dataframe tbody tr th:only-of-type {\n",
       "        vertical-align: middle;\n",
       "    }\n",
       "\n",
       "    .dataframe tbody tr th {\n",
       "        vertical-align: top;\n",
       "    }\n",
       "\n",
       "    .dataframe thead th {\n",
       "        text-align: right;\n",
       "    }\n",
       "</style>\n",
       "<table border=\"1\" class=\"dataframe\">\n",
       "  <thead>\n",
       "    <tr style=\"text-align: right;\">\n",
       "      <th></th>\n",
       "      <th>First_pokemon</th>\n",
       "      <th>Second_pokemon</th>\n",
       "      <th>Winner</th>\n",
       "      <th>id</th>\n",
       "      <th>First_Name</th>\n",
       "      <th>First_Type_1</th>\n",
       "      <th>First_Total</th>\n",
       "      <th>First_Hit_points</th>\n",
       "      <th>First_Attack</th>\n",
       "      <th>First_Defense</th>\n",
       "      <th>First_Special_attack</th>\n",
       "      <th>First_Special_defense</th>\n",
       "      <th>First_Speed</th>\n",
       "    </tr>\n",
       "  </thead>\n",
       "  <tbody>\n",
       "    <tr>\n",
       "      <th>0</th>\n",
       "      <td>266</td>\n",
       "      <td>298</td>\n",
       "      <td>298</td>\n",
       "      <td>266</td>\n",
       "      <td>Larvitar</td>\n",
       "      <td>Rock</td>\n",
       "      <td>300</td>\n",
       "      <td>50</td>\n",
       "      <td>64</td>\n",
       "      <td>50</td>\n",
       "      <td>45</td>\n",
       "      <td>50</td>\n",
       "      <td>41</td>\n",
       "    </tr>\n",
       "    <tr>\n",
       "      <th>1</th>\n",
       "      <td>702</td>\n",
       "      <td>701</td>\n",
       "      <td>701</td>\n",
       "      <td>702</td>\n",
       "      <td>Virizion</td>\n",
       "      <td>Grass</td>\n",
       "      <td>580</td>\n",
       "      <td>91</td>\n",
       "      <td>90</td>\n",
       "      <td>72</td>\n",
       "      <td>90</td>\n",
       "      <td>129</td>\n",
       "      <td>108</td>\n",
       "    </tr>\n",
       "    <tr>\n",
       "      <th>2</th>\n",
       "      <td>191</td>\n",
       "      <td>668</td>\n",
       "      <td>668</td>\n",
       "      <td>191</td>\n",
       "      <td>Togetic</td>\n",
       "      <td>Fairy</td>\n",
       "      <td>405</td>\n",
       "      <td>55</td>\n",
       "      <td>40</td>\n",
       "      <td>85</td>\n",
       "      <td>80</td>\n",
       "      <td>105</td>\n",
       "      <td>40</td>\n",
       "    </tr>\n",
       "    <tr>\n",
       "      <th>3</th>\n",
       "      <td>237</td>\n",
       "      <td>683</td>\n",
       "      <td>683</td>\n",
       "      <td>237</td>\n",
       "      <td>Slugma</td>\n",
       "      <td>Fire</td>\n",
       "      <td>250</td>\n",
       "      <td>40</td>\n",
       "      <td>40</td>\n",
       "      <td>40</td>\n",
       "      <td>70</td>\n",
       "      <td>40</td>\n",
       "      <td>20</td>\n",
       "    </tr>\n",
       "    <tr>\n",
       "      <th>4</th>\n",
       "      <td>151</td>\n",
       "      <td>231</td>\n",
       "      <td>151</td>\n",
       "      <td>151</td>\n",
       "      <td>Omastar</td>\n",
       "      <td>Rock</td>\n",
       "      <td>495</td>\n",
       "      <td>70</td>\n",
       "      <td>60</td>\n",
       "      <td>125</td>\n",
       "      <td>115</td>\n",
       "      <td>70</td>\n",
       "      <td>55</td>\n",
       "    </tr>\n",
       "    <tr>\n",
       "      <th>...</th>\n",
       "      <td>...</td>\n",
       "      <td>...</td>\n",
       "      <td>...</td>\n",
       "      <td>...</td>\n",
       "      <td>...</td>\n",
       "      <td>...</td>\n",
       "      <td>...</td>\n",
       "      <td>...</td>\n",
       "      <td>...</td>\n",
       "      <td>...</td>\n",
       "      <td>...</td>\n",
       "      <td>...</td>\n",
       "      <td>...</td>\n",
       "    </tr>\n",
       "    <tr>\n",
       "      <th>48043</th>\n",
       "      <td>657</td>\n",
       "      <td>681</td>\n",
       "      <td>681</td>\n",
       "      <td>657</td>\n",
       "      <td>Joltik</td>\n",
       "      <td>Bug</td>\n",
       "      <td>319</td>\n",
       "      <td>50</td>\n",
       "      <td>47</td>\n",
       "      <td>50</td>\n",
       "      <td>57</td>\n",
       "      <td>50</td>\n",
       "      <td>65</td>\n",
       "    </tr>\n",
       "    <tr>\n",
       "      <th>48044</th>\n",
       "      <td>707</td>\n",
       "      <td>126</td>\n",
       "      <td>707</td>\n",
       "      <td>707</td>\n",
       "      <td>Reshiram</td>\n",
       "      <td>Dragon</td>\n",
       "      <td>680</td>\n",
       "      <td>100</td>\n",
       "      <td>120</td>\n",
       "      <td>100</td>\n",
       "      <td>150</td>\n",
       "      <td>120</td>\n",
       "      <td>90</td>\n",
       "    </tr>\n",
       "    <tr>\n",
       "      <th>48045</th>\n",
       "      <td>589</td>\n",
       "      <td>664</td>\n",
       "      <td>589</td>\n",
       "      <td>589</td>\n",
       "      <td>Drilbur</td>\n",
       "      <td>Ground</td>\n",
       "      <td>328</td>\n",
       "      <td>60</td>\n",
       "      <td>85</td>\n",
       "      <td>40</td>\n",
       "      <td>30</td>\n",
       "      <td>45</td>\n",
       "      <td>68</td>\n",
       "    </tr>\n",
       "    <tr>\n",
       "      <th>48046</th>\n",
       "      <td>109</td>\n",
       "      <td>89</td>\n",
       "      <td>109</td>\n",
       "      <td>109</td>\n",
       "      <td>Voltorb</td>\n",
       "      <td>Electric</td>\n",
       "      <td>330</td>\n",
       "      <td>40</td>\n",
       "      <td>30</td>\n",
       "      <td>50</td>\n",
       "      <td>55</td>\n",
       "      <td>55</td>\n",
       "      <td>100</td>\n",
       "    </tr>\n",
       "    <tr>\n",
       "      <th>48047</th>\n",
       "      <td>9</td>\n",
       "      <td>73</td>\n",
       "      <td>9</td>\n",
       "      <td>9</td>\n",
       "      <td>CharizardMega Charizard Y</td>\n",
       "      <td>Fire</td>\n",
       "      <td>634</td>\n",
       "      <td>78</td>\n",
       "      <td>104</td>\n",
       "      <td>78</td>\n",
       "      <td>159</td>\n",
       "      <td>115</td>\n",
       "      <td>100</td>\n",
       "    </tr>\n",
       "  </tbody>\n",
       "</table>\n",
       "<p>48048 rows × 13 columns</p>\n",
       "</div>"
      ],
      "text/plain": [
       "       First_pokemon  Second_pokemon  Winner   id                 First_Name  \\\n",
       "0                266             298     298  266                   Larvitar   \n",
       "1                702             701     701  702                   Virizion   \n",
       "2                191             668     668  191                    Togetic   \n",
       "3                237             683     683  237                     Slugma   \n",
       "4                151             231     151  151                    Omastar   \n",
       "...              ...             ...     ...  ...                        ...   \n",
       "48043            657             681     681  657                     Joltik   \n",
       "48044            707             126     707  707                   Reshiram   \n",
       "48045            589             664     589  589                    Drilbur   \n",
       "48046            109              89     109  109                    Voltorb   \n",
       "48047              9              73       9    9  CharizardMega Charizard Y   \n",
       "\n",
       "      First_Type_1  First_Total  First_Hit_points  First_Attack  \\\n",
       "0             Rock          300                50            64   \n",
       "1            Grass          580                91            90   \n",
       "2            Fairy          405                55            40   \n",
       "3             Fire          250                40            40   \n",
       "4             Rock          495                70            60   \n",
       "...            ...          ...               ...           ...   \n",
       "48043          Bug          319                50            47   \n",
       "48044       Dragon          680               100           120   \n",
       "48045       Ground          328                60            85   \n",
       "48046     Electric          330                40            30   \n",
       "48047         Fire          634                78           104   \n",
       "\n",
       "       First_Defense  First_Special_attack  First_Special_defense  First_Speed  \n",
       "0                 50                    45                     50           41  \n",
       "1                 72                    90                    129          108  \n",
       "2                 85                    80                    105           40  \n",
       "3                 40                    70                     40           20  \n",
       "4                125                   115                     70           55  \n",
       "...              ...                   ...                    ...          ...  \n",
       "48043             50                    57                     50           65  \n",
       "48044            100                   150                    120           90  \n",
       "48045             40                    30                     45           68  \n",
       "48046             50                    55                     55          100  \n",
       "48047             78                   159                    115          100  \n",
       "\n",
       "[48048 rows x 13 columns]"
      ]
     },
     "execution_count": 110,
     "metadata": {},
     "output_type": "execute_result"
    }
   ],
   "source": [
    "df_joined_type1 = df_joined_type1.rename(columns={\n",
    "    'Name': 'First_Name',\n",
    "    'Type_1': 'First_Type_1',\n",
    "    'Total': 'First_Total',\n",
    "    'Hit_points': 'First_Hit_points',\n",
    "    'Attack': 'First_Attack',\n",
    "    'Defense': 'First_Defense',\n",
    "    'Special_attack': 'First_Special_attack',\n",
    "    'Special_defense': 'First_Special_defense',\n",
    "    'Speed': 'First_Speed'\n",
    "})\n",
    "df_joined_type1\n",
    "\n",
    "# this is done because we also want to merge the second Pokemon characteristics for the ML model\n"
   ]
  },
  {
   "cell_type": "code",
   "execution_count": 111,
   "id": "8a81d009",
   "metadata": {},
   "outputs": [
    {
     "data": {
      "text/html": [
       "<div>\n",
       "<style scoped>\n",
       "    .dataframe tbody tr th:only-of-type {\n",
       "        vertical-align: middle;\n",
       "    }\n",
       "\n",
       "    .dataframe tbody tr th {\n",
       "        vertical-align: top;\n",
       "    }\n",
       "\n",
       "    .dataframe thead th {\n",
       "        text-align: right;\n",
       "    }\n",
       "</style>\n",
       "<table border=\"1\" class=\"dataframe\">\n",
       "  <thead>\n",
       "    <tr style=\"text-align: right;\">\n",
       "      <th></th>\n",
       "      <th>First_pokemon</th>\n",
       "      <th>Second_pokemon</th>\n",
       "      <th>Winner</th>\n",
       "      <th>id_x</th>\n",
       "      <th>First_Name</th>\n",
       "      <th>First_Type_1</th>\n",
       "      <th>First_Total</th>\n",
       "      <th>First_Hit_points</th>\n",
       "      <th>First_Attack</th>\n",
       "      <th>First_Defense</th>\n",
       "      <th>...</th>\n",
       "      <th>id_y</th>\n",
       "      <th>Name</th>\n",
       "      <th>Type_1</th>\n",
       "      <th>Total</th>\n",
       "      <th>Hit_points</th>\n",
       "      <th>Attack</th>\n",
       "      <th>Defense</th>\n",
       "      <th>Special_attack</th>\n",
       "      <th>Special_defense</th>\n",
       "      <th>Speed</th>\n",
       "    </tr>\n",
       "  </thead>\n",
       "  <tbody>\n",
       "    <tr>\n",
       "      <th>0</th>\n",
       "      <td>266</td>\n",
       "      <td>298</td>\n",
       "      <td>298</td>\n",
       "      <td>266</td>\n",
       "      <td>Larvitar</td>\n",
       "      <td>Rock</td>\n",
       "      <td>300</td>\n",
       "      <td>50</td>\n",
       "      <td>64</td>\n",
       "      <td>50</td>\n",
       "      <td>...</td>\n",
       "      <td>298</td>\n",
       "      <td>Nuzleaf</td>\n",
       "      <td>Grass</td>\n",
       "      <td>340</td>\n",
       "      <td>70</td>\n",
       "      <td>70</td>\n",
       "      <td>40</td>\n",
       "      <td>60</td>\n",
       "      <td>40</td>\n",
       "      <td>60</td>\n",
       "    </tr>\n",
       "    <tr>\n",
       "      <th>1</th>\n",
       "      <td>702</td>\n",
       "      <td>701</td>\n",
       "      <td>701</td>\n",
       "      <td>702</td>\n",
       "      <td>Virizion</td>\n",
       "      <td>Grass</td>\n",
       "      <td>580</td>\n",
       "      <td>91</td>\n",
       "      <td>90</td>\n",
       "      <td>72</td>\n",
       "      <td>...</td>\n",
       "      <td>701</td>\n",
       "      <td>Terrakion</td>\n",
       "      <td>Rock</td>\n",
       "      <td>580</td>\n",
       "      <td>91</td>\n",
       "      <td>129</td>\n",
       "      <td>90</td>\n",
       "      <td>72</td>\n",
       "      <td>90</td>\n",
       "      <td>108</td>\n",
       "    </tr>\n",
       "    <tr>\n",
       "      <th>2</th>\n",
       "      <td>191</td>\n",
       "      <td>668</td>\n",
       "      <td>668</td>\n",
       "      <td>191</td>\n",
       "      <td>Togetic</td>\n",
       "      <td>Fairy</td>\n",
       "      <td>405</td>\n",
       "      <td>55</td>\n",
       "      <td>40</td>\n",
       "      <td>85</td>\n",
       "      <td>...</td>\n",
       "      <td>668</td>\n",
       "      <td>Beheeyem</td>\n",
       "      <td>Psychic</td>\n",
       "      <td>485</td>\n",
       "      <td>75</td>\n",
       "      <td>75</td>\n",
       "      <td>75</td>\n",
       "      <td>125</td>\n",
       "      <td>95</td>\n",
       "      <td>40</td>\n",
       "    </tr>\n",
       "    <tr>\n",
       "      <th>3</th>\n",
       "      <td>237</td>\n",
       "      <td>683</td>\n",
       "      <td>683</td>\n",
       "      <td>237</td>\n",
       "      <td>Slugma</td>\n",
       "      <td>Fire</td>\n",
       "      <td>250</td>\n",
       "      <td>40</td>\n",
       "      <td>40</td>\n",
       "      <td>40</td>\n",
       "      <td>...</td>\n",
       "      <td>683</td>\n",
       "      <td>Druddigon</td>\n",
       "      <td>Dragon</td>\n",
       "      <td>485</td>\n",
       "      <td>77</td>\n",
       "      <td>120</td>\n",
       "      <td>90</td>\n",
       "      <td>60</td>\n",
       "      <td>90</td>\n",
       "      <td>48</td>\n",
       "    </tr>\n",
       "    <tr>\n",
       "      <th>4</th>\n",
       "      <td>151</td>\n",
       "      <td>231</td>\n",
       "      <td>151</td>\n",
       "      <td>151</td>\n",
       "      <td>Omastar</td>\n",
       "      <td>Rock</td>\n",
       "      <td>495</td>\n",
       "      <td>70</td>\n",
       "      <td>60</td>\n",
       "      <td>125</td>\n",
       "      <td>...</td>\n",
       "      <td>231</td>\n",
       "      <td>Shuckle</td>\n",
       "      <td>Bug</td>\n",
       "      <td>505</td>\n",
       "      <td>20</td>\n",
       "      <td>10</td>\n",
       "      <td>230</td>\n",
       "      <td>10</td>\n",
       "      <td>230</td>\n",
       "      <td>5</td>\n",
       "    </tr>\n",
       "    <tr>\n",
       "      <th>...</th>\n",
       "      <td>...</td>\n",
       "      <td>...</td>\n",
       "      <td>...</td>\n",
       "      <td>...</td>\n",
       "      <td>...</td>\n",
       "      <td>...</td>\n",
       "      <td>...</td>\n",
       "      <td>...</td>\n",
       "      <td>...</td>\n",
       "      <td>...</td>\n",
       "      <td>...</td>\n",
       "      <td>...</td>\n",
       "      <td>...</td>\n",
       "      <td>...</td>\n",
       "      <td>...</td>\n",
       "      <td>...</td>\n",
       "      <td>...</td>\n",
       "      <td>...</td>\n",
       "      <td>...</td>\n",
       "      <td>...</td>\n",
       "      <td>...</td>\n",
       "    </tr>\n",
       "    <tr>\n",
       "      <th>48043</th>\n",
       "      <td>657</td>\n",
       "      <td>681</td>\n",
       "      <td>681</td>\n",
       "      <td>657</td>\n",
       "      <td>Joltik</td>\n",
       "      <td>Bug</td>\n",
       "      <td>319</td>\n",
       "      <td>50</td>\n",
       "      <td>47</td>\n",
       "      <td>50</td>\n",
       "      <td>...</td>\n",
       "      <td>681</td>\n",
       "      <td>Mienfoo</td>\n",
       "      <td>Fighting</td>\n",
       "      <td>350</td>\n",
       "      <td>45</td>\n",
       "      <td>85</td>\n",
       "      <td>50</td>\n",
       "      <td>55</td>\n",
       "      <td>50</td>\n",
       "      <td>65</td>\n",
       "    </tr>\n",
       "    <tr>\n",
       "      <th>48044</th>\n",
       "      <td>707</td>\n",
       "      <td>126</td>\n",
       "      <td>707</td>\n",
       "      <td>707</td>\n",
       "      <td>Reshiram</td>\n",
       "      <td>Dragon</td>\n",
       "      <td>680</td>\n",
       "      <td>100</td>\n",
       "      <td>120</td>\n",
       "      <td>100</td>\n",
       "      <td>...</td>\n",
       "      <td>126</td>\n",
       "      <td>Horsea</td>\n",
       "      <td>Water</td>\n",
       "      <td>295</td>\n",
       "      <td>30</td>\n",
       "      <td>40</td>\n",
       "      <td>70</td>\n",
       "      <td>70</td>\n",
       "      <td>25</td>\n",
       "      <td>60</td>\n",
       "    </tr>\n",
       "    <tr>\n",
       "      <th>48045</th>\n",
       "      <td>589</td>\n",
       "      <td>664</td>\n",
       "      <td>589</td>\n",
       "      <td>589</td>\n",
       "      <td>Drilbur</td>\n",
       "      <td>Ground</td>\n",
       "      <td>328</td>\n",
       "      <td>60</td>\n",
       "      <td>85</td>\n",
       "      <td>40</td>\n",
       "      <td>...</td>\n",
       "      <td>664</td>\n",
       "      <td>Tynamo</td>\n",
       "      <td>Electric</td>\n",
       "      <td>275</td>\n",
       "      <td>35</td>\n",
       "      <td>55</td>\n",
       "      <td>40</td>\n",
       "      <td>45</td>\n",
       "      <td>40</td>\n",
       "      <td>60</td>\n",
       "    </tr>\n",
       "    <tr>\n",
       "      <th>48046</th>\n",
       "      <td>109</td>\n",
       "      <td>89</td>\n",
       "      <td>109</td>\n",
       "      <td>109</td>\n",
       "      <td>Voltorb</td>\n",
       "      <td>Electric</td>\n",
       "      <td>330</td>\n",
       "      <td>40</td>\n",
       "      <td>30</td>\n",
       "      <td>50</td>\n",
       "      <td>...</td>\n",
       "      <td>89</td>\n",
       "      <td>Magnemite</td>\n",
       "      <td>Electric</td>\n",
       "      <td>325</td>\n",
       "      <td>25</td>\n",
       "      <td>35</td>\n",
       "      <td>70</td>\n",
       "      <td>95</td>\n",
       "      <td>55</td>\n",
       "      <td>45</td>\n",
       "    </tr>\n",
       "    <tr>\n",
       "      <th>48047</th>\n",
       "      <td>9</td>\n",
       "      <td>73</td>\n",
       "      <td>9</td>\n",
       "      <td>9</td>\n",
       "      <td>CharizardMega Charizard Y</td>\n",
       "      <td>Fire</td>\n",
       "      <td>634</td>\n",
       "      <td>78</td>\n",
       "      <td>104</td>\n",
       "      <td>78</td>\n",
       "      <td>...</td>\n",
       "      <td>73</td>\n",
       "      <td>Machop</td>\n",
       "      <td>Fighting</td>\n",
       "      <td>305</td>\n",
       "      <td>70</td>\n",
       "      <td>80</td>\n",
       "      <td>50</td>\n",
       "      <td>35</td>\n",
       "      <td>35</td>\n",
       "      <td>35</td>\n",
       "    </tr>\n",
       "  </tbody>\n",
       "</table>\n",
       "<p>48048 rows × 23 columns</p>\n",
       "</div>"
      ],
      "text/plain": [
       "       First_pokemon  Second_pokemon  Winner  id_x                 First_Name  \\\n",
       "0                266             298     298   266                   Larvitar   \n",
       "1                702             701     701   702                   Virizion   \n",
       "2                191             668     668   191                    Togetic   \n",
       "3                237             683     683   237                     Slugma   \n",
       "4                151             231     151   151                    Omastar   \n",
       "...              ...             ...     ...   ...                        ...   \n",
       "48043            657             681     681   657                     Joltik   \n",
       "48044            707             126     707   707                   Reshiram   \n",
       "48045            589             664     589   589                    Drilbur   \n",
       "48046            109              89     109   109                    Voltorb   \n",
       "48047              9              73       9     9  CharizardMega Charizard Y   \n",
       "\n",
       "      First_Type_1  First_Total  First_Hit_points  First_Attack  \\\n",
       "0             Rock          300                50            64   \n",
       "1            Grass          580                91            90   \n",
       "2            Fairy          405                55            40   \n",
       "3             Fire          250                40            40   \n",
       "4             Rock          495                70            60   \n",
       "...            ...          ...               ...           ...   \n",
       "48043          Bug          319                50            47   \n",
       "48044       Dragon          680               100           120   \n",
       "48045       Ground          328                60            85   \n",
       "48046     Electric          330                40            30   \n",
       "48047         Fire          634                78           104   \n",
       "\n",
       "       First_Defense  ...  id_y       Name    Type_1  Total Hit_points Attack  \\\n",
       "0                 50  ...   298    Nuzleaf     Grass    340         70     70   \n",
       "1                 72  ...   701  Terrakion      Rock    580         91    129   \n",
       "2                 85  ...   668   Beheeyem   Psychic    485         75     75   \n",
       "3                 40  ...   683  Druddigon    Dragon    485         77    120   \n",
       "4                125  ...   231    Shuckle       Bug    505         20     10   \n",
       "...              ...  ...   ...        ...       ...    ...        ...    ...   \n",
       "48043             50  ...   681    Mienfoo  Fighting    350         45     85   \n",
       "48044            100  ...   126     Horsea     Water    295         30     40   \n",
       "48045             40  ...   664     Tynamo  Electric    275         35     55   \n",
       "48046             50  ...    89  Magnemite  Electric    325         25     35   \n",
       "48047             78  ...    73     Machop  Fighting    305         70     80   \n",
       "\n",
       "       Defense  Special_attack  Special_defense  Speed  \n",
       "0           40              60               40     60  \n",
       "1           90              72               90    108  \n",
       "2           75             125               95     40  \n",
       "3           90              60               90     48  \n",
       "4          230              10              230      5  \n",
       "...        ...             ...              ...    ...  \n",
       "48043       50              55               50     65  \n",
       "48044       70              70               25     60  \n",
       "48045       40              45               40     60  \n",
       "48046       70              95               55     45  \n",
       "48047       50              35               35     35  \n",
       "\n",
       "[48048 rows x 23 columns]"
      ]
     },
     "execution_count": 111,
     "metadata": {},
     "output_type": "execute_result"
    }
   ],
   "source": [
    "df_joined_type2 = df_joined_type1.merge(df_pok_char, left_on='Second_pokemon', right_on='id', how='left')\n",
    "df_joined_type2"
   ]
  },
  {
   "cell_type": "code",
   "execution_count": null,
   "id": "ebe7ba75",
   "metadata": {},
   "outputs": [
    {
     "data": {
      "text/html": [
       "<div>\n",
       "<style scoped>\n",
       "    .dataframe tbody tr th:only-of-type {\n",
       "        vertical-align: middle;\n",
       "    }\n",
       "\n",
       "    .dataframe tbody tr th {\n",
       "        vertical-align: top;\n",
       "    }\n",
       "\n",
       "    .dataframe thead th {\n",
       "        text-align: right;\n",
       "    }\n",
       "</style>\n",
       "<table border=\"1\" class=\"dataframe\">\n",
       "  <thead>\n",
       "    <tr style=\"text-align: right;\">\n",
       "      <th></th>\n",
       "      <th>First_pokemon</th>\n",
       "      <th>Second_pokemon</th>\n",
       "      <th>Winner</th>\n",
       "      <th>id_x</th>\n",
       "      <th>First_Name</th>\n",
       "      <th>First_Type_1</th>\n",
       "      <th>First_Total</th>\n",
       "      <th>First_Hit_points</th>\n",
       "      <th>First_Attack</th>\n",
       "      <th>First_Defense</th>\n",
       "      <th>...</th>\n",
       "      <th>id_y</th>\n",
       "      <th>Second_Name</th>\n",
       "      <th>Second_Type_1</th>\n",
       "      <th>Second_Total</th>\n",
       "      <th>Second_Hit_points</th>\n",
       "      <th>Second_Attack</th>\n",
       "      <th>Second_Defense</th>\n",
       "      <th>Second_Special_attack</th>\n",
       "      <th>Second_Special_defense</th>\n",
       "      <th>Second_Speed</th>\n",
       "    </tr>\n",
       "  </thead>\n",
       "  <tbody>\n",
       "    <tr>\n",
       "      <th>0</th>\n",
       "      <td>266</td>\n",
       "      <td>298</td>\n",
       "      <td>298</td>\n",
       "      <td>266</td>\n",
       "      <td>Larvitar</td>\n",
       "      <td>Rock</td>\n",
       "      <td>300</td>\n",
       "      <td>50</td>\n",
       "      <td>64</td>\n",
       "      <td>50</td>\n",
       "      <td>...</td>\n",
       "      <td>298</td>\n",
       "      <td>Nuzleaf</td>\n",
       "      <td>Grass</td>\n",
       "      <td>340</td>\n",
       "      <td>70</td>\n",
       "      <td>70</td>\n",
       "      <td>40</td>\n",
       "      <td>60</td>\n",
       "      <td>40</td>\n",
       "      <td>60</td>\n",
       "    </tr>\n",
       "    <tr>\n",
       "      <th>1</th>\n",
       "      <td>702</td>\n",
       "      <td>701</td>\n",
       "      <td>701</td>\n",
       "      <td>702</td>\n",
       "      <td>Virizion</td>\n",
       "      <td>Grass</td>\n",
       "      <td>580</td>\n",
       "      <td>91</td>\n",
       "      <td>90</td>\n",
       "      <td>72</td>\n",
       "      <td>...</td>\n",
       "      <td>701</td>\n",
       "      <td>Terrakion</td>\n",
       "      <td>Rock</td>\n",
       "      <td>580</td>\n",
       "      <td>91</td>\n",
       "      <td>129</td>\n",
       "      <td>90</td>\n",
       "      <td>72</td>\n",
       "      <td>90</td>\n",
       "      <td>108</td>\n",
       "    </tr>\n",
       "    <tr>\n",
       "      <th>2</th>\n",
       "      <td>191</td>\n",
       "      <td>668</td>\n",
       "      <td>668</td>\n",
       "      <td>191</td>\n",
       "      <td>Togetic</td>\n",
       "      <td>Fairy</td>\n",
       "      <td>405</td>\n",
       "      <td>55</td>\n",
       "      <td>40</td>\n",
       "      <td>85</td>\n",
       "      <td>...</td>\n",
       "      <td>668</td>\n",
       "      <td>Beheeyem</td>\n",
       "      <td>Psychic</td>\n",
       "      <td>485</td>\n",
       "      <td>75</td>\n",
       "      <td>75</td>\n",
       "      <td>75</td>\n",
       "      <td>125</td>\n",
       "      <td>95</td>\n",
       "      <td>40</td>\n",
       "    </tr>\n",
       "    <tr>\n",
       "      <th>3</th>\n",
       "      <td>237</td>\n",
       "      <td>683</td>\n",
       "      <td>683</td>\n",
       "      <td>237</td>\n",
       "      <td>Slugma</td>\n",
       "      <td>Fire</td>\n",
       "      <td>250</td>\n",
       "      <td>40</td>\n",
       "      <td>40</td>\n",
       "      <td>40</td>\n",
       "      <td>...</td>\n",
       "      <td>683</td>\n",
       "      <td>Druddigon</td>\n",
       "      <td>Dragon</td>\n",
       "      <td>485</td>\n",
       "      <td>77</td>\n",
       "      <td>120</td>\n",
       "      <td>90</td>\n",
       "      <td>60</td>\n",
       "      <td>90</td>\n",
       "      <td>48</td>\n",
       "    </tr>\n",
       "    <tr>\n",
       "      <th>4</th>\n",
       "      <td>151</td>\n",
       "      <td>231</td>\n",
       "      <td>151</td>\n",
       "      <td>151</td>\n",
       "      <td>Omastar</td>\n",
       "      <td>Rock</td>\n",
       "      <td>495</td>\n",
       "      <td>70</td>\n",
       "      <td>60</td>\n",
       "      <td>125</td>\n",
       "      <td>...</td>\n",
       "      <td>231</td>\n",
       "      <td>Shuckle</td>\n",
       "      <td>Bug</td>\n",
       "      <td>505</td>\n",
       "      <td>20</td>\n",
       "      <td>10</td>\n",
       "      <td>230</td>\n",
       "      <td>10</td>\n",
       "      <td>230</td>\n",
       "      <td>5</td>\n",
       "    </tr>\n",
       "    <tr>\n",
       "      <th>...</th>\n",
       "      <td>...</td>\n",
       "      <td>...</td>\n",
       "      <td>...</td>\n",
       "      <td>...</td>\n",
       "      <td>...</td>\n",
       "      <td>...</td>\n",
       "      <td>...</td>\n",
       "      <td>...</td>\n",
       "      <td>...</td>\n",
       "      <td>...</td>\n",
       "      <td>...</td>\n",
       "      <td>...</td>\n",
       "      <td>...</td>\n",
       "      <td>...</td>\n",
       "      <td>...</td>\n",
       "      <td>...</td>\n",
       "      <td>...</td>\n",
       "      <td>...</td>\n",
       "      <td>...</td>\n",
       "      <td>...</td>\n",
       "      <td>...</td>\n",
       "    </tr>\n",
       "    <tr>\n",
       "      <th>48043</th>\n",
       "      <td>657</td>\n",
       "      <td>681</td>\n",
       "      <td>681</td>\n",
       "      <td>657</td>\n",
       "      <td>Joltik</td>\n",
       "      <td>Bug</td>\n",
       "      <td>319</td>\n",
       "      <td>50</td>\n",
       "      <td>47</td>\n",
       "      <td>50</td>\n",
       "      <td>...</td>\n",
       "      <td>681</td>\n",
       "      <td>Mienfoo</td>\n",
       "      <td>Fighting</td>\n",
       "      <td>350</td>\n",
       "      <td>45</td>\n",
       "      <td>85</td>\n",
       "      <td>50</td>\n",
       "      <td>55</td>\n",
       "      <td>50</td>\n",
       "      <td>65</td>\n",
       "    </tr>\n",
       "    <tr>\n",
       "      <th>48044</th>\n",
       "      <td>707</td>\n",
       "      <td>126</td>\n",
       "      <td>707</td>\n",
       "      <td>707</td>\n",
       "      <td>Reshiram</td>\n",
       "      <td>Dragon</td>\n",
       "      <td>680</td>\n",
       "      <td>100</td>\n",
       "      <td>120</td>\n",
       "      <td>100</td>\n",
       "      <td>...</td>\n",
       "      <td>126</td>\n",
       "      <td>Horsea</td>\n",
       "      <td>Water</td>\n",
       "      <td>295</td>\n",
       "      <td>30</td>\n",
       "      <td>40</td>\n",
       "      <td>70</td>\n",
       "      <td>70</td>\n",
       "      <td>25</td>\n",
       "      <td>60</td>\n",
       "    </tr>\n",
       "    <tr>\n",
       "      <th>48045</th>\n",
       "      <td>589</td>\n",
       "      <td>664</td>\n",
       "      <td>589</td>\n",
       "      <td>589</td>\n",
       "      <td>Drilbur</td>\n",
       "      <td>Ground</td>\n",
       "      <td>328</td>\n",
       "      <td>60</td>\n",
       "      <td>85</td>\n",
       "      <td>40</td>\n",
       "      <td>...</td>\n",
       "      <td>664</td>\n",
       "      <td>Tynamo</td>\n",
       "      <td>Electric</td>\n",
       "      <td>275</td>\n",
       "      <td>35</td>\n",
       "      <td>55</td>\n",
       "      <td>40</td>\n",
       "      <td>45</td>\n",
       "      <td>40</td>\n",
       "      <td>60</td>\n",
       "    </tr>\n",
       "    <tr>\n",
       "      <th>48046</th>\n",
       "      <td>109</td>\n",
       "      <td>89</td>\n",
       "      <td>109</td>\n",
       "      <td>109</td>\n",
       "      <td>Voltorb</td>\n",
       "      <td>Electric</td>\n",
       "      <td>330</td>\n",
       "      <td>40</td>\n",
       "      <td>30</td>\n",
       "      <td>50</td>\n",
       "      <td>...</td>\n",
       "      <td>89</td>\n",
       "      <td>Magnemite</td>\n",
       "      <td>Electric</td>\n",
       "      <td>325</td>\n",
       "      <td>25</td>\n",
       "      <td>35</td>\n",
       "      <td>70</td>\n",
       "      <td>95</td>\n",
       "      <td>55</td>\n",
       "      <td>45</td>\n",
       "    </tr>\n",
       "    <tr>\n",
       "      <th>48047</th>\n",
       "      <td>9</td>\n",
       "      <td>73</td>\n",
       "      <td>9</td>\n",
       "      <td>9</td>\n",
       "      <td>CharizardMega Charizard Y</td>\n",
       "      <td>Fire</td>\n",
       "      <td>634</td>\n",
       "      <td>78</td>\n",
       "      <td>104</td>\n",
       "      <td>78</td>\n",
       "      <td>...</td>\n",
       "      <td>73</td>\n",
       "      <td>Machop</td>\n",
       "      <td>Fighting</td>\n",
       "      <td>305</td>\n",
       "      <td>70</td>\n",
       "      <td>80</td>\n",
       "      <td>50</td>\n",
       "      <td>35</td>\n",
       "      <td>35</td>\n",
       "      <td>35</td>\n",
       "    </tr>\n",
       "  </tbody>\n",
       "</table>\n",
       "<p>48048 rows × 23 columns</p>\n",
       "</div>"
      ],
      "text/plain": [
       "       First_pokemon  Second_pokemon  Winner  id_x                 First_Name  \\\n",
       "0                266             298     298   266                   Larvitar   \n",
       "1                702             701     701   702                   Virizion   \n",
       "2                191             668     668   191                    Togetic   \n",
       "3                237             683     683   237                     Slugma   \n",
       "4                151             231     151   151                    Omastar   \n",
       "...              ...             ...     ...   ...                        ...   \n",
       "48043            657             681     681   657                     Joltik   \n",
       "48044            707             126     707   707                   Reshiram   \n",
       "48045            589             664     589   589                    Drilbur   \n",
       "48046            109              89     109   109                    Voltorb   \n",
       "48047              9              73       9     9  CharizardMega Charizard Y   \n",
       "\n",
       "      First_Type_1  First_Total  First_Hit_points  First_Attack  \\\n",
       "0             Rock          300                50            64   \n",
       "1            Grass          580                91            90   \n",
       "2            Fairy          405                55            40   \n",
       "3             Fire          250                40            40   \n",
       "4             Rock          495                70            60   \n",
       "...            ...          ...               ...           ...   \n",
       "48043          Bug          319                50            47   \n",
       "48044       Dragon          680               100           120   \n",
       "48045       Ground          328                60            85   \n",
       "48046     Electric          330                40            30   \n",
       "48047         Fire          634                78           104   \n",
       "\n",
       "       First_Defense  ...  id_y  Second_Name  Second_Type_1  Second_Total  \\\n",
       "0                 50  ...   298      Nuzleaf          Grass           340   \n",
       "1                 72  ...   701    Terrakion           Rock           580   \n",
       "2                 85  ...   668     Beheeyem        Psychic           485   \n",
       "3                 40  ...   683    Druddigon         Dragon           485   \n",
       "4                125  ...   231      Shuckle            Bug           505   \n",
       "...              ...  ...   ...          ...            ...           ...   \n",
       "48043             50  ...   681      Mienfoo       Fighting           350   \n",
       "48044            100  ...   126       Horsea          Water           295   \n",
       "48045             40  ...   664       Tynamo       Electric           275   \n",
       "48046             50  ...    89    Magnemite       Electric           325   \n",
       "48047             78  ...    73       Machop       Fighting           305   \n",
       "\n",
       "      Second_Hit_points Second_Attack  Second_Defense  Second_Special_attack  \\\n",
       "0                    70            70              40                     60   \n",
       "1                    91           129              90                     72   \n",
       "2                    75            75              75                    125   \n",
       "3                    77           120              90                     60   \n",
       "4                    20            10             230                     10   \n",
       "...                 ...           ...             ...                    ...   \n",
       "48043                45            85              50                     55   \n",
       "48044                30            40              70                     70   \n",
       "48045                35            55              40                     45   \n",
       "48046                25            35              70                     95   \n",
       "48047                70            80              50                     35   \n",
       "\n",
       "       Second_Special_defense  Second_Speed  \n",
       "0                          40            60  \n",
       "1                          90           108  \n",
       "2                          95            40  \n",
       "3                          90            48  \n",
       "4                         230             5  \n",
       "...                       ...           ...  \n",
       "48043                      50            65  \n",
       "48044                      25            60  \n",
       "48045                      40            60  \n",
       "48046                      55            45  \n",
       "48047                      35            35  \n",
       "\n",
       "[48048 rows x 23 columns]"
      ]
     },
     "execution_count": 114,
     "metadata": {},
     "output_type": "execute_result"
    }
   ],
   "source": [
    "df_joined_type2 = df_joined_type2.rename(columns={\n",
    "    'Name': 'Second_Name',\n",
    "    'Type_1': 'Second_Type_1',\n",
    "    'Total': 'Second_Total',\n",
    "    'Hit_points': 'Second_Hit_points',\n",
    "    'Attack': 'Second_Attack',\n",
    "    'Defense': 'Second_Defense',\n",
    "    'Special_attack': 'Second_Special_attack',\n",
    "    'Special_defense': 'Second_Special_defense',\n",
    "    'Speed': 'Second_Speed'\n",
    "})\n",
    "df_joined_type2\n",
    "#renamed the columns to make it clear which Pokemon's characteristics are being referred to"
   ]
  },
  {
   "cell_type": "code",
   "execution_count": 115,
   "id": "6451ff17",
   "metadata": {},
   "outputs": [
    {
     "name": "stdout",
     "output_type": "stream",
     "text": [
      "<class 'pandas.core.frame.DataFrame'>\n",
      "RangeIndex: 48048 entries, 0 to 48047\n",
      "Data columns (total 23 columns):\n",
      " #   Column                  Non-Null Count  Dtype \n",
      "---  ------                  --------------  ----- \n",
      " 0   First_pokemon           48048 non-null  int64 \n",
      " 1   Second_pokemon          48048 non-null  int64 \n",
      " 2   Winner                  48048 non-null  int64 \n",
      " 3   id_x                    48048 non-null  int64 \n",
      " 4   First_Name              48048 non-null  object\n",
      " 5   First_Type_1            48048 non-null  object\n",
      " 6   First_Total             48048 non-null  int64 \n",
      " 7   First_Hit_points        48048 non-null  int64 \n",
      " 8   First_Attack            48048 non-null  int64 \n",
      " 9   First_Defense           48048 non-null  int64 \n",
      " 10  First_Special_attack    48048 non-null  int64 \n",
      " 11  First_Special_defense   48048 non-null  int64 \n",
      " 12  First_Speed             48048 non-null  int64 \n",
      " 13  id_y                    48048 non-null  int64 \n",
      " 14  Second_Name             48048 non-null  object\n",
      " 15  Second_Type_1           48048 non-null  object\n",
      " 16  Second_Total            48048 non-null  int64 \n",
      " 17  Second_Hit_points       48048 non-null  int64 \n",
      " 18  Second_Attack           48048 non-null  int64 \n",
      " 19  Second_Defense          48048 non-null  int64 \n",
      " 20  Second_Special_attack   48048 non-null  int64 \n",
      " 21  Second_Special_defense  48048 non-null  int64 \n",
      " 22  Second_Speed            48048 non-null  int64 \n",
      "dtypes: int64(19), object(4)\n",
      "memory usage: 8.4+ MB\n"
     ]
    }
   ],
   "source": [
    "df_joined_type2.info()\n",
    "# checking the data types of the columns to ensure they are correct for the ML model"
   ]
  },
  {
   "cell_type": "code",
   "execution_count": null,
   "id": "dce3e280",
   "metadata": {},
   "outputs": [
    {
     "data": {
      "text/html": [
       "<div>\n",
       "<style scoped>\n",
       "    .dataframe tbody tr th:only-of-type {\n",
       "        vertical-align: middle;\n",
       "    }\n",
       "\n",
       "    .dataframe tbody tr th {\n",
       "        vertical-align: top;\n",
       "    }\n",
       "\n",
       "    .dataframe thead th {\n",
       "        text-align: right;\n",
       "    }\n",
       "</style>\n",
       "<table border=\"1\" class=\"dataframe\">\n",
       "  <thead>\n",
       "    <tr style=\"text-align: right;\">\n",
       "      <th></th>\n",
       "      <th>First_pokemon</th>\n",
       "      <th>Second_pokemon</th>\n",
       "      <th>Winner</th>\n",
       "      <th>id_x</th>\n",
       "      <th>First_Type_1</th>\n",
       "      <th>First_Total</th>\n",
       "      <th>First_Hit_points</th>\n",
       "      <th>First_Attack</th>\n",
       "      <th>First_Defense</th>\n",
       "      <th>First_Special_attack</th>\n",
       "      <th>...</th>\n",
       "      <th>First_Speed</th>\n",
       "      <th>id_y</th>\n",
       "      <th>Second_Type_1</th>\n",
       "      <th>Second_Total</th>\n",
       "      <th>Second_Hit_points</th>\n",
       "      <th>Second_Attack</th>\n",
       "      <th>Second_Defense</th>\n",
       "      <th>Second_Special_attack</th>\n",
       "      <th>Second_Special_defense</th>\n",
       "      <th>Second_Speed</th>\n",
       "    </tr>\n",
       "  </thead>\n",
       "  <tbody>\n",
       "    <tr>\n",
       "      <th>0</th>\n",
       "      <td>266</td>\n",
       "      <td>298</td>\n",
       "      <td>298</td>\n",
       "      <td>266</td>\n",
       "      <td>Rock</td>\n",
       "      <td>300</td>\n",
       "      <td>50</td>\n",
       "      <td>64</td>\n",
       "      <td>50</td>\n",
       "      <td>45</td>\n",
       "      <td>...</td>\n",
       "      <td>41</td>\n",
       "      <td>298</td>\n",
       "      <td>Grass</td>\n",
       "      <td>340</td>\n",
       "      <td>70</td>\n",
       "      <td>70</td>\n",
       "      <td>40</td>\n",
       "      <td>60</td>\n",
       "      <td>40</td>\n",
       "      <td>60</td>\n",
       "    </tr>\n",
       "    <tr>\n",
       "      <th>1</th>\n",
       "      <td>702</td>\n",
       "      <td>701</td>\n",
       "      <td>701</td>\n",
       "      <td>702</td>\n",
       "      <td>Grass</td>\n",
       "      <td>580</td>\n",
       "      <td>91</td>\n",
       "      <td>90</td>\n",
       "      <td>72</td>\n",
       "      <td>90</td>\n",
       "      <td>...</td>\n",
       "      <td>108</td>\n",
       "      <td>701</td>\n",
       "      <td>Rock</td>\n",
       "      <td>580</td>\n",
       "      <td>91</td>\n",
       "      <td>129</td>\n",
       "      <td>90</td>\n",
       "      <td>72</td>\n",
       "      <td>90</td>\n",
       "      <td>108</td>\n",
       "    </tr>\n",
       "    <tr>\n",
       "      <th>2</th>\n",
       "      <td>191</td>\n",
       "      <td>668</td>\n",
       "      <td>668</td>\n",
       "      <td>191</td>\n",
       "      <td>Fairy</td>\n",
       "      <td>405</td>\n",
       "      <td>55</td>\n",
       "      <td>40</td>\n",
       "      <td>85</td>\n",
       "      <td>80</td>\n",
       "      <td>...</td>\n",
       "      <td>40</td>\n",
       "      <td>668</td>\n",
       "      <td>Psychic</td>\n",
       "      <td>485</td>\n",
       "      <td>75</td>\n",
       "      <td>75</td>\n",
       "      <td>75</td>\n",
       "      <td>125</td>\n",
       "      <td>95</td>\n",
       "      <td>40</td>\n",
       "    </tr>\n",
       "    <tr>\n",
       "      <th>3</th>\n",
       "      <td>237</td>\n",
       "      <td>683</td>\n",
       "      <td>683</td>\n",
       "      <td>237</td>\n",
       "      <td>Fire</td>\n",
       "      <td>250</td>\n",
       "      <td>40</td>\n",
       "      <td>40</td>\n",
       "      <td>40</td>\n",
       "      <td>70</td>\n",
       "      <td>...</td>\n",
       "      <td>20</td>\n",
       "      <td>683</td>\n",
       "      <td>Dragon</td>\n",
       "      <td>485</td>\n",
       "      <td>77</td>\n",
       "      <td>120</td>\n",
       "      <td>90</td>\n",
       "      <td>60</td>\n",
       "      <td>90</td>\n",
       "      <td>48</td>\n",
       "    </tr>\n",
       "    <tr>\n",
       "      <th>4</th>\n",
       "      <td>151</td>\n",
       "      <td>231</td>\n",
       "      <td>151</td>\n",
       "      <td>151</td>\n",
       "      <td>Rock</td>\n",
       "      <td>495</td>\n",
       "      <td>70</td>\n",
       "      <td>60</td>\n",
       "      <td>125</td>\n",
       "      <td>115</td>\n",
       "      <td>...</td>\n",
       "      <td>55</td>\n",
       "      <td>231</td>\n",
       "      <td>Bug</td>\n",
       "      <td>505</td>\n",
       "      <td>20</td>\n",
       "      <td>10</td>\n",
       "      <td>230</td>\n",
       "      <td>10</td>\n",
       "      <td>230</td>\n",
       "      <td>5</td>\n",
       "    </tr>\n",
       "  </tbody>\n",
       "</table>\n",
       "<p>5 rows × 21 columns</p>\n",
       "</div>"
      ],
      "text/plain": [
       "   First_pokemon  Second_pokemon  Winner  id_x First_Type_1  First_Total  \\\n",
       "0            266             298     298   266         Rock          300   \n",
       "1            702             701     701   702        Grass          580   \n",
       "2            191             668     668   191        Fairy          405   \n",
       "3            237             683     683   237         Fire          250   \n",
       "4            151             231     151   151         Rock          495   \n",
       "\n",
       "   First_Hit_points  First_Attack  First_Defense  First_Special_attack  ...  \\\n",
       "0                50            64             50                    45  ...   \n",
       "1                91            90             72                    90  ...   \n",
       "2                55            40             85                    80  ...   \n",
       "3                40            40             40                    70  ...   \n",
       "4                70            60            125                   115  ...   \n",
       "\n",
       "   First_Speed  id_y  Second_Type_1 Second_Total  Second_Hit_points  \\\n",
       "0           41   298          Grass          340                 70   \n",
       "1          108   701           Rock          580                 91   \n",
       "2           40   668        Psychic          485                 75   \n",
       "3           20   683         Dragon          485                 77   \n",
       "4           55   231            Bug          505                 20   \n",
       "\n",
       "   Second_Attack  Second_Defense  Second_Special_attack  \\\n",
       "0             70              40                     60   \n",
       "1            129              90                     72   \n",
       "2             75              75                    125   \n",
       "3            120              90                     60   \n",
       "4             10             230                     10   \n",
       "\n",
       "   Second_Special_defense  Second_Speed  \n",
       "0                      40            60  \n",
       "1                      90           108  \n",
       "2                      95            40  \n",
       "3                      90            48  \n",
       "4                     230             5  \n",
       "\n",
       "[5 rows x 21 columns]"
      ]
     },
     "execution_count": 116,
     "metadata": {},
     "output_type": "execute_result"
    }
   ],
   "source": [
    "df_joined_type2 = df_joined_type2.drop(columns=['First_Name', 'Second_Name'])\n",
    "df_joined_type2.head()\n",
    "# Dropping the 'First_Name' and 'Second_Name' columns as they are not needed"
   ]
  },
  {
   "cell_type": "code",
   "execution_count": null,
   "id": "99f5d351",
   "metadata": {},
   "outputs": [
    {
     "data": {
      "text/html": [
       "<div>\n",
       "<style scoped>\n",
       "    .dataframe tbody tr th:only-of-type {\n",
       "        vertical-align: middle;\n",
       "    }\n",
       "\n",
       "    .dataframe tbody tr th {\n",
       "        vertical-align: top;\n",
       "    }\n",
       "\n",
       "    .dataframe thead th {\n",
       "        text-align: right;\n",
       "    }\n",
       "</style>\n",
       "<table border=\"1\" class=\"dataframe\">\n",
       "  <thead>\n",
       "    <tr style=\"text-align: right;\">\n",
       "      <th></th>\n",
       "      <th>First_pokemon</th>\n",
       "      <th>Second_pokemon</th>\n",
       "      <th>Winner</th>\n",
       "      <th>id_x</th>\n",
       "      <th>First_Type_1</th>\n",
       "      <th>First_Total</th>\n",
       "      <th>First_Hit_points</th>\n",
       "      <th>First_Attack</th>\n",
       "      <th>First_Defense</th>\n",
       "      <th>First_Special_attack</th>\n",
       "      <th>...</th>\n",
       "      <th>id_y</th>\n",
       "      <th>Second_Type_1</th>\n",
       "      <th>Second_Total</th>\n",
       "      <th>Second_Hit_points</th>\n",
       "      <th>Second_Attack</th>\n",
       "      <th>Second_Defense</th>\n",
       "      <th>Second_Special_attack</th>\n",
       "      <th>Second_Special_defense</th>\n",
       "      <th>Second_Speed</th>\n",
       "      <th>target</th>\n",
       "    </tr>\n",
       "  </thead>\n",
       "  <tbody>\n",
       "    <tr>\n",
       "      <th>0</th>\n",
       "      <td>266</td>\n",
       "      <td>298</td>\n",
       "      <td>298</td>\n",
       "      <td>266</td>\n",
       "      <td>Rock</td>\n",
       "      <td>300</td>\n",
       "      <td>50</td>\n",
       "      <td>64</td>\n",
       "      <td>50</td>\n",
       "      <td>45</td>\n",
       "      <td>...</td>\n",
       "      <td>298</td>\n",
       "      <td>Grass</td>\n",
       "      <td>340</td>\n",
       "      <td>70</td>\n",
       "      <td>70</td>\n",
       "      <td>40</td>\n",
       "      <td>60</td>\n",
       "      <td>40</td>\n",
       "      <td>60</td>\n",
       "      <td>0</td>\n",
       "    </tr>\n",
       "    <tr>\n",
       "      <th>1</th>\n",
       "      <td>702</td>\n",
       "      <td>701</td>\n",
       "      <td>701</td>\n",
       "      <td>702</td>\n",
       "      <td>Grass</td>\n",
       "      <td>580</td>\n",
       "      <td>91</td>\n",
       "      <td>90</td>\n",
       "      <td>72</td>\n",
       "      <td>90</td>\n",
       "      <td>...</td>\n",
       "      <td>701</td>\n",
       "      <td>Rock</td>\n",
       "      <td>580</td>\n",
       "      <td>91</td>\n",
       "      <td>129</td>\n",
       "      <td>90</td>\n",
       "      <td>72</td>\n",
       "      <td>90</td>\n",
       "      <td>108</td>\n",
       "      <td>0</td>\n",
       "    </tr>\n",
       "    <tr>\n",
       "      <th>2</th>\n",
       "      <td>191</td>\n",
       "      <td>668</td>\n",
       "      <td>668</td>\n",
       "      <td>191</td>\n",
       "      <td>Fairy</td>\n",
       "      <td>405</td>\n",
       "      <td>55</td>\n",
       "      <td>40</td>\n",
       "      <td>85</td>\n",
       "      <td>80</td>\n",
       "      <td>...</td>\n",
       "      <td>668</td>\n",
       "      <td>Psychic</td>\n",
       "      <td>485</td>\n",
       "      <td>75</td>\n",
       "      <td>75</td>\n",
       "      <td>75</td>\n",
       "      <td>125</td>\n",
       "      <td>95</td>\n",
       "      <td>40</td>\n",
       "      <td>0</td>\n",
       "    </tr>\n",
       "    <tr>\n",
       "      <th>3</th>\n",
       "      <td>237</td>\n",
       "      <td>683</td>\n",
       "      <td>683</td>\n",
       "      <td>237</td>\n",
       "      <td>Fire</td>\n",
       "      <td>250</td>\n",
       "      <td>40</td>\n",
       "      <td>40</td>\n",
       "      <td>40</td>\n",
       "      <td>70</td>\n",
       "      <td>...</td>\n",
       "      <td>683</td>\n",
       "      <td>Dragon</td>\n",
       "      <td>485</td>\n",
       "      <td>77</td>\n",
       "      <td>120</td>\n",
       "      <td>90</td>\n",
       "      <td>60</td>\n",
       "      <td>90</td>\n",
       "      <td>48</td>\n",
       "      <td>0</td>\n",
       "    </tr>\n",
       "    <tr>\n",
       "      <th>4</th>\n",
       "      <td>151</td>\n",
       "      <td>231</td>\n",
       "      <td>151</td>\n",
       "      <td>151</td>\n",
       "      <td>Rock</td>\n",
       "      <td>495</td>\n",
       "      <td>70</td>\n",
       "      <td>60</td>\n",
       "      <td>125</td>\n",
       "      <td>115</td>\n",
       "      <td>...</td>\n",
       "      <td>231</td>\n",
       "      <td>Bug</td>\n",
       "      <td>505</td>\n",
       "      <td>20</td>\n",
       "      <td>10</td>\n",
       "      <td>230</td>\n",
       "      <td>10</td>\n",
       "      <td>230</td>\n",
       "      <td>5</td>\n",
       "      <td>1</td>\n",
       "    </tr>\n",
       "    <tr>\n",
       "      <th>...</th>\n",
       "      <td>...</td>\n",
       "      <td>...</td>\n",
       "      <td>...</td>\n",
       "      <td>...</td>\n",
       "      <td>...</td>\n",
       "      <td>...</td>\n",
       "      <td>...</td>\n",
       "      <td>...</td>\n",
       "      <td>...</td>\n",
       "      <td>...</td>\n",
       "      <td>...</td>\n",
       "      <td>...</td>\n",
       "      <td>...</td>\n",
       "      <td>...</td>\n",
       "      <td>...</td>\n",
       "      <td>...</td>\n",
       "      <td>...</td>\n",
       "      <td>...</td>\n",
       "      <td>...</td>\n",
       "      <td>...</td>\n",
       "      <td>...</td>\n",
       "    </tr>\n",
       "    <tr>\n",
       "      <th>48043</th>\n",
       "      <td>657</td>\n",
       "      <td>681</td>\n",
       "      <td>681</td>\n",
       "      <td>657</td>\n",
       "      <td>Bug</td>\n",
       "      <td>319</td>\n",
       "      <td>50</td>\n",
       "      <td>47</td>\n",
       "      <td>50</td>\n",
       "      <td>57</td>\n",
       "      <td>...</td>\n",
       "      <td>681</td>\n",
       "      <td>Fighting</td>\n",
       "      <td>350</td>\n",
       "      <td>45</td>\n",
       "      <td>85</td>\n",
       "      <td>50</td>\n",
       "      <td>55</td>\n",
       "      <td>50</td>\n",
       "      <td>65</td>\n",
       "      <td>0</td>\n",
       "    </tr>\n",
       "    <tr>\n",
       "      <th>48044</th>\n",
       "      <td>707</td>\n",
       "      <td>126</td>\n",
       "      <td>707</td>\n",
       "      <td>707</td>\n",
       "      <td>Dragon</td>\n",
       "      <td>680</td>\n",
       "      <td>100</td>\n",
       "      <td>120</td>\n",
       "      <td>100</td>\n",
       "      <td>150</td>\n",
       "      <td>...</td>\n",
       "      <td>126</td>\n",
       "      <td>Water</td>\n",
       "      <td>295</td>\n",
       "      <td>30</td>\n",
       "      <td>40</td>\n",
       "      <td>70</td>\n",
       "      <td>70</td>\n",
       "      <td>25</td>\n",
       "      <td>60</td>\n",
       "      <td>1</td>\n",
       "    </tr>\n",
       "    <tr>\n",
       "      <th>48045</th>\n",
       "      <td>589</td>\n",
       "      <td>664</td>\n",
       "      <td>589</td>\n",
       "      <td>589</td>\n",
       "      <td>Ground</td>\n",
       "      <td>328</td>\n",
       "      <td>60</td>\n",
       "      <td>85</td>\n",
       "      <td>40</td>\n",
       "      <td>30</td>\n",
       "      <td>...</td>\n",
       "      <td>664</td>\n",
       "      <td>Electric</td>\n",
       "      <td>275</td>\n",
       "      <td>35</td>\n",
       "      <td>55</td>\n",
       "      <td>40</td>\n",
       "      <td>45</td>\n",
       "      <td>40</td>\n",
       "      <td>60</td>\n",
       "      <td>1</td>\n",
       "    </tr>\n",
       "    <tr>\n",
       "      <th>48046</th>\n",
       "      <td>109</td>\n",
       "      <td>89</td>\n",
       "      <td>109</td>\n",
       "      <td>109</td>\n",
       "      <td>Electric</td>\n",
       "      <td>330</td>\n",
       "      <td>40</td>\n",
       "      <td>30</td>\n",
       "      <td>50</td>\n",
       "      <td>55</td>\n",
       "      <td>...</td>\n",
       "      <td>89</td>\n",
       "      <td>Electric</td>\n",
       "      <td>325</td>\n",
       "      <td>25</td>\n",
       "      <td>35</td>\n",
       "      <td>70</td>\n",
       "      <td>95</td>\n",
       "      <td>55</td>\n",
       "      <td>45</td>\n",
       "      <td>1</td>\n",
       "    </tr>\n",
       "    <tr>\n",
       "      <th>48047</th>\n",
       "      <td>9</td>\n",
       "      <td>73</td>\n",
       "      <td>9</td>\n",
       "      <td>9</td>\n",
       "      <td>Fire</td>\n",
       "      <td>634</td>\n",
       "      <td>78</td>\n",
       "      <td>104</td>\n",
       "      <td>78</td>\n",
       "      <td>159</td>\n",
       "      <td>...</td>\n",
       "      <td>73</td>\n",
       "      <td>Fighting</td>\n",
       "      <td>305</td>\n",
       "      <td>70</td>\n",
       "      <td>80</td>\n",
       "      <td>50</td>\n",
       "      <td>35</td>\n",
       "      <td>35</td>\n",
       "      <td>35</td>\n",
       "      <td>1</td>\n",
       "    </tr>\n",
       "  </tbody>\n",
       "</table>\n",
       "<p>48048 rows × 22 columns</p>\n",
       "</div>"
      ],
      "text/plain": [
       "       First_pokemon  Second_pokemon  Winner  id_x First_Type_1  First_Total  \\\n",
       "0                266             298     298   266         Rock          300   \n",
       "1                702             701     701   702        Grass          580   \n",
       "2                191             668     668   191        Fairy          405   \n",
       "3                237             683     683   237         Fire          250   \n",
       "4                151             231     151   151         Rock          495   \n",
       "...              ...             ...     ...   ...          ...          ...   \n",
       "48043            657             681     681   657          Bug          319   \n",
       "48044            707             126     707   707       Dragon          680   \n",
       "48045            589             664     589   589       Ground          328   \n",
       "48046            109              89     109   109     Electric          330   \n",
       "48047              9              73       9     9         Fire          634   \n",
       "\n",
       "       First_Hit_points  First_Attack  First_Defense  First_Special_attack  \\\n",
       "0                    50            64             50                    45   \n",
       "1                    91            90             72                    90   \n",
       "2                    55            40             85                    80   \n",
       "3                    40            40             40                    70   \n",
       "4                    70            60            125                   115   \n",
       "...                 ...           ...            ...                   ...   \n",
       "48043                50            47             50                    57   \n",
       "48044               100           120            100                   150   \n",
       "48045                60            85             40                    30   \n",
       "48046                40            30             50                    55   \n",
       "48047                78           104             78                   159   \n",
       "\n",
       "       ...  id_y  Second_Type_1  Second_Total Second_Hit_points  \\\n",
       "0      ...   298          Grass           340                70   \n",
       "1      ...   701           Rock           580                91   \n",
       "2      ...   668        Psychic           485                75   \n",
       "3      ...   683         Dragon           485                77   \n",
       "4      ...   231            Bug           505                20   \n",
       "...    ...   ...            ...           ...               ...   \n",
       "48043  ...   681       Fighting           350                45   \n",
       "48044  ...   126          Water           295                30   \n",
       "48045  ...   664       Electric           275                35   \n",
       "48046  ...    89       Electric           325                25   \n",
       "48047  ...    73       Fighting           305                70   \n",
       "\n",
       "       Second_Attack  Second_Defense  Second_Special_attack  \\\n",
       "0                 70              40                     60   \n",
       "1                129              90                     72   \n",
       "2                 75              75                    125   \n",
       "3                120              90                     60   \n",
       "4                 10             230                     10   \n",
       "...              ...             ...                    ...   \n",
       "48043             85              50                     55   \n",
       "48044             40              70                     70   \n",
       "48045             55              40                     45   \n",
       "48046             35              70                     95   \n",
       "48047             80              50                     35   \n",
       "\n",
       "       Second_Special_defense  Second_Speed  target  \n",
       "0                          40            60       0  \n",
       "1                          90           108       0  \n",
       "2                          95            40       0  \n",
       "3                          90            48       0  \n",
       "4                         230             5       1  \n",
       "...                       ...           ...     ...  \n",
       "48043                      50            65       0  \n",
       "48044                      25            60       1  \n",
       "48045                      40            60       1  \n",
       "48046                      55            45       1  \n",
       "48047                      35            35       1  \n",
       "\n",
       "[48048 rows x 22 columns]"
      ]
     },
     "execution_count": 118,
     "metadata": {},
     "output_type": "execute_result"
    }
   ],
   "source": [
    "df_joined_type2['target'] = (df_joined_type2['Winner'] == df_joined_type2['First_pokemon']).astype(int)\n",
    "df_joined_type2\n",
    "# Creating a target column where 1 indicates the first Pokemon won and 0 indicates the second Pokemon won"
   ]
  },
  {
   "cell_type": "code",
   "execution_count": null,
   "id": "27f8b898",
   "metadata": {},
   "outputs": [],
   "source": [
    "features = [\n",
    "    'First_Hit_points', 'First_Attack', 'First_Defense', 'First_Special_attack', 'First_Special_defense',\n",
    "    'Second_Hit_points', 'Second_Attack', 'Second_Defense', 'Second_Special_attack', 'Second_Special_defense'\n",
    "]\n",
    "# Selecting the features to be used in the ML model\n",
    "X = df_joined_type2[features]\n",
    "y = df_joined_type2['target']\n",
    "# Splitting the data into features (X) and target (y)\n",
    "#preview of the features and target for the ML model"
   ]
  },
  {
   "cell_type": "code",
   "execution_count": null,
   "id": "fc23a8dd",
   "metadata": {},
   "outputs": [
    {
     "data": {
      "text/html": [
       "<div>\n",
       "<style scoped>\n",
       "    .dataframe tbody tr th:only-of-type {\n",
       "        vertical-align: middle;\n",
       "    }\n",
       "\n",
       "    .dataframe tbody tr th {\n",
       "        vertical-align: top;\n",
       "    }\n",
       "\n",
       "    .dataframe thead th {\n",
       "        text-align: right;\n",
       "    }\n",
       "</style>\n",
       "<table border=\"1\" class=\"dataframe\">\n",
       "  <thead>\n",
       "    <tr style=\"text-align: right;\">\n",
       "      <th></th>\n",
       "      <th>First_pokemon</th>\n",
       "      <th>Second_pokemon</th>\n",
       "      <th>Winner</th>\n",
       "      <th>id_x</th>\n",
       "      <th>First_Type_1</th>\n",
       "      <th>First_Total</th>\n",
       "      <th>First_Hit_points</th>\n",
       "      <th>First_Attack</th>\n",
       "      <th>First_Defense</th>\n",
       "      <th>First_Special_attack</th>\n",
       "      <th>...</th>\n",
       "      <th>id_y</th>\n",
       "      <th>Second_Type_1</th>\n",
       "      <th>Second_Total</th>\n",
       "      <th>Second_Hit_points</th>\n",
       "      <th>Second_Attack</th>\n",
       "      <th>Second_Defense</th>\n",
       "      <th>Second_Special_attack</th>\n",
       "      <th>Second_Special_defense</th>\n",
       "      <th>Second_Speed</th>\n",
       "      <th>target</th>\n",
       "    </tr>\n",
       "  </thead>\n",
       "  <tbody>\n",
       "    <tr>\n",
       "      <th>0</th>\n",
       "      <td>266</td>\n",
       "      <td>298</td>\n",
       "      <td>298</td>\n",
       "      <td>266</td>\n",
       "      <td>Rock</td>\n",
       "      <td>300</td>\n",
       "      <td>50</td>\n",
       "      <td>64</td>\n",
       "      <td>50</td>\n",
       "      <td>45</td>\n",
       "      <td>...</td>\n",
       "      <td>298</td>\n",
       "      <td>Grass</td>\n",
       "      <td>340</td>\n",
       "      <td>70</td>\n",
       "      <td>70</td>\n",
       "      <td>40</td>\n",
       "      <td>60</td>\n",
       "      <td>40</td>\n",
       "      <td>60</td>\n",
       "      <td>0</td>\n",
       "    </tr>\n",
       "    <tr>\n",
       "      <th>1</th>\n",
       "      <td>702</td>\n",
       "      <td>701</td>\n",
       "      <td>701</td>\n",
       "      <td>702</td>\n",
       "      <td>Grass</td>\n",
       "      <td>580</td>\n",
       "      <td>91</td>\n",
       "      <td>90</td>\n",
       "      <td>72</td>\n",
       "      <td>90</td>\n",
       "      <td>...</td>\n",
       "      <td>701</td>\n",
       "      <td>Rock</td>\n",
       "      <td>580</td>\n",
       "      <td>91</td>\n",
       "      <td>129</td>\n",
       "      <td>90</td>\n",
       "      <td>72</td>\n",
       "      <td>90</td>\n",
       "      <td>108</td>\n",
       "      <td>0</td>\n",
       "    </tr>\n",
       "    <tr>\n",
       "      <th>2</th>\n",
       "      <td>191</td>\n",
       "      <td>668</td>\n",
       "      <td>668</td>\n",
       "      <td>191</td>\n",
       "      <td>Fairy</td>\n",
       "      <td>405</td>\n",
       "      <td>55</td>\n",
       "      <td>40</td>\n",
       "      <td>85</td>\n",
       "      <td>80</td>\n",
       "      <td>...</td>\n",
       "      <td>668</td>\n",
       "      <td>Psychic</td>\n",
       "      <td>485</td>\n",
       "      <td>75</td>\n",
       "      <td>75</td>\n",
       "      <td>75</td>\n",
       "      <td>125</td>\n",
       "      <td>95</td>\n",
       "      <td>40</td>\n",
       "      <td>0</td>\n",
       "    </tr>\n",
       "    <tr>\n",
       "      <th>3</th>\n",
       "      <td>237</td>\n",
       "      <td>683</td>\n",
       "      <td>683</td>\n",
       "      <td>237</td>\n",
       "      <td>Fire</td>\n",
       "      <td>250</td>\n",
       "      <td>40</td>\n",
       "      <td>40</td>\n",
       "      <td>40</td>\n",
       "      <td>70</td>\n",
       "      <td>...</td>\n",
       "      <td>683</td>\n",
       "      <td>Dragon</td>\n",
       "      <td>485</td>\n",
       "      <td>77</td>\n",
       "      <td>120</td>\n",
       "      <td>90</td>\n",
       "      <td>60</td>\n",
       "      <td>90</td>\n",
       "      <td>48</td>\n",
       "      <td>0</td>\n",
       "    </tr>\n",
       "    <tr>\n",
       "      <th>4</th>\n",
       "      <td>151</td>\n",
       "      <td>231</td>\n",
       "      <td>151</td>\n",
       "      <td>151</td>\n",
       "      <td>Rock</td>\n",
       "      <td>495</td>\n",
       "      <td>70</td>\n",
       "      <td>60</td>\n",
       "      <td>125</td>\n",
       "      <td>115</td>\n",
       "      <td>...</td>\n",
       "      <td>231</td>\n",
       "      <td>Bug</td>\n",
       "      <td>505</td>\n",
       "      <td>20</td>\n",
       "      <td>10</td>\n",
       "      <td>230</td>\n",
       "      <td>10</td>\n",
       "      <td>230</td>\n",
       "      <td>5</td>\n",
       "      <td>1</td>\n",
       "    </tr>\n",
       "    <tr>\n",
       "      <th>...</th>\n",
       "      <td>...</td>\n",
       "      <td>...</td>\n",
       "      <td>...</td>\n",
       "      <td>...</td>\n",
       "      <td>...</td>\n",
       "      <td>...</td>\n",
       "      <td>...</td>\n",
       "      <td>...</td>\n",
       "      <td>...</td>\n",
       "      <td>...</td>\n",
       "      <td>...</td>\n",
       "      <td>...</td>\n",
       "      <td>...</td>\n",
       "      <td>...</td>\n",
       "      <td>...</td>\n",
       "      <td>...</td>\n",
       "      <td>...</td>\n",
       "      <td>...</td>\n",
       "      <td>...</td>\n",
       "      <td>...</td>\n",
       "      <td>...</td>\n",
       "    </tr>\n",
       "    <tr>\n",
       "      <th>48043</th>\n",
       "      <td>657</td>\n",
       "      <td>681</td>\n",
       "      <td>681</td>\n",
       "      <td>657</td>\n",
       "      <td>Bug</td>\n",
       "      <td>319</td>\n",
       "      <td>50</td>\n",
       "      <td>47</td>\n",
       "      <td>50</td>\n",
       "      <td>57</td>\n",
       "      <td>...</td>\n",
       "      <td>681</td>\n",
       "      <td>Fighting</td>\n",
       "      <td>350</td>\n",
       "      <td>45</td>\n",
       "      <td>85</td>\n",
       "      <td>50</td>\n",
       "      <td>55</td>\n",
       "      <td>50</td>\n",
       "      <td>65</td>\n",
       "      <td>0</td>\n",
       "    </tr>\n",
       "    <tr>\n",
       "      <th>48044</th>\n",
       "      <td>707</td>\n",
       "      <td>126</td>\n",
       "      <td>707</td>\n",
       "      <td>707</td>\n",
       "      <td>Dragon</td>\n",
       "      <td>680</td>\n",
       "      <td>100</td>\n",
       "      <td>120</td>\n",
       "      <td>100</td>\n",
       "      <td>150</td>\n",
       "      <td>...</td>\n",
       "      <td>126</td>\n",
       "      <td>Water</td>\n",
       "      <td>295</td>\n",
       "      <td>30</td>\n",
       "      <td>40</td>\n",
       "      <td>70</td>\n",
       "      <td>70</td>\n",
       "      <td>25</td>\n",
       "      <td>60</td>\n",
       "      <td>1</td>\n",
       "    </tr>\n",
       "    <tr>\n",
       "      <th>48045</th>\n",
       "      <td>589</td>\n",
       "      <td>664</td>\n",
       "      <td>589</td>\n",
       "      <td>589</td>\n",
       "      <td>Ground</td>\n",
       "      <td>328</td>\n",
       "      <td>60</td>\n",
       "      <td>85</td>\n",
       "      <td>40</td>\n",
       "      <td>30</td>\n",
       "      <td>...</td>\n",
       "      <td>664</td>\n",
       "      <td>Electric</td>\n",
       "      <td>275</td>\n",
       "      <td>35</td>\n",
       "      <td>55</td>\n",
       "      <td>40</td>\n",
       "      <td>45</td>\n",
       "      <td>40</td>\n",
       "      <td>60</td>\n",
       "      <td>1</td>\n",
       "    </tr>\n",
       "    <tr>\n",
       "      <th>48046</th>\n",
       "      <td>109</td>\n",
       "      <td>89</td>\n",
       "      <td>109</td>\n",
       "      <td>109</td>\n",
       "      <td>Electric</td>\n",
       "      <td>330</td>\n",
       "      <td>40</td>\n",
       "      <td>30</td>\n",
       "      <td>50</td>\n",
       "      <td>55</td>\n",
       "      <td>...</td>\n",
       "      <td>89</td>\n",
       "      <td>Electric</td>\n",
       "      <td>325</td>\n",
       "      <td>25</td>\n",
       "      <td>35</td>\n",
       "      <td>70</td>\n",
       "      <td>95</td>\n",
       "      <td>55</td>\n",
       "      <td>45</td>\n",
       "      <td>1</td>\n",
       "    </tr>\n",
       "    <tr>\n",
       "      <th>48047</th>\n",
       "      <td>9</td>\n",
       "      <td>73</td>\n",
       "      <td>9</td>\n",
       "      <td>9</td>\n",
       "      <td>Fire</td>\n",
       "      <td>634</td>\n",
       "      <td>78</td>\n",
       "      <td>104</td>\n",
       "      <td>78</td>\n",
       "      <td>159</td>\n",
       "      <td>...</td>\n",
       "      <td>73</td>\n",
       "      <td>Fighting</td>\n",
       "      <td>305</td>\n",
       "      <td>70</td>\n",
       "      <td>80</td>\n",
       "      <td>50</td>\n",
       "      <td>35</td>\n",
       "      <td>35</td>\n",
       "      <td>35</td>\n",
       "      <td>1</td>\n",
       "    </tr>\n",
       "  </tbody>\n",
       "</table>\n",
       "<p>48048 rows × 22 columns</p>\n",
       "</div>"
      ],
      "text/plain": [
       "       First_pokemon  Second_pokemon  Winner  id_x First_Type_1  First_Total  \\\n",
       "0                266             298     298   266         Rock          300   \n",
       "1                702             701     701   702        Grass          580   \n",
       "2                191             668     668   191        Fairy          405   \n",
       "3                237             683     683   237         Fire          250   \n",
       "4                151             231     151   151         Rock          495   \n",
       "...              ...             ...     ...   ...          ...          ...   \n",
       "48043            657             681     681   657          Bug          319   \n",
       "48044            707             126     707   707       Dragon          680   \n",
       "48045            589             664     589   589       Ground          328   \n",
       "48046            109              89     109   109     Electric          330   \n",
       "48047              9              73       9     9         Fire          634   \n",
       "\n",
       "       First_Hit_points  First_Attack  First_Defense  First_Special_attack  \\\n",
       "0                    50            64             50                    45   \n",
       "1                    91            90             72                    90   \n",
       "2                    55            40             85                    80   \n",
       "3                    40            40             40                    70   \n",
       "4                    70            60            125                   115   \n",
       "...                 ...           ...            ...                   ...   \n",
       "48043                50            47             50                    57   \n",
       "48044               100           120            100                   150   \n",
       "48045                60            85             40                    30   \n",
       "48046                40            30             50                    55   \n",
       "48047                78           104             78                   159   \n",
       "\n",
       "       ...  id_y  Second_Type_1  Second_Total Second_Hit_points  \\\n",
       "0      ...   298          Grass           340                70   \n",
       "1      ...   701           Rock           580                91   \n",
       "2      ...   668        Psychic           485                75   \n",
       "3      ...   683         Dragon           485                77   \n",
       "4      ...   231            Bug           505                20   \n",
       "...    ...   ...            ...           ...               ...   \n",
       "48043  ...   681       Fighting           350                45   \n",
       "48044  ...   126          Water           295                30   \n",
       "48045  ...   664       Electric           275                35   \n",
       "48046  ...    89       Electric           325                25   \n",
       "48047  ...    73       Fighting           305                70   \n",
       "\n",
       "       Second_Attack  Second_Defense  Second_Special_attack  \\\n",
       "0                 70              40                     60   \n",
       "1                129              90                     72   \n",
       "2                 75              75                    125   \n",
       "3                120              90                     60   \n",
       "4                 10             230                     10   \n",
       "...              ...             ...                    ...   \n",
       "48043             85              50                     55   \n",
       "48044             40              70                     70   \n",
       "48045             55              40                     45   \n",
       "48046             35              70                     95   \n",
       "48047             80              50                     35   \n",
       "\n",
       "       Second_Special_defense  Second_Speed  target  \n",
       "0                          40            60       0  \n",
       "1                          90           108       0  \n",
       "2                          95            40       0  \n",
       "3                          90            48       0  \n",
       "4                         230             5       1  \n",
       "...                       ...           ...     ...  \n",
       "48043                      50            65       0  \n",
       "48044                      25            60       1  \n",
       "48045                      40            60       1  \n",
       "48046                      55            45       1  \n",
       "48047                      35            35       1  \n",
       "\n",
       "[48048 rows x 22 columns]"
      ]
     },
     "execution_count": 121,
     "metadata": {},
     "output_type": "execute_result"
    }
   ],
   "source": [
    "df_joined_type2\n",
    "#checking the final dataframe before saving it to a CSV file"
   ]
  },
  {
   "cell_type": "code",
   "execution_count": null,
   "id": "b2a42ee1",
   "metadata": {},
   "outputs": [],
   "source": [
    "#Load Data to \"Dataset/cleaned\":\n",
    "#df_joined_type2.to_csv('Dataset/cleaned/combined_ml.csv', index=False)"
   ]
  },
  {
   "cell_type": "code",
   "execution_count": null,
   "id": "3b90e747",
   "metadata": {},
   "outputs": [],
   "source": []
  }
 ],
 "metadata": {
  "kernelspec": {
   "display_name": "Python 3",
   "language": "python",
   "name": "python3"
  },
  "language_info": {
   "codemirror_mode": {
    "name": "ipython",
    "version": 3
   },
   "file_extension": ".py",
   "mimetype": "text/x-python",
   "name": "python",
   "nbconvert_exporter": "python",
   "pygments_lexer": "ipython3",
   "version": "3.12.8"
  }
 },
 "nbformat": 4,
 "nbformat_minor": 5
}
