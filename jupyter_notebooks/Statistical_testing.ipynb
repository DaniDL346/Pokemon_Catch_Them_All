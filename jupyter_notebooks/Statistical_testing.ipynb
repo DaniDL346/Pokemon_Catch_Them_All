{
 "cells": [
  {
   "cell_type": "markdown",
   "id": "1afe41fe",
   "metadata": {},
   "source": [
    "## Section 4: Statistical Testing"
   ]
  },
  {
   "cell_type": "markdown",
   "id": "00df13fb",
   "metadata": {},
   "source": [
    "## Objectives"
   ]
  },
  {
   "cell_type": "markdown",
   "id": "9d4ac689",
   "metadata": {},
   "source": [
    "- Understand and apply appropriate statistical tests to analyze data and draw meaningful conclusions."
   ]
  },
  {
   "cell_type": "markdown",
   "id": "f7408ad0",
   "metadata": {},
   "source": [
    "## Input Data"
   ]
  },
  {
   "cell_type": "markdown",
   "id": "cbafab2c",
   "metadata": {},
   "source": [
    "Dataset/cleaned/combined_ml.csv"
   ]
  },
  {
   "cell_type": "markdown",
   "id": "d5a6357f",
   "metadata": {},
   "source": [
    "___"
   ]
  },
  {
   "cell_type": "code",
   "execution_count": 1,
   "id": "ce8ec958",
   "metadata": {},
   "outputs": [
    {
     "data": {
      "text/plain": [
       "'/Users/danielledelouw/Documents/code_institute/Pokemon_catch_them_all/Pokemon_Catch_Them_All/jupyter_notebooks'"
      ]
     },
     "execution_count": 1,
     "metadata": {},
     "output_type": "execute_result"
    }
   ],
   "source": [
    "import os\n",
    "current_dir = os.getcwd()\n",
    "current_dir"
   ]
  },
  {
   "cell_type": "markdown",
   "id": "5827f31b",
   "metadata": {},
   "source": []
  },
  {
   "cell_type": "code",
   "execution_count": 2,
   "id": "aa4da99d",
   "metadata": {},
   "outputs": [
    {
     "name": "stdout",
     "output_type": "stream",
     "text": [
      "You set a new current directory\n"
     ]
    }
   ],
   "source": [
    "os.chdir(os.path.dirname(current_dir))\n",
    "print(\"You set a new current directory\")"
   ]
  },
  {
   "cell_type": "code",
   "execution_count": 3,
   "id": "e1ec01f9",
   "metadata": {},
   "outputs": [
    {
     "data": {
      "text/plain": [
       "'/Users/danielledelouw/Documents/code_institute/Pokemon_catch_them_all/Pokemon_Catch_Them_All'"
      ]
     },
     "execution_count": 3,
     "metadata": {},
     "output_type": "execute_result"
    }
   ],
   "source": [
    "current_dir = os.getcwd()\n",
    "current_dir"
   ]
  },
  {
   "cell_type": "markdown",
   "id": "de6a641e",
   "metadata": {},
   "source": [
    "## Load Python Libraries"
   ]
  },
  {
   "cell_type": "code",
   "execution_count": 4,
   "id": "20edc7af",
   "metadata": {},
   "outputs": [],
   "source": [
    "import pandas as pd\n",
    "from scipy import stats\n",
    "\n",
    "\n",
    "\n"
   ]
  },
  {
   "cell_type": "markdown",
   "id": "35aaa860",
   "metadata": {},
   "source": [
    "## Load Data"
   ]
  },
  {
   "cell_type": "code",
   "execution_count": 5,
   "id": "d5274d99",
   "metadata": {},
   "outputs": [
    {
     "data": {
      "text/html": [
       "<div>\n",
       "<style scoped>\n",
       "    .dataframe tbody tr th:only-of-type {\n",
       "        vertical-align: middle;\n",
       "    }\n",
       "\n",
       "    .dataframe tbody tr th {\n",
       "        vertical-align: top;\n",
       "    }\n",
       "\n",
       "    .dataframe thead th {\n",
       "        text-align: right;\n",
       "    }\n",
       "</style>\n",
       "<table border=\"1\" class=\"dataframe\">\n",
       "  <thead>\n",
       "    <tr style=\"text-align: right;\">\n",
       "      <th></th>\n",
       "      <th>First_pokemon</th>\n",
       "      <th>Second_pokemon</th>\n",
       "      <th>Winner</th>\n",
       "      <th>id_x</th>\n",
       "      <th>First_Type_1</th>\n",
       "      <th>First_Total</th>\n",
       "      <th>First_Hit_points</th>\n",
       "      <th>First_Attack</th>\n",
       "      <th>First_Defense</th>\n",
       "      <th>First_Special_attack</th>\n",
       "      <th>...</th>\n",
       "      <th>id_y</th>\n",
       "      <th>Second_Type_1</th>\n",
       "      <th>Second_Total</th>\n",
       "      <th>Second_Hit_points</th>\n",
       "      <th>Second_Attack</th>\n",
       "      <th>Second_Defense</th>\n",
       "      <th>Second_Special_attack</th>\n",
       "      <th>Second_Special_defense</th>\n",
       "      <th>Second_Speed</th>\n",
       "      <th>target</th>\n",
       "    </tr>\n",
       "  </thead>\n",
       "  <tbody>\n",
       "    <tr>\n",
       "      <th>0</th>\n",
       "      <td>266</td>\n",
       "      <td>298</td>\n",
       "      <td>298</td>\n",
       "      <td>266</td>\n",
       "      <td>Rock</td>\n",
       "      <td>300</td>\n",
       "      <td>50</td>\n",
       "      <td>64</td>\n",
       "      <td>50</td>\n",
       "      <td>45</td>\n",
       "      <td>...</td>\n",
       "      <td>298</td>\n",
       "      <td>Grass</td>\n",
       "      <td>340</td>\n",
       "      <td>70</td>\n",
       "      <td>70</td>\n",
       "      <td>40</td>\n",
       "      <td>60</td>\n",
       "      <td>40</td>\n",
       "      <td>60</td>\n",
       "      <td>0</td>\n",
       "    </tr>\n",
       "    <tr>\n",
       "      <th>1</th>\n",
       "      <td>702</td>\n",
       "      <td>701</td>\n",
       "      <td>701</td>\n",
       "      <td>702</td>\n",
       "      <td>Grass</td>\n",
       "      <td>580</td>\n",
       "      <td>91</td>\n",
       "      <td>90</td>\n",
       "      <td>72</td>\n",
       "      <td>90</td>\n",
       "      <td>...</td>\n",
       "      <td>701</td>\n",
       "      <td>Rock</td>\n",
       "      <td>580</td>\n",
       "      <td>91</td>\n",
       "      <td>129</td>\n",
       "      <td>90</td>\n",
       "      <td>72</td>\n",
       "      <td>90</td>\n",
       "      <td>108</td>\n",
       "      <td>0</td>\n",
       "    </tr>\n",
       "    <tr>\n",
       "      <th>2</th>\n",
       "      <td>191</td>\n",
       "      <td>668</td>\n",
       "      <td>668</td>\n",
       "      <td>191</td>\n",
       "      <td>Fairy</td>\n",
       "      <td>405</td>\n",
       "      <td>55</td>\n",
       "      <td>40</td>\n",
       "      <td>85</td>\n",
       "      <td>80</td>\n",
       "      <td>...</td>\n",
       "      <td>668</td>\n",
       "      <td>Psychic</td>\n",
       "      <td>485</td>\n",
       "      <td>75</td>\n",
       "      <td>75</td>\n",
       "      <td>75</td>\n",
       "      <td>125</td>\n",
       "      <td>95</td>\n",
       "      <td>40</td>\n",
       "      <td>0</td>\n",
       "    </tr>\n",
       "    <tr>\n",
       "      <th>3</th>\n",
       "      <td>237</td>\n",
       "      <td>683</td>\n",
       "      <td>683</td>\n",
       "      <td>237</td>\n",
       "      <td>Fire</td>\n",
       "      <td>250</td>\n",
       "      <td>40</td>\n",
       "      <td>40</td>\n",
       "      <td>40</td>\n",
       "      <td>70</td>\n",
       "      <td>...</td>\n",
       "      <td>683</td>\n",
       "      <td>Dragon</td>\n",
       "      <td>485</td>\n",
       "      <td>77</td>\n",
       "      <td>120</td>\n",
       "      <td>90</td>\n",
       "      <td>60</td>\n",
       "      <td>90</td>\n",
       "      <td>48</td>\n",
       "      <td>0</td>\n",
       "    </tr>\n",
       "    <tr>\n",
       "      <th>4</th>\n",
       "      <td>151</td>\n",
       "      <td>231</td>\n",
       "      <td>151</td>\n",
       "      <td>151</td>\n",
       "      <td>Rock</td>\n",
       "      <td>495</td>\n",
       "      <td>70</td>\n",
       "      <td>60</td>\n",
       "      <td>125</td>\n",
       "      <td>115</td>\n",
       "      <td>...</td>\n",
       "      <td>231</td>\n",
       "      <td>Bug</td>\n",
       "      <td>505</td>\n",
       "      <td>20</td>\n",
       "      <td>10</td>\n",
       "      <td>230</td>\n",
       "      <td>10</td>\n",
       "      <td>230</td>\n",
       "      <td>5</td>\n",
       "      <td>1</td>\n",
       "    </tr>\n",
       "  </tbody>\n",
       "</table>\n",
       "<p>5 rows × 22 columns</p>\n",
       "</div>"
      ],
      "text/plain": [
       "   First_pokemon  Second_pokemon  Winner  id_x First_Type_1  First_Total  \\\n",
       "0            266             298     298   266         Rock          300   \n",
       "1            702             701     701   702        Grass          580   \n",
       "2            191             668     668   191        Fairy          405   \n",
       "3            237             683     683   237         Fire          250   \n",
       "4            151             231     151   151         Rock          495   \n",
       "\n",
       "   First_Hit_points  First_Attack  First_Defense  First_Special_attack  ...  \\\n",
       "0                50            64             50                    45  ...   \n",
       "1                91            90             72                    90  ...   \n",
       "2                55            40             85                    80  ...   \n",
       "3                40            40             40                    70  ...   \n",
       "4                70            60            125                   115  ...   \n",
       "\n",
       "   id_y  Second_Type_1  Second_Total Second_Hit_points  Second_Attack  \\\n",
       "0   298          Grass           340                70             70   \n",
       "1   701           Rock           580                91            129   \n",
       "2   668        Psychic           485                75             75   \n",
       "3   683         Dragon           485                77            120   \n",
       "4   231            Bug           505                20             10   \n",
       "\n",
       "   Second_Defense  Second_Special_attack  Second_Special_defense  \\\n",
       "0              40                     60                      40   \n",
       "1              90                     72                      90   \n",
       "2              75                    125                      95   \n",
       "3              90                     60                      90   \n",
       "4             230                     10                     230   \n",
       "\n",
       "   Second_Speed  target  \n",
       "0            60       0  \n",
       "1           108       0  \n",
       "2            40       0  \n",
       "3            48       0  \n",
       "4             5       1  \n",
       "\n",
       "[5 rows x 22 columns]"
      ]
     },
     "execution_count": 5,
     "metadata": {},
     "output_type": "execute_result"
    }
   ],
   "source": [
    "# Load the dataset\n",
    "df = pd.read_csv('Dataset/cleaned/combined_ml.csv')\n",
    "df.head()"
   ]
  },
  {
   "cell_type": "code",
   "execution_count": null,
   "id": "46732c50",
   "metadata": {},
   "outputs": [
    {
     "name": "stdout",
     "output_type": "stream",
     "text": [
      " Paired t-test (First_Total vs Second_Total):\n",
      "  t-statistic = 0.4216\n",
      "  p-value     = 0.6733\n",
      " There is no significant difference in total stats between the first and second Pokémon.\n",
      "\n"
     ]
    }
   ],
   "source": [
    "# 1. Paired t-test: First_Total vs Second_Total - Is there a significant difference in total stats between the first and second Pokémon?\n",
    "t_stat, t_pval = stats.ttest_rel(df['First_Total'], df['Second_Total'])\n",
    "print(\" Paired t-test (First_Total vs Second_Total):\")\n",
    "print(f\"  t-statistic = {t_stat:.4f}\")\n",
    "print(f\"  p-value     = {t_pval:.4f}\")\n",
    "if t_pval < 0.05:\n",
    "    print(\"There is a significant difference in total stats between the first and second Pokémon.\")\n",
    "else:\n",
    "    print(\" There is no significant difference in total stats between the first and second Pokémon.\")\n",
    "print()\n",
    "\n"
   ]
  },
  {
   "cell_type": "code",
   "execution_count": 8,
   "id": "f06f4f72",
   "metadata": {},
   "outputs": [
    {
     "name": "stdout",
     "output_type": "stream",
     "text": [
      "Chi-Squared Test (First_Type_1 vs Target):\n",
      "  Chi² statistic     = 1230.0036\n",
      "  p-value            = 0.0000\n",
      "  Degrees of freedom = 17\n",
      "Pokémon type is significantly associated with the battle outcome.\n",
      "\n"
     ]
    }
   ],
   "source": [
    "# 2. Chi-Squared Test: First_Type_1 vs Target\n",
    "# Create a contingency table of First_Type_1 vs target\n",
    "chi_table = pd.crosstab(df['First_Type_1'], df['target'])\n",
    "\n",
    "# Perform the Chi-Squared test\n",
    "chi2_stat, chi2_pval, chi2_dof, chi2_expected = stats.chi2_contingency(chi_table)\n",
    "\n",
    "# Print the results\n",
    "print(\"Chi-Squared Test (First_Type_1 vs Target):\")\n",
    "print(f\"  Chi² statistic     = {chi2_stat:.4f}\")\n",
    "print(f\"  p-value            = {chi2_pval:.4f}\")\n",
    "print(f\"  Degrees of freedom = {chi2_dof}\")\n",
    "\n",
    "# Interpret the result\n",
    "if chi2_pval < 0.05:\n",
    "    print(\"Pokémon type is significantly associated with the battle outcome.\")\n",
    "else:\n",
    "    print(\"Pokémon type is not significantly associated with the battle outcome.\")\n",
    "print()"
   ]
  },
  {
   "cell_type": "code",
   "execution_count": 10,
   "id": "e29e0f4a",
   "metadata": {},
   "outputs": [
    {
     "name": "stdout",
     "output_type": "stream",
     "text": [
      "Pearson Correlation (First_Speed vs Target):\n",
      "  Correlation coefficient = 0.4907\n",
      "  p-value                 = 0.0000\n",
      "There is a significant correlation between speed and winning.\n",
      "\n"
     ]
    }
   ],
   "source": [
    "# 3. Pearson Correlation: First_Speed vs Target ===\n",
    "corr, corr_pval = stats.pearsonr(df['First_Speed'], df['target'])\n",
    "print(\"Pearson Correlation (First_Speed vs Target):\")\n",
    "print(f\"  Correlation coefficient = {corr:.4f}\")\n",
    "print(f\"  p-value                 = {corr_pval:.4f}\")\n",
    "if corr_pval < 0.05:\n",
    "    print(\"There is a significant correlation between speed and winning.\")\n",
    "else:\n",
    "    print(\"There is no significant correlation between speed and winning.\")\n",
    "print()"
   ]
  },
  {
   "cell_type": "code",
   "execution_count": 11,
   "id": "3fef0ace",
   "metadata": {},
   "outputs": [
    {
     "name": "stdout",
     "output_type": "stream",
     "text": [
      "Mann-Whitney U Test (First_Attack - Winners vs Losers):\n",
      "  U statistic = 374506418.5000\n",
      "  p-value     = 0.0000\n",
      "The attack values of winners and losers are significantly different.\n"
     ]
    }
   ],
   "source": [
    "# 4. Mann-Whitney U Test: First_Attack (Winners vs Losers) ===\n",
    "winners = df[df['Winner'] == df['First_pokemon']]['First_Attack']\n",
    "losers = df[df['Winner'] != df['First_pokemon']]['First_Attack']\n",
    "mw_stat, mw_pval = stats.mannwhitneyu(winners, losers, alternative='two-sided')\n",
    "print(\"Mann-Whitney U Test (First_Attack - Winners vs Losers):\")\n",
    "print(f\"  U statistic = {mw_stat:.4f}\")\n",
    "print(f\"  p-value     = {mw_pval:.4f}\")\n",
    "if mw_pval < 0.05:\n",
    "    print(\"The attack values of winners and losers are significantly different.\")\n",
    "else:\n",
    "    print(\"There is no significant difference in attack values between winners and losers.\")"
   ]
  },
  {
   "cell_type": "markdown",
   "id": "0660db62",
   "metadata": {},
   "source": [
    "### Summary of Statistical Test Results\n",
    "\n",
    "- **Paired t-test (First_Total vs Second_Total):**\n",
    "    - *t-statistic*: 0.4216\n",
    "    - *p-value*: 0.6733  \n",
    "    There is **no significant difference** in total stats between the first and second Pokémon.\n",
    "\n",
    "- **Chi-Squared Test (First_Type_1 vs Target):**\n",
    "    - *Chi² statistic*: 1230.0036\n",
    "    - *Degrees of freedom*: 17\n",
    "    - *p-value*: 4.82e-251  \n",
    "    Pokémon type is **significantly associated** with the battle outcome.\n",
    "\n",
    "- **Pearson Correlation (First_Speed vs Target):**\n",
    "    - *Correlation coefficient*: 0.4907\n",
    "    - *p-value*: 0.0  \n",
    "    There is a **significant positive correlation** between speed and winning.\n",
    "\n",
    "- **Mann-Whitney U Test (First_Attack - Winners vs Losers):**\n",
    "    - *U statistic*: 374506418.5\n",
    "    - *p-value*: 0.0  \n",
    "    The attack values of winners and losers are **significantly different**."
   ]
  },
  {
   "cell_type": "markdown",
   "id": "c7a7901d",
   "metadata": {},
   "source": []
  }
 ],
 "metadata": {
  "kernelspec": {
   "display_name": "Python 3",
   "language": "python",
   "name": "python3"
  },
  "language_info": {
   "codemirror_mode": {
    "name": "ipython",
    "version": 3
   },
   "file_extension": ".py",
   "mimetype": "text/x-python",
   "name": "python",
   "nbconvert_exporter": "python",
   "pygments_lexer": "ipython3",
   "version": "3.12.8"
  }
 },
 "nbformat": 4,
 "nbformat_minor": 5
}
